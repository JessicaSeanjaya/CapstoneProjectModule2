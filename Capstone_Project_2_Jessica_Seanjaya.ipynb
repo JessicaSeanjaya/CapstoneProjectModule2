{
 "cells": [
  {
   "attachments": {},
   "cell_type": "markdown",
   "metadata": {},
   "source": [
    "# **CAPSTONE PROJECT 2**\n",
    "## **PAKISTAN'S LARGEST E-COMMERCE DATASET**\n",
    "BY : JESSICA SEANJAYA"
   ]
  },
  {
   "attachments": {},
   "cell_type": "markdown",
   "metadata": {},
   "source": [
    "## **Latar Belakang**"
   ]
  },
  {
   "attachments": {},
   "cell_type": "markdown",
   "metadata": {},
   "source": [
    "Seorang pengusaha merekrut seorang 'data analyst' untuk dapat mengetahui produk yang akan dijual, produk ini rencananya akan dipasarkan di Pakistan melalui e-commerce.\n",
    "Untuk menemukan insight tersebut, data analyst diminta untuk melakukan analisa pada free data tentang penjualan produk di e-commerce Pakistan pada bulan Juli 2016 hingga Agustus 2018."
   ]
  },
  {
   "attachments": {},
   "cell_type": "markdown",
   "metadata": {},
   "source": [
    "## **Penyelesaian Masalah** "
   ]
  },
  {
   "attachments": {},
   "cell_type": "markdown",
   "metadata": {},
   "source": [
    "Pengusaha ingin mengetahui **produk apa saja yang merupakan produk dengan penjualan tertinggi di e-commerce.** Tentunya informasi ini akan sangat berguna untuk menentukan produk apa yang akan dijual di e-commerce Pakistan serta kapan periode yang paling tepat untuk menjual produk tersebut. \n",
    "Sebagai seorang data analyst saya akan mencoba menjawab beberapa pertanyaan sebagai berikut:\n",
    "1. Kapan periode transaksi paling tinggi ?\n",
    "2. Apakah kategori produk paling laku (best-selling item) ?\n",
    "3. Apakah metode pembayaran yang paling sering digunakan ?\n",
    "4. Bagaimana kondisi status transaksi dari periode Juni 2016 hingga Agustus 2018 ?\n",
    "5. Apakah terdapat hubungan antara metode pembayaran dan status pemesanan ?\n",
    "6. Kapan periode diskon diberikan paling banyak ? "
   ]
  },
  {
   "attachments": {},
   "cell_type": "markdown",
   "metadata": {},
   "source": [
    "## **Data**"
   ]
  },
  {
   "attachments": {},
   "cell_type": "markdown",
   "metadata": {},
   "source": [
    "Untuk dapat menjawab pertanyaan di atas, kita akan menganalisa data transaksi melalui e-commerce di Pakistan pada bulan Juli 2016 hingga Agustus 2018 yang dapat diakses [disini](https://www.kaggle.com/datasets/zusmani/pakistans-largest-ecommerce-dataset)."
   ]
  },
  {
   "cell_type": "code",
   "execution_count": 1,
   "metadata": {},
   "outputs": [],
   "source": [
    "import pandas as pd\n",
    "import numpy as np\n",
    "import matplotlib.pyplot as plt\n",
    "import seaborn as sns\n",
    "import plotly.express as px\n",
    "from scipy.stats import normaltest, chi2_contingency, mannwhitneyu, ttest_ind\n",
    "\n",
    "import warnings\n",
    "warnings.filterwarnings('ignore')"
   ]
  },
  {
   "cell_type": "code",
   "execution_count": 2,
   "metadata": {},
   "outputs": [],
   "source": [
    "df=pd.read_csv('E:\\Purwadhika\\Course\\Module2\\Capstone Project 2\\Pakistan Largest Ecommerce Dataset.csv')"
   ]
  },
  {
   "cell_type": "code",
   "execution_count": 3,
   "metadata": {},
   "outputs": [
    {
     "name": "stdout",
     "output_type": "stream",
     "text": [
      "<class 'pandas.core.frame.DataFrame'>\n",
      "RangeIndex: 1048575 entries, 0 to 1048574\n",
      "Data columns (total 26 columns):\n",
      " #   Column                 Non-Null Count   Dtype  \n",
      "---  ------                 --------------   -----  \n",
      " 0   item_id                584524 non-null  float64\n",
      " 1   status                 584509 non-null  object \n",
      " 2   created_at             584524 non-null  object \n",
      " 3   sku                    584504 non-null  object \n",
      " 4   price                  584524 non-null  float64\n",
      " 5   qty_ordered            584524 non-null  float64\n",
      " 6   grand_total            584524 non-null  float64\n",
      " 7   increment_id           584524 non-null  object \n",
      " 8   category_name_1        584360 non-null  object \n",
      " 9   sales_commission_code  447349 non-null  object \n",
      " 10  discount_amount        584524 non-null  float64\n",
      " 11  payment_method         584524 non-null  object \n",
      " 12  Working Date           584524 non-null  object \n",
      " 13  BI Status              584524 non-null  object \n",
      " 14   MV                    584524 non-null  object \n",
      " 15  Year                   584524 non-null  float64\n",
      " 16  Month                  584524 non-null  float64\n",
      " 17  Customer Since         584513 non-null  object \n",
      " 18  M-Y                    584524 non-null  object \n",
      " 19  FY                     584524 non-null  object \n",
      " 20  Customer ID            584513 non-null  float64\n",
      " 21  Unnamed: 21            0 non-null       float64\n",
      " 22  Unnamed: 22            0 non-null       float64\n",
      " 23  Unnamed: 23            0 non-null       float64\n",
      " 24  Unnamed: 24            0 non-null       float64\n",
      " 25  Unnamed: 25            0 non-null       float64\n",
      "dtypes: float64(13), object(13)\n",
      "memory usage: 208.0+ MB\n"
     ]
    }
   ],
   "source": [
    "df.info()"
   ]
  },
  {
   "attachments": {},
   "cell_type": "markdown",
   "metadata": {},
   "source": [
    "Dataset ini berisi informasi kolom sebagai berikut:\n",
    "1. item_id = kode identitas pemesanan\n",
    "2. status = status pemesanan\n",
    "3. created_at = tanggal pesanan\n",
    "4. sku = kode produk\n",
    "5. price = harga produk\n",
    "6. qty_ordered = kuantitas barang yang dipesan\n",
    "7. grand_total = total harga pemesanan\n",
    "8. increment_id = kode struk\n",
    "9. category_name_1 = kategori barang\n",
    "10. sales_commission_code = kode komisi penjualan\n",
    "11. discount_amount = jumlah diskon yang diberikan\n",
    "12. payment_method = metode pembayaran\n",
    "13. Working Date = tanggal kerja\n",
    "14. BI Status = kategori harga produk\n",
    "15. MV = total harga pemesanan\n",
    "16. Year = tahun transaksi\n",
    "17. Month = bulan transaksi\n",
    "18. Customer Since = bulan dan tahun customer bergabung\n",
    "19. M-Y = tahun dan bulan transaksi\n",
    "20. FY = tahun fiskal perusahaan\n",
    "21. Customer ID = kode customer"
   ]
  },
  {
   "attachments": {},
   "cell_type": "markdown",
   "metadata": {},
   "source": [
    "Berdasarkan data di atas dapat kita temukan beberapa kolom yang memiliki nilai kosong, serta untuk kolom ke 21-25 tidak memiliki value (jumlah value = 0). Oleh karena itu, akan kita lakukan Data Cleaning sesuai dengan data apa saja yang akan kita gunakan dalam analisa ini."
   ]
  },
  {
   "attachments": {},
   "cell_type": "markdown",
   "metadata": {},
   "source": [
    "## **A. Data Cleaning**"
   ]
  },
  {
   "attachments": {},
   "cell_type": "markdown",
   "metadata": {},
   "source": [
    "1. Pada data cleaning ini, kita akan menghapus data-data yang memiliki nilai kosong yaitu kolom-kolom : Unnamed: 21 -25."
   ]
  },
  {
   "cell_type": "code",
   "execution_count": 4,
   "metadata": {},
   "outputs": [],
   "source": [
    "df1 = df.drop(df.columns[[21, 22, 23, 24, 25]], axis=1)"
   ]
  },
  {
   "cell_type": "code",
   "execution_count": 5,
   "metadata": {},
   "outputs": [
    {
     "data": {
      "text/html": [
       "<div>\n",
       "<style scoped>\n",
       "    .dataframe tbody tr th:only-of-type {\n",
       "        vertical-align: middle;\n",
       "    }\n",
       "\n",
       "    .dataframe tbody tr th {\n",
       "        vertical-align: top;\n",
       "    }\n",
       "\n",
       "    .dataframe thead th {\n",
       "        text-align: right;\n",
       "    }\n",
       "</style>\n",
       "<table border=\"1\" class=\"dataframe\">\n",
       "  <thead>\n",
       "    <tr style=\"text-align: right;\">\n",
       "      <th></th>\n",
       "      <th>item_id</th>\n",
       "      <th>status</th>\n",
       "      <th>created_at</th>\n",
       "      <th>sku</th>\n",
       "      <th>price</th>\n",
       "      <th>qty_ordered</th>\n",
       "      <th>grand_total</th>\n",
       "      <th>increment_id</th>\n",
       "      <th>category_name_1</th>\n",
       "      <th>sales_commission_code</th>\n",
       "      <th>...</th>\n",
       "      <th>payment_method</th>\n",
       "      <th>Working Date</th>\n",
       "      <th>BI Status</th>\n",
       "      <th>MV</th>\n",
       "      <th>Year</th>\n",
       "      <th>Month</th>\n",
       "      <th>Customer Since</th>\n",
       "      <th>M-Y</th>\n",
       "      <th>FY</th>\n",
       "      <th>Customer ID</th>\n",
       "    </tr>\n",
       "  </thead>\n",
       "  <tbody>\n",
       "    <tr>\n",
       "      <th>0</th>\n",
       "      <td>211131.0</td>\n",
       "      <td>complete</td>\n",
       "      <td>7/1/2016</td>\n",
       "      <td>kreations_YI 06-L</td>\n",
       "      <td>1950.0</td>\n",
       "      <td>1.0</td>\n",
       "      <td>1950.0</td>\n",
       "      <td>100147443</td>\n",
       "      <td>Women's Fashion</td>\n",
       "      <td>\\N</td>\n",
       "      <td>...</td>\n",
       "      <td>cod</td>\n",
       "      <td>7/1/2016</td>\n",
       "      <td>#REF!</td>\n",
       "      <td>1,950</td>\n",
       "      <td>2016.0</td>\n",
       "      <td>7.0</td>\n",
       "      <td>2016-7</td>\n",
       "      <td>7-2016</td>\n",
       "      <td>FY17</td>\n",
       "      <td>1.0</td>\n",
       "    </tr>\n",
       "    <tr>\n",
       "      <th>1</th>\n",
       "      <td>211133.0</td>\n",
       "      <td>canceled</td>\n",
       "      <td>7/1/2016</td>\n",
       "      <td>kcc_Buy 2 Frey Air Freshener &amp; Get 1 Kasual Bo...</td>\n",
       "      <td>240.0</td>\n",
       "      <td>1.0</td>\n",
       "      <td>240.0</td>\n",
       "      <td>100147444</td>\n",
       "      <td>Beauty &amp; Grooming</td>\n",
       "      <td>\\N</td>\n",
       "      <td>...</td>\n",
       "      <td>cod</td>\n",
       "      <td>7/1/2016</td>\n",
       "      <td>Gross</td>\n",
       "      <td>240</td>\n",
       "      <td>2016.0</td>\n",
       "      <td>7.0</td>\n",
       "      <td>2016-7</td>\n",
       "      <td>7-2016</td>\n",
       "      <td>FY17</td>\n",
       "      <td>2.0</td>\n",
       "    </tr>\n",
       "    <tr>\n",
       "      <th>2</th>\n",
       "      <td>211134.0</td>\n",
       "      <td>canceled</td>\n",
       "      <td>7/1/2016</td>\n",
       "      <td>Ego_UP0017-999-MR0</td>\n",
       "      <td>2450.0</td>\n",
       "      <td>1.0</td>\n",
       "      <td>2450.0</td>\n",
       "      <td>100147445</td>\n",
       "      <td>Women's Fashion</td>\n",
       "      <td>\\N</td>\n",
       "      <td>...</td>\n",
       "      <td>cod</td>\n",
       "      <td>7/1/2016</td>\n",
       "      <td>Gross</td>\n",
       "      <td>2,450</td>\n",
       "      <td>2016.0</td>\n",
       "      <td>7.0</td>\n",
       "      <td>2016-7</td>\n",
       "      <td>7-2016</td>\n",
       "      <td>FY17</td>\n",
       "      <td>3.0</td>\n",
       "    </tr>\n",
       "    <tr>\n",
       "      <th>3</th>\n",
       "      <td>211135.0</td>\n",
       "      <td>complete</td>\n",
       "      <td>7/1/2016</td>\n",
       "      <td>kcc_krone deal</td>\n",
       "      <td>360.0</td>\n",
       "      <td>1.0</td>\n",
       "      <td>60.0</td>\n",
       "      <td>100147446</td>\n",
       "      <td>Beauty &amp; Grooming</td>\n",
       "      <td>R-FSD-52352</td>\n",
       "      <td>...</td>\n",
       "      <td>cod</td>\n",
       "      <td>7/1/2016</td>\n",
       "      <td>Net</td>\n",
       "      <td>360</td>\n",
       "      <td>2016.0</td>\n",
       "      <td>7.0</td>\n",
       "      <td>2016-7</td>\n",
       "      <td>7-2016</td>\n",
       "      <td>FY17</td>\n",
       "      <td>4.0</td>\n",
       "    </tr>\n",
       "    <tr>\n",
       "      <th>4</th>\n",
       "      <td>211136.0</td>\n",
       "      <td>order_refunded</td>\n",
       "      <td>7/1/2016</td>\n",
       "      <td>BK7010400AG</td>\n",
       "      <td>555.0</td>\n",
       "      <td>2.0</td>\n",
       "      <td>1110.0</td>\n",
       "      <td>100147447</td>\n",
       "      <td>Soghaat</td>\n",
       "      <td>\\N</td>\n",
       "      <td>...</td>\n",
       "      <td>cod</td>\n",
       "      <td>7/1/2016</td>\n",
       "      <td>Valid</td>\n",
       "      <td>1,110</td>\n",
       "      <td>2016.0</td>\n",
       "      <td>7.0</td>\n",
       "      <td>2016-7</td>\n",
       "      <td>7-2016</td>\n",
       "      <td>FY17</td>\n",
       "      <td>5.0</td>\n",
       "    </tr>\n",
       "  </tbody>\n",
       "</table>\n",
       "<p>5 rows × 21 columns</p>\n",
       "</div>"
      ],
      "text/plain": [
       "    item_id          status created_at  \\\n",
       "0  211131.0        complete   7/1/2016   \n",
       "1  211133.0        canceled   7/1/2016   \n",
       "2  211134.0        canceled   7/1/2016   \n",
       "3  211135.0        complete   7/1/2016   \n",
       "4  211136.0  order_refunded   7/1/2016   \n",
       "\n",
       "                                                 sku   price  qty_ordered  \\\n",
       "0                                  kreations_YI 06-L  1950.0          1.0   \n",
       "1  kcc_Buy 2 Frey Air Freshener & Get 1 Kasual Bo...   240.0          1.0   \n",
       "2                                 Ego_UP0017-999-MR0  2450.0          1.0   \n",
       "3                                     kcc_krone deal   360.0          1.0   \n",
       "4                                        BK7010400AG   555.0          2.0   \n",
       "\n",
       "   grand_total increment_id    category_name_1 sales_commission_code  ...  \\\n",
       "0       1950.0    100147443    Women's Fashion                    \\N  ...   \n",
       "1        240.0    100147444  Beauty & Grooming                    \\N  ...   \n",
       "2       2450.0    100147445    Women's Fashion                    \\N  ...   \n",
       "3         60.0    100147446  Beauty & Grooming           R-FSD-52352  ...   \n",
       "4       1110.0    100147447            Soghaat                    \\N  ...   \n",
       "\n",
       "   payment_method Working Date BI Status      MV     Year  Month  \\\n",
       "0             cod     7/1/2016     #REF!   1,950   2016.0    7.0   \n",
       "1             cod     7/1/2016     Gross     240   2016.0    7.0   \n",
       "2             cod     7/1/2016     Gross   2,450   2016.0    7.0   \n",
       "3             cod     7/1/2016       Net     360   2016.0    7.0   \n",
       "4             cod     7/1/2016     Valid   1,110   2016.0    7.0   \n",
       "\n",
       "   Customer Since     M-Y    FY Customer ID  \n",
       "0          2016-7  7-2016  FY17         1.0  \n",
       "1          2016-7  7-2016  FY17         2.0  \n",
       "2          2016-7  7-2016  FY17         3.0  \n",
       "3          2016-7  7-2016  FY17         4.0  \n",
       "4          2016-7  7-2016  FY17         5.0  \n",
       "\n",
       "[5 rows x 21 columns]"
      ]
     },
     "execution_count": 5,
     "metadata": {},
     "output_type": "execute_result"
    }
   ],
   "source": [
    "df1.head()"
   ]
  },
  {
   "attachments": {},
   "cell_type": "markdown",
   "metadata": {},
   "source": [
    "2. Berdasarkan tabel di atas, dapat kita ketahui bahwa terdapat rows yang kosong, di tahap ini akan kita lihat berapa jumlah nilai yang kosong dan selanjutnya akan kita eliminasi."
   ]
  },
  {
   "cell_type": "code",
   "execution_count": 6,
   "metadata": {},
   "outputs": [
    {
     "name": "stdout",
     "output_type": "stream",
     "text": [
      "<class 'pandas.core.frame.DataFrame'>\n",
      "Int64Index: 584524 entries, 0 to 584523\n",
      "Data columns (total 21 columns):\n",
      " #   Column                 Non-Null Count   Dtype  \n",
      "---  ------                 --------------   -----  \n",
      " 0   item_id                584524 non-null  float64\n",
      " 1   status                 584509 non-null  object \n",
      " 2   created_at             584524 non-null  object \n",
      " 3   sku                    584504 non-null  object \n",
      " 4   price                  584524 non-null  float64\n",
      " 5   qty_ordered            584524 non-null  float64\n",
      " 6   grand_total            584524 non-null  float64\n",
      " 7   increment_id           584524 non-null  object \n",
      " 8   category_name_1        584360 non-null  object \n",
      " 9   sales_commission_code  447349 non-null  object \n",
      " 10  discount_amount        584524 non-null  float64\n",
      " 11  payment_method         584524 non-null  object \n",
      " 12  Working Date           584524 non-null  object \n",
      " 13  BI Status              584524 non-null  object \n",
      " 14   MV                    584524 non-null  object \n",
      " 15  Year                   584524 non-null  float64\n",
      " 16  Month                  584524 non-null  float64\n",
      " 17  Customer Since         584513 non-null  object \n",
      " 18  M-Y                    584524 non-null  object \n",
      " 19  FY                     584524 non-null  object \n",
      " 20  Customer ID            584513 non-null  float64\n",
      "dtypes: float64(8), object(13)\n",
      "memory usage: 98.1+ MB\n"
     ]
    }
   ],
   "source": [
    "df1.dropna(subset='item_id', inplace=True)\n",
    "df1.info()"
   ]
  },
  {
   "attachments": {},
   "cell_type": "markdown",
   "metadata": {},
   "source": [
    "3. Selanjutnya, kita akan menghapus data yang tidak berkaitan dengan analisa ini terutama yang memiliki nilai kosong, contohnya adalah sales_commission_code dimana nilai ini memberikan kontribusi nilai kosong yang cukup banyak serta tidak akan digunakan pada analisa ini, seperti:\n",
    "- sales_commision_code\n",
    "- Customer Since\n",
    "- Customer ID\n",
    "- sku\n",
    "- BI Status\n",
    "- FY\n",
    "- increment_id    \n",
    "Adapun terdapat nilai-nilai yang bersifat redundant / berulang, sehingga dapat dieliminasi karna informasi yang sama sudah tercantum pada tabel tersebut:\n",
    "- MV    = grand_total\n",
    "- Working Date = created_at"
   ]
  },
  {
   "cell_type": "code",
   "execution_count": 7,
   "metadata": {},
   "outputs": [],
   "source": [
    "df1.drop(['sales_commission_code', 'Customer Since', 'Customer ID', 'sku', 'BI Status', 'FY', 'increment_id', 'Working Date', ' MV '], axis = 1, inplace=True)"
   ]
  },
  {
   "attachments": {},
   "cell_type": "markdown",
   "metadata": {},
   "source": [
    "4. Kolom 'created_at' dan 'M-Y' masih berbentuk 'object', kita ubah menjadi bentuk 'datetime'."
   ]
  },
  {
   "cell_type": "code",
   "execution_count": 8,
   "metadata": {},
   "outputs": [
    {
     "name": "stdout",
     "output_type": "stream",
     "text": [
      "<class 'pandas.core.frame.DataFrame'>\n",
      "Int64Index: 584524 entries, 0 to 584523\n",
      "Data columns (total 12 columns):\n",
      " #   Column           Non-Null Count   Dtype         \n",
      "---  ------           --------------   -----         \n",
      " 0   item_id          584524 non-null  float64       \n",
      " 1   status           584509 non-null  object        \n",
      " 2   created_at       584524 non-null  datetime64[ns]\n",
      " 3   price            584524 non-null  float64       \n",
      " 4   qty_ordered      584524 non-null  float64       \n",
      " 5   grand_total      584524 non-null  float64       \n",
      " 6   category_name_1  584360 non-null  object        \n",
      " 7   discount_amount  584524 non-null  float64       \n",
      " 8   payment_method   584524 non-null  object        \n",
      " 9   Year             584524 non-null  float64       \n",
      " 10  Month            584524 non-null  float64       \n",
      " 11  M-Y              584524 non-null  datetime64[ns]\n",
      "dtypes: datetime64[ns](2), float64(7), object(3)\n",
      "memory usage: 58.0+ MB\n"
     ]
    }
   ],
   "source": [
    "df1['created_at'] = pd.to_datetime(df1['created_at'])\n",
    "df1['M-Y'] = pd.to_datetime(df1['M-Y'])\n",
    "df1.info()"
   ]
  },
  {
   "attachments": {},
   "cell_type": "markdown",
   "metadata": {},
   "source": [
    "5. Dapat dilihat bahwa kolom category name dan status memberikan jumlah missing value yang cukup banyak, mengingat kedua kolom ini berisikan data kategori sehingga missing value tersebut akan kita isi dengan nilai modus."
   ]
  },
  {
   "cell_type": "code",
   "execution_count": 9,
   "metadata": {},
   "outputs": [
    {
     "data": {
      "text/plain": [
       "0    Mobiles & Tablets\n",
       "Name: category_name_1, dtype: object"
      ]
     },
     "execution_count": 9,
     "metadata": {},
     "output_type": "execute_result"
    }
   ],
   "source": [
    "df1['category_name_1'].mode()"
   ]
  },
  {
   "cell_type": "code",
   "execution_count": 10,
   "metadata": {},
   "outputs": [],
   "source": [
    "df1['category_name_1'] = df1['category_name_1'].fillna('Mobiles & Tablets')"
   ]
  },
  {
   "cell_type": "code",
   "execution_count": 11,
   "metadata": {},
   "outputs": [
    {
     "data": {
      "text/plain": [
       "0    complete\n",
       "Name: status, dtype: object"
      ]
     },
     "execution_count": 11,
     "metadata": {},
     "output_type": "execute_result"
    }
   ],
   "source": [
    "df1['status'].mode()"
   ]
  },
  {
   "cell_type": "code",
   "execution_count": 12,
   "metadata": {},
   "outputs": [],
   "source": [
    "df1['status'] = df1['status'].fillna('complete')"
   ]
  },
  {
   "cell_type": "code",
   "execution_count": 13,
   "metadata": {},
   "outputs": [
    {
     "name": "stdout",
     "output_type": "stream",
     "text": [
      "<class 'pandas.core.frame.DataFrame'>\n",
      "Int64Index: 584524 entries, 0 to 584523\n",
      "Data columns (total 12 columns):\n",
      " #   Column           Non-Null Count   Dtype         \n",
      "---  ------           --------------   -----         \n",
      " 0   item_id          584524 non-null  float64       \n",
      " 1   status           584524 non-null  object        \n",
      " 2   created_at       584524 non-null  datetime64[ns]\n",
      " 3   price            584524 non-null  float64       \n",
      " 4   qty_ordered      584524 non-null  float64       \n",
      " 5   grand_total      584524 non-null  float64       \n",
      " 6   category_name_1  584524 non-null  object        \n",
      " 7   discount_amount  584524 non-null  float64       \n",
      " 8   payment_method   584524 non-null  object        \n",
      " 9   Year             584524 non-null  float64       \n",
      " 10  Month            584524 non-null  float64       \n",
      " 11  M-Y              584524 non-null  datetime64[ns]\n",
      "dtypes: datetime64[ns](2), float64(7), object(3)\n",
      "memory usage: 58.0+ MB\n"
     ]
    }
   ],
   "source": [
    "df1.info()"
   ]
  },
  {
   "attachments": {},
   "cell_type": "markdown",
   "metadata": {},
   "source": [
    "6. Terdapat 7850 (1,34%) kolom 'category_name_1' yang memiliki nilai 'N/', kami berasumsi kategori '/N/' merupakan kategori barang yang tidak dapat dimasukkan ke dalam list kategori yang ada dan bukan merupakan kategori 'Others', sehingga dapat kita asumsikan bahwa nilai tersebut adalah outliers. Adapun jumlah nilai tersebut kurang dari 10%, sehingga data tersebut akan dihilangkan."
   ]
  },
  {
   "cell_type": "code",
   "execution_count": 14,
   "metadata": {},
   "outputs": [
    {
     "data": {
      "text/html": [
       "<div>\n",
       "<style scoped>\n",
       "    .dataframe tbody tr th:only-of-type {\n",
       "        vertical-align: middle;\n",
       "    }\n",
       "\n",
       "    .dataframe tbody tr th {\n",
       "        vertical-align: top;\n",
       "    }\n",
       "\n",
       "    .dataframe thead th {\n",
       "        text-align: right;\n",
       "    }\n",
       "</style>\n",
       "<table border=\"1\" class=\"dataframe\">\n",
       "  <thead>\n",
       "    <tr style=\"text-align: right;\">\n",
       "      <th></th>\n",
       "      <th>item_id</th>\n",
       "      <th>status</th>\n",
       "      <th>created_at</th>\n",
       "      <th>price</th>\n",
       "      <th>qty_ordered</th>\n",
       "      <th>grand_total</th>\n",
       "      <th>category_name_1</th>\n",
       "      <th>discount_amount</th>\n",
       "      <th>payment_method</th>\n",
       "      <th>Year</th>\n",
       "      <th>Month</th>\n",
       "      <th>M-Y</th>\n",
       "    </tr>\n",
       "  </thead>\n",
       "  <tbody>\n",
       "    <tr>\n",
       "      <th>24</th>\n",
       "      <td>211157.0</td>\n",
       "      <td>order_refunded</td>\n",
       "      <td>2016-07-01</td>\n",
       "      <td>1000.0</td>\n",
       "      <td>1.0</td>\n",
       "      <td>0.0</td>\n",
       "      <td>\\N</td>\n",
       "      <td>0.0</td>\n",
       "      <td>customercredit</td>\n",
       "      <td>2016.0</td>\n",
       "      <td>7.0</td>\n",
       "      <td>2016-07-01</td>\n",
       "    </tr>\n",
       "    <tr>\n",
       "      <th>72</th>\n",
       "      <td>211214.0</td>\n",
       "      <td>canceled</td>\n",
       "      <td>2016-07-01</td>\n",
       "      <td>1.0</td>\n",
       "      <td>1.0</td>\n",
       "      <td>1.0</td>\n",
       "      <td>\\N</td>\n",
       "      <td>0.0</td>\n",
       "      <td>cod</td>\n",
       "      <td>2016.0</td>\n",
       "      <td>7.0</td>\n",
       "      <td>2016-07-01</td>\n",
       "    </tr>\n",
       "    <tr>\n",
       "      <th>79</th>\n",
       "      <td>211222.0</td>\n",
       "      <td>canceled</td>\n",
       "      <td>2016-07-01</td>\n",
       "      <td>1.0</td>\n",
       "      <td>5.0</td>\n",
       "      <td>5.0</td>\n",
       "      <td>\\N</td>\n",
       "      <td>0.0</td>\n",
       "      <td>cod</td>\n",
       "      <td>2016.0</td>\n",
       "      <td>7.0</td>\n",
       "      <td>2016-07-01</td>\n",
       "    </tr>\n",
       "    <tr>\n",
       "      <th>80</th>\n",
       "      <td>211223.0</td>\n",
       "      <td>canceled</td>\n",
       "      <td>2016-07-01</td>\n",
       "      <td>1.0</td>\n",
       "      <td>2.0</td>\n",
       "      <td>2.0</td>\n",
       "      <td>\\N</td>\n",
       "      <td>0.0</td>\n",
       "      <td>cod</td>\n",
       "      <td>2016.0</td>\n",
       "      <td>7.0</td>\n",
       "      <td>2016-07-01</td>\n",
       "    </tr>\n",
       "    <tr>\n",
       "      <th>81</th>\n",
       "      <td>211225.0</td>\n",
       "      <td>canceled</td>\n",
       "      <td>2016-07-01</td>\n",
       "      <td>1.0</td>\n",
       "      <td>1.0</td>\n",
       "      <td>1.0</td>\n",
       "      <td>\\N</td>\n",
       "      <td>0.0</td>\n",
       "      <td>cod</td>\n",
       "      <td>2016.0</td>\n",
       "      <td>7.0</td>\n",
       "      <td>2016-07-01</td>\n",
       "    </tr>\n",
       "    <tr>\n",
       "      <th>...</th>\n",
       "      <td>...</td>\n",
       "      <td>...</td>\n",
       "      <td>...</td>\n",
       "      <td>...</td>\n",
       "      <td>...</td>\n",
       "      <td>...</td>\n",
       "      <td>...</td>\n",
       "      <td>...</td>\n",
       "      <td>...</td>\n",
       "      <td>...</td>\n",
       "      <td>...</td>\n",
       "      <td>...</td>\n",
       "    </tr>\n",
       "    <tr>\n",
       "      <th>423207</th>\n",
       "      <td>722206.0</td>\n",
       "      <td>order_refunded</td>\n",
       "      <td>2017-12-27</td>\n",
       "      <td>90.0</td>\n",
       "      <td>2.0</td>\n",
       "      <td>330.0</td>\n",
       "      <td>\\N</td>\n",
       "      <td>0.0</td>\n",
       "      <td>cod</td>\n",
       "      <td>2017.0</td>\n",
       "      <td>12.0</td>\n",
       "      <td>2017-12-01</td>\n",
       "    </tr>\n",
       "    <tr>\n",
       "      <th>423231</th>\n",
       "      <td>722242.0</td>\n",
       "      <td>cod</td>\n",
       "      <td>2017-12-27</td>\n",
       "      <td>99.0</td>\n",
       "      <td>1.0</td>\n",
       "      <td>249.0</td>\n",
       "      <td>\\N</td>\n",
       "      <td>0.0</td>\n",
       "      <td>cod</td>\n",
       "      <td>2017.0</td>\n",
       "      <td>12.0</td>\n",
       "      <td>2017-12-01</td>\n",
       "    </tr>\n",
       "    <tr>\n",
       "      <th>423826</th>\n",
       "      <td>722915.0</td>\n",
       "      <td>order_refunded</td>\n",
       "      <td>2017-12-29</td>\n",
       "      <td>90.0</td>\n",
       "      <td>2.0</td>\n",
       "      <td>330.0</td>\n",
       "      <td>\\N</td>\n",
       "      <td>0.0</td>\n",
       "      <td>cod</td>\n",
       "      <td>2017.0</td>\n",
       "      <td>12.0</td>\n",
       "      <td>2017-12-01</td>\n",
       "    </tr>\n",
       "    <tr>\n",
       "      <th>423829</th>\n",
       "      <td>722918.0</td>\n",
       "      <td>order_refunded</td>\n",
       "      <td>2017-12-29</td>\n",
       "      <td>99.0</td>\n",
       "      <td>2.0</td>\n",
       "      <td>348.0</td>\n",
       "      <td>\\N</td>\n",
       "      <td>0.0</td>\n",
       "      <td>cod</td>\n",
       "      <td>2017.0</td>\n",
       "      <td>12.0</td>\n",
       "      <td>2017-12-01</td>\n",
       "    </tr>\n",
       "    <tr>\n",
       "      <th>423830</th>\n",
       "      <td>722920.0</td>\n",
       "      <td>received</td>\n",
       "      <td>2017-12-29</td>\n",
       "      <td>99.0</td>\n",
       "      <td>2.0</td>\n",
       "      <td>348.0</td>\n",
       "      <td>\\N</td>\n",
       "      <td>0.0</td>\n",
       "      <td>cod</td>\n",
       "      <td>2017.0</td>\n",
       "      <td>12.0</td>\n",
       "      <td>2017-12-01</td>\n",
       "    </tr>\n",
       "  </tbody>\n",
       "</table>\n",
       "<p>7850 rows × 12 columns</p>\n",
       "</div>"
      ],
      "text/plain": [
       "         item_id          status created_at   price  qty_ordered  grand_total  \\\n",
       "24      211157.0  order_refunded 2016-07-01  1000.0          1.0          0.0   \n",
       "72      211214.0        canceled 2016-07-01     1.0          1.0          1.0   \n",
       "79      211222.0        canceled 2016-07-01     1.0          5.0          5.0   \n",
       "80      211223.0        canceled 2016-07-01     1.0          2.0          2.0   \n",
       "81      211225.0        canceled 2016-07-01     1.0          1.0          1.0   \n",
       "...          ...             ...        ...     ...          ...          ...   \n",
       "423207  722206.0  order_refunded 2017-12-27    90.0          2.0        330.0   \n",
       "423231  722242.0             cod 2017-12-27    99.0          1.0        249.0   \n",
       "423826  722915.0  order_refunded 2017-12-29    90.0          2.0        330.0   \n",
       "423829  722918.0  order_refunded 2017-12-29    99.0          2.0        348.0   \n",
       "423830  722920.0        received 2017-12-29    99.0          2.0        348.0   \n",
       "\n",
       "       category_name_1  discount_amount  payment_method    Year  Month  \\\n",
       "24                  \\N              0.0  customercredit  2016.0    7.0   \n",
       "72                  \\N              0.0             cod  2016.0    7.0   \n",
       "79                  \\N              0.0             cod  2016.0    7.0   \n",
       "80                  \\N              0.0             cod  2016.0    7.0   \n",
       "81                  \\N              0.0             cod  2016.0    7.0   \n",
       "...                ...              ...             ...     ...    ...   \n",
       "423207              \\N              0.0             cod  2017.0   12.0   \n",
       "423231              \\N              0.0             cod  2017.0   12.0   \n",
       "423826              \\N              0.0             cod  2017.0   12.0   \n",
       "423829              \\N              0.0             cod  2017.0   12.0   \n",
       "423830              \\N              0.0             cod  2017.0   12.0   \n",
       "\n",
       "              M-Y  \n",
       "24     2016-07-01  \n",
       "72     2016-07-01  \n",
       "79     2016-07-01  \n",
       "80     2016-07-01  \n",
       "81     2016-07-01  \n",
       "...           ...  \n",
       "423207 2017-12-01  \n",
       "423231 2017-12-01  \n",
       "423826 2017-12-01  \n",
       "423829 2017-12-01  \n",
       "423830 2017-12-01  \n",
       "\n",
       "[7850 rows x 12 columns]"
      ]
     },
     "execution_count": 14,
     "metadata": {},
     "output_type": "execute_result"
    }
   ],
   "source": [
    "df1[df1['category_name_1']=='\\\\N']"
   ]
  },
  {
   "cell_type": "code",
   "execution_count": 15,
   "metadata": {},
   "outputs": [],
   "source": [
    "df1.drop(df1[df1['category_name_1']=='\\\\N'].index, inplace=True)"
   ]
  },
  {
   "attachments": {},
   "cell_type": "markdown",
   "metadata": {},
   "source": [
    "7. Selanjutnya kita akan mengelompokkan data di kolom 'payment_method' karena beberapa data memiliki nilai yang sama, seperti: \n",
    "- 'cashatdoorstep' = 'cod'\n",
    "- 'Easypay_MA' = 'Easypay'\n",
    "- 'jazzvoucher' = 'jazzwallet'"
   ]
  },
  {
   "cell_type": "code",
   "execution_count": 16,
   "metadata": {},
   "outputs": [
    {
     "data": {
      "text/plain": [
       "array(['cod', 'ublcreditcard', 'mygateway', 'customercredit',\n",
       "       'cashatdoorstep', 'mcblite', 'internetbanking', 'productcredit',\n",
       "       'financesettlement', 'Payaxis', 'marketingexpense', 'jazzvoucher',\n",
       "       'jazzwallet', 'Easypay', 'Easypay_MA', 'easypay_voucher',\n",
       "       'bankalfalah', 'apg'], dtype=object)"
      ]
     },
     "execution_count": 16,
     "metadata": {},
     "output_type": "execute_result"
    }
   ],
   "source": [
    "df1['payment_method'].unique()"
   ]
  },
  {
   "cell_type": "code",
   "execution_count": 17,
   "metadata": {},
   "outputs": [],
   "source": [
    "new_payment_method = {'cod' :'cod', 'Easypay_MA': 'Easypay', 'easypay_voucher':'Easypay', 'jazzvoucher': 'jazzwallet'}\n",
    "df1=df1.replace({'payment_method': new_payment_method})"
   ]
  },
  {
   "attachments": {},
   "cell_type": "markdown",
   "metadata": {},
   "source": [
    "8. Selanjutnya, kita amati distribusi nilai pada data."
   ]
  },
  {
   "cell_type": "code",
   "execution_count": 18,
   "metadata": {},
   "outputs": [
    {
     "data": {
      "text/html": [
       "<div>\n",
       "<style scoped>\n",
       "    .dataframe tbody tr th:only-of-type {\n",
       "        vertical-align: middle;\n",
       "    }\n",
       "\n",
       "    .dataframe tbody tr th {\n",
       "        vertical-align: top;\n",
       "    }\n",
       "\n",
       "    .dataframe thead th {\n",
       "        text-align: right;\n",
       "    }\n",
       "</style>\n",
       "<table border=\"1\" class=\"dataframe\">\n",
       "  <thead>\n",
       "    <tr style=\"text-align: right;\">\n",
       "      <th></th>\n",
       "      <th>status</th>\n",
       "      <th>category_name_1</th>\n",
       "      <th>payment_method</th>\n",
       "    </tr>\n",
       "  </thead>\n",
       "  <tbody>\n",
       "    <tr>\n",
       "      <th>count</th>\n",
       "      <td>576674</td>\n",
       "      <td>576674</td>\n",
       "      <td>576674</td>\n",
       "    </tr>\n",
       "    <tr>\n",
       "      <th>unique</th>\n",
       "      <td>15</td>\n",
       "      <td>15</td>\n",
       "      <td>15</td>\n",
       "    </tr>\n",
       "    <tr>\n",
       "      <th>top</th>\n",
       "      <td>complete</td>\n",
       "      <td>Mobiles &amp; Tablets</td>\n",
       "      <td>cod</td>\n",
       "    </tr>\n",
       "    <tr>\n",
       "      <th>freq</th>\n",
       "      <td>230473</td>\n",
       "      <td>115874</td>\n",
       "      <td>267935</td>\n",
       "    </tr>\n",
       "  </tbody>\n",
       "</table>\n",
       "</div>"
      ],
      "text/plain": [
       "          status    category_name_1 payment_method\n",
       "count     576674             576674         576674\n",
       "unique        15                 15             15\n",
       "top     complete  Mobiles & Tablets            cod\n",
       "freq      230473             115874         267935"
      ]
     },
     "execution_count": 18,
     "metadata": {},
     "output_type": "execute_result"
    }
   ],
   "source": [
    "df1.describe(include=[object])"
   ]
  },
  {
   "cell_type": "code",
   "execution_count": 19,
   "metadata": {},
   "outputs": [
    {
     "data": {
      "text/html": [
       "<div>\n",
       "<style scoped>\n",
       "    .dataframe tbody tr th:only-of-type {\n",
       "        vertical-align: middle;\n",
       "    }\n",
       "\n",
       "    .dataframe tbody tr th {\n",
       "        vertical-align: top;\n",
       "    }\n",
       "\n",
       "    .dataframe thead th {\n",
       "        text-align: right;\n",
       "    }\n",
       "</style>\n",
       "<table border=\"1\" class=\"dataframe\">\n",
       "  <thead>\n",
       "    <tr style=\"text-align: right;\">\n",
       "      <th></th>\n",
       "      <th>item_id</th>\n",
       "      <th>created_at</th>\n",
       "      <th>price</th>\n",
       "      <th>qty_ordered</th>\n",
       "      <th>grand_total</th>\n",
       "      <th>discount_amount</th>\n",
       "      <th>Year</th>\n",
       "      <th>Month</th>\n",
       "      <th>M-Y</th>\n",
       "    </tr>\n",
       "  </thead>\n",
       "  <tbody>\n",
       "    <tr>\n",
       "      <th>count</th>\n",
       "      <td>576674.000000</td>\n",
       "      <td>576674</td>\n",
       "      <td>5.766740e+05</td>\n",
       "      <td>576674.000000</td>\n",
       "      <td>5.766740e+05</td>\n",
       "      <td>576674.000000</td>\n",
       "      <td>576674.000000</td>\n",
       "      <td>576674.000000</td>\n",
       "      <td>576674</td>\n",
       "    </tr>\n",
       "    <tr>\n",
       "      <th>unique</th>\n",
       "      <td>NaN</td>\n",
       "      <td>789</td>\n",
       "      <td>NaN</td>\n",
       "      <td>NaN</td>\n",
       "      <td>NaN</td>\n",
       "      <td>NaN</td>\n",
       "      <td>NaN</td>\n",
       "      <td>NaN</td>\n",
       "      <td>26</td>\n",
       "    </tr>\n",
       "    <tr>\n",
       "      <th>top</th>\n",
       "      <td>NaN</td>\n",
       "      <td>2016-11-25 00:00:00</td>\n",
       "      <td>NaN</td>\n",
       "      <td>NaN</td>\n",
       "      <td>NaN</td>\n",
       "      <td>NaN</td>\n",
       "      <td>NaN</td>\n",
       "      <td>NaN</td>\n",
       "      <td>2017-11-01 00:00:00</td>\n",
       "    </tr>\n",
       "    <tr>\n",
       "      <th>freq</th>\n",
       "      <td>NaN</td>\n",
       "      <td>14929</td>\n",
       "      <td>NaN</td>\n",
       "      <td>NaN</td>\n",
       "      <td>NaN</td>\n",
       "      <td>NaN</td>\n",
       "      <td>NaN</td>\n",
       "      <td>NaN</td>\n",
       "      <td>83829</td>\n",
       "    </tr>\n",
       "    <tr>\n",
       "      <th>first</th>\n",
       "      <td>NaN</td>\n",
       "      <td>2016-07-01 00:00:00</td>\n",
       "      <td>NaN</td>\n",
       "      <td>NaN</td>\n",
       "      <td>NaN</td>\n",
       "      <td>NaN</td>\n",
       "      <td>NaN</td>\n",
       "      <td>NaN</td>\n",
       "      <td>2016-07-01 00:00:00</td>\n",
       "    </tr>\n",
       "    <tr>\n",
       "      <th>last</th>\n",
       "      <td>NaN</td>\n",
       "      <td>2018-08-28 00:00:00</td>\n",
       "      <td>NaN</td>\n",
       "      <td>NaN</td>\n",
       "      <td>NaN</td>\n",
       "      <td>NaN</td>\n",
       "      <td>NaN</td>\n",
       "      <td>NaN</td>\n",
       "      <td>2018-08-01 00:00:00</td>\n",
       "    </tr>\n",
       "    <tr>\n",
       "      <th>mean</th>\n",
       "      <td>568938.450584</td>\n",
       "      <td>NaN</td>\n",
       "      <td>6.378707e+03</td>\n",
       "      <td>1.297307</td>\n",
       "      <td>8.584611e+03</td>\n",
       "      <td>503.153802</td>\n",
       "      <td>2017.054821</td>\n",
       "      <td>7.148139</td>\n",
       "      <td>NaN</td>\n",
       "    </tr>\n",
       "    <tr>\n",
       "      <th>std</th>\n",
       "      <td>199151.731073</td>\n",
       "      <td>NaN</td>\n",
       "      <td>1.500483e+04</td>\n",
       "      <td>4.005791</td>\n",
       "      <td>6.172160e+04</td>\n",
       "      <td>1510.445479</td>\n",
       "      <td>0.704289</td>\n",
       "      <td>3.488570</td>\n",
       "      <td>NaN</td>\n",
       "    </tr>\n",
       "    <tr>\n",
       "      <th>min</th>\n",
       "      <td>211131.000000</td>\n",
       "      <td>NaN</td>\n",
       "      <td>0.000000e+00</td>\n",
       "      <td>1.000000</td>\n",
       "      <td>-1.594000e+03</td>\n",
       "      <td>-599.500000</td>\n",
       "      <td>2016.000000</td>\n",
       "      <td>1.000000</td>\n",
       "      <td>NaN</td>\n",
       "    </tr>\n",
       "    <tr>\n",
       "      <th>25%</th>\n",
       "      <td>400876.250000</td>\n",
       "      <td>NaN</td>\n",
       "      <td>3.600000e+02</td>\n",
       "      <td>1.000000</td>\n",
       "      <td>9.519900e+02</td>\n",
       "      <td>0.000000</td>\n",
       "      <td>2017.000000</td>\n",
       "      <td>4.000000</td>\n",
       "      <td>NaN</td>\n",
       "    </tr>\n",
       "    <tr>\n",
       "      <th>50%</th>\n",
       "      <td>572739.500000</td>\n",
       "      <td>NaN</td>\n",
       "      <td>9.000000e+02</td>\n",
       "      <td>1.000000</td>\n",
       "      <td>1.986000e+03</td>\n",
       "      <td>0.000000</td>\n",
       "      <td>2017.000000</td>\n",
       "      <td>7.000000</td>\n",
       "      <td>NaN</td>\n",
       "    </tr>\n",
       "    <tr>\n",
       "      <th>75%</th>\n",
       "      <td>741304.750000</td>\n",
       "      <td>NaN</td>\n",
       "      <td>4.053000e+03</td>\n",
       "      <td>1.000000</td>\n",
       "      <td>6.998000e+03</td>\n",
       "      <td>164.850000</td>\n",
       "      <td>2018.000000</td>\n",
       "      <td>11.000000</td>\n",
       "      <td>NaN</td>\n",
       "    </tr>\n",
       "    <tr>\n",
       "      <th>max</th>\n",
       "      <td>905208.000000</td>\n",
       "      <td>NaN</td>\n",
       "      <td>1.012626e+06</td>\n",
       "      <td>1000.000000</td>\n",
       "      <td>1.788800e+07</td>\n",
       "      <td>90300.000000</td>\n",
       "      <td>2018.000000</td>\n",
       "      <td>12.000000</td>\n",
       "      <td>NaN</td>\n",
       "    </tr>\n",
       "  </tbody>\n",
       "</table>\n",
       "</div>"
      ],
      "text/plain": [
       "              item_id           created_at         price    qty_ordered  \\\n",
       "count   576674.000000               576674  5.766740e+05  576674.000000   \n",
       "unique            NaN                  789           NaN            NaN   \n",
       "top               NaN  2016-11-25 00:00:00           NaN            NaN   \n",
       "freq              NaN                14929           NaN            NaN   \n",
       "first             NaN  2016-07-01 00:00:00           NaN            NaN   \n",
       "last              NaN  2018-08-28 00:00:00           NaN            NaN   \n",
       "mean    568938.450584                  NaN  6.378707e+03       1.297307   \n",
       "std     199151.731073                  NaN  1.500483e+04       4.005791   \n",
       "min     211131.000000                  NaN  0.000000e+00       1.000000   \n",
       "25%     400876.250000                  NaN  3.600000e+02       1.000000   \n",
       "50%     572739.500000                  NaN  9.000000e+02       1.000000   \n",
       "75%     741304.750000                  NaN  4.053000e+03       1.000000   \n",
       "max     905208.000000                  NaN  1.012626e+06    1000.000000   \n",
       "\n",
       "         grand_total  discount_amount           Year          Month  \\\n",
       "count   5.766740e+05    576674.000000  576674.000000  576674.000000   \n",
       "unique           NaN              NaN            NaN            NaN   \n",
       "top              NaN              NaN            NaN            NaN   \n",
       "freq             NaN              NaN            NaN            NaN   \n",
       "first            NaN              NaN            NaN            NaN   \n",
       "last             NaN              NaN            NaN            NaN   \n",
       "mean    8.584611e+03       503.153802    2017.054821       7.148139   \n",
       "std     6.172160e+04      1510.445479       0.704289       3.488570   \n",
       "min    -1.594000e+03      -599.500000    2016.000000       1.000000   \n",
       "25%     9.519900e+02         0.000000    2017.000000       4.000000   \n",
       "50%     1.986000e+03         0.000000    2017.000000       7.000000   \n",
       "75%     6.998000e+03       164.850000    2018.000000      11.000000   \n",
       "max     1.788800e+07     90300.000000    2018.000000      12.000000   \n",
       "\n",
       "                        M-Y  \n",
       "count                576674  \n",
       "unique                   26  \n",
       "top     2017-11-01 00:00:00  \n",
       "freq                  83829  \n",
       "first   2016-07-01 00:00:00  \n",
       "last    2018-08-01 00:00:00  \n",
       "mean                    NaN  \n",
       "std                     NaN  \n",
       "min                     NaN  \n",
       "25%                     NaN  \n",
       "50%                     NaN  \n",
       "75%                     NaN  \n",
       "max                     NaN  "
      ]
     },
     "execution_count": 19,
     "metadata": {},
     "output_type": "execute_result"
    }
   ],
   "source": [
    "df1.describe(exclude=[object])"
   ]
  },
  {
   "attachments": {},
   "cell_type": "markdown",
   "metadata": {},
   "source": [
    "9. Berdasarkan informasi di atas,  terdapat data yang bernilai negatif pada kolom 'grand_total' dan 'discount_amount' serta nilai 0 pada kolom 'price', dimana hal ini cukup janggal mengingat dalam transaksi e-commerce nilai tersebut seharusnya mempunyai nilai dan bernilai positif.   \n",
    "Oleh karena itu untuk discount amount akan kita lakukan perubahan nilai negatif menjadi nilai positif dengan metode absolut. Hal ini dilatarbelakangi dengan asumsi bahwa terjadi kesalahan input data yang seharusnya bernilai positif."
   ]
  },
  {
   "cell_type": "code",
   "execution_count": 20,
   "metadata": {},
   "outputs": [],
   "source": [
    "df1['discount_amount']= df1['discount_amount'].abs()"
   ]
  },
  {
   "cell_type": "code",
   "execution_count": 21,
   "metadata": {},
   "outputs": [
    {
     "data": {
      "text/html": [
       "<div>\n",
       "<style scoped>\n",
       "    .dataframe tbody tr th:only-of-type {\n",
       "        vertical-align: middle;\n",
       "    }\n",
       "\n",
       "    .dataframe tbody tr th {\n",
       "        vertical-align: top;\n",
       "    }\n",
       "\n",
       "    .dataframe thead th {\n",
       "        text-align: right;\n",
       "    }\n",
       "</style>\n",
       "<table border=\"1\" class=\"dataframe\">\n",
       "  <thead>\n",
       "    <tr style=\"text-align: right;\">\n",
       "      <th></th>\n",
       "      <th>item_id</th>\n",
       "      <th>created_at</th>\n",
       "      <th>price</th>\n",
       "      <th>qty_ordered</th>\n",
       "      <th>grand_total</th>\n",
       "      <th>discount_amount</th>\n",
       "      <th>Year</th>\n",
       "      <th>Month</th>\n",
       "      <th>M-Y</th>\n",
       "    </tr>\n",
       "  </thead>\n",
       "  <tbody>\n",
       "    <tr>\n",
       "      <th>count</th>\n",
       "      <td>576674.000000</td>\n",
       "      <td>576674</td>\n",
       "      <td>5.766740e+05</td>\n",
       "      <td>576674.000000</td>\n",
       "      <td>5.766740e+05</td>\n",
       "      <td>576674.000000</td>\n",
       "      <td>576674.000000</td>\n",
       "      <td>576674.000000</td>\n",
       "      <td>576674</td>\n",
       "    </tr>\n",
       "    <tr>\n",
       "      <th>unique</th>\n",
       "      <td>NaN</td>\n",
       "      <td>789</td>\n",
       "      <td>NaN</td>\n",
       "      <td>NaN</td>\n",
       "      <td>NaN</td>\n",
       "      <td>NaN</td>\n",
       "      <td>NaN</td>\n",
       "      <td>NaN</td>\n",
       "      <td>26</td>\n",
       "    </tr>\n",
       "    <tr>\n",
       "      <th>top</th>\n",
       "      <td>NaN</td>\n",
       "      <td>2016-11-25 00:00:00</td>\n",
       "      <td>NaN</td>\n",
       "      <td>NaN</td>\n",
       "      <td>NaN</td>\n",
       "      <td>NaN</td>\n",
       "      <td>NaN</td>\n",
       "      <td>NaN</td>\n",
       "      <td>2017-11-01 00:00:00</td>\n",
       "    </tr>\n",
       "    <tr>\n",
       "      <th>freq</th>\n",
       "      <td>NaN</td>\n",
       "      <td>14929</td>\n",
       "      <td>NaN</td>\n",
       "      <td>NaN</td>\n",
       "      <td>NaN</td>\n",
       "      <td>NaN</td>\n",
       "      <td>NaN</td>\n",
       "      <td>NaN</td>\n",
       "      <td>83829</td>\n",
       "    </tr>\n",
       "    <tr>\n",
       "      <th>first</th>\n",
       "      <td>NaN</td>\n",
       "      <td>2016-07-01 00:00:00</td>\n",
       "      <td>NaN</td>\n",
       "      <td>NaN</td>\n",
       "      <td>NaN</td>\n",
       "      <td>NaN</td>\n",
       "      <td>NaN</td>\n",
       "      <td>NaN</td>\n",
       "      <td>2016-07-01 00:00:00</td>\n",
       "    </tr>\n",
       "    <tr>\n",
       "      <th>last</th>\n",
       "      <td>NaN</td>\n",
       "      <td>2018-08-28 00:00:00</td>\n",
       "      <td>NaN</td>\n",
       "      <td>NaN</td>\n",
       "      <td>NaN</td>\n",
       "      <td>NaN</td>\n",
       "      <td>NaN</td>\n",
       "      <td>NaN</td>\n",
       "      <td>2018-08-01 00:00:00</td>\n",
       "    </tr>\n",
       "    <tr>\n",
       "      <th>mean</th>\n",
       "      <td>568938.450584</td>\n",
       "      <td>NaN</td>\n",
       "      <td>6.378707e+03</td>\n",
       "      <td>1.297307</td>\n",
       "      <td>8.584611e+03</td>\n",
       "      <td>503.155888</td>\n",
       "      <td>2017.054821</td>\n",
       "      <td>7.148139</td>\n",
       "      <td>NaN</td>\n",
       "    </tr>\n",
       "    <tr>\n",
       "      <th>std</th>\n",
       "      <td>199151.731073</td>\n",
       "      <td>NaN</td>\n",
       "      <td>1.500483e+04</td>\n",
       "      <td>4.005791</td>\n",
       "      <td>6.172160e+04</td>\n",
       "      <td>1510.444784</td>\n",
       "      <td>0.704289</td>\n",
       "      <td>3.488570</td>\n",
       "      <td>NaN</td>\n",
       "    </tr>\n",
       "    <tr>\n",
       "      <th>min</th>\n",
       "      <td>211131.000000</td>\n",
       "      <td>NaN</td>\n",
       "      <td>0.000000e+00</td>\n",
       "      <td>1.000000</td>\n",
       "      <td>-1.594000e+03</td>\n",
       "      <td>0.000000</td>\n",
       "      <td>2016.000000</td>\n",
       "      <td>1.000000</td>\n",
       "      <td>NaN</td>\n",
       "    </tr>\n",
       "    <tr>\n",
       "      <th>25%</th>\n",
       "      <td>400876.250000</td>\n",
       "      <td>NaN</td>\n",
       "      <td>3.600000e+02</td>\n",
       "      <td>1.000000</td>\n",
       "      <td>9.519900e+02</td>\n",
       "      <td>0.000000</td>\n",
       "      <td>2017.000000</td>\n",
       "      <td>4.000000</td>\n",
       "      <td>NaN</td>\n",
       "    </tr>\n",
       "    <tr>\n",
       "      <th>50%</th>\n",
       "      <td>572739.500000</td>\n",
       "      <td>NaN</td>\n",
       "      <td>9.000000e+02</td>\n",
       "      <td>1.000000</td>\n",
       "      <td>1.986000e+03</td>\n",
       "      <td>0.000000</td>\n",
       "      <td>2017.000000</td>\n",
       "      <td>7.000000</td>\n",
       "      <td>NaN</td>\n",
       "    </tr>\n",
       "    <tr>\n",
       "      <th>75%</th>\n",
       "      <td>741304.750000</td>\n",
       "      <td>NaN</td>\n",
       "      <td>4.053000e+03</td>\n",
       "      <td>1.000000</td>\n",
       "      <td>6.998000e+03</td>\n",
       "      <td>164.850000</td>\n",
       "      <td>2018.000000</td>\n",
       "      <td>11.000000</td>\n",
       "      <td>NaN</td>\n",
       "    </tr>\n",
       "    <tr>\n",
       "      <th>max</th>\n",
       "      <td>905208.000000</td>\n",
       "      <td>NaN</td>\n",
       "      <td>1.012626e+06</td>\n",
       "      <td>1000.000000</td>\n",
       "      <td>1.788800e+07</td>\n",
       "      <td>90300.000000</td>\n",
       "      <td>2018.000000</td>\n",
       "      <td>12.000000</td>\n",
       "      <td>NaN</td>\n",
       "    </tr>\n",
       "  </tbody>\n",
       "</table>\n",
       "</div>"
      ],
      "text/plain": [
       "              item_id           created_at         price    qty_ordered  \\\n",
       "count   576674.000000               576674  5.766740e+05  576674.000000   \n",
       "unique            NaN                  789           NaN            NaN   \n",
       "top               NaN  2016-11-25 00:00:00           NaN            NaN   \n",
       "freq              NaN                14929           NaN            NaN   \n",
       "first             NaN  2016-07-01 00:00:00           NaN            NaN   \n",
       "last              NaN  2018-08-28 00:00:00           NaN            NaN   \n",
       "mean    568938.450584                  NaN  6.378707e+03       1.297307   \n",
       "std     199151.731073                  NaN  1.500483e+04       4.005791   \n",
       "min     211131.000000                  NaN  0.000000e+00       1.000000   \n",
       "25%     400876.250000                  NaN  3.600000e+02       1.000000   \n",
       "50%     572739.500000                  NaN  9.000000e+02       1.000000   \n",
       "75%     741304.750000                  NaN  4.053000e+03       1.000000   \n",
       "max     905208.000000                  NaN  1.012626e+06    1000.000000   \n",
       "\n",
       "         grand_total  discount_amount           Year          Month  \\\n",
       "count   5.766740e+05    576674.000000  576674.000000  576674.000000   \n",
       "unique           NaN              NaN            NaN            NaN   \n",
       "top              NaN              NaN            NaN            NaN   \n",
       "freq             NaN              NaN            NaN            NaN   \n",
       "first            NaN              NaN            NaN            NaN   \n",
       "last             NaN              NaN            NaN            NaN   \n",
       "mean    8.584611e+03       503.155888    2017.054821       7.148139   \n",
       "std     6.172160e+04      1510.444784       0.704289       3.488570   \n",
       "min    -1.594000e+03         0.000000    2016.000000       1.000000   \n",
       "25%     9.519900e+02         0.000000    2017.000000       4.000000   \n",
       "50%     1.986000e+03         0.000000    2017.000000       7.000000   \n",
       "75%     6.998000e+03       164.850000    2018.000000      11.000000   \n",
       "max     1.788800e+07     90300.000000    2018.000000      12.000000   \n",
       "\n",
       "                        M-Y  \n",
       "count                576674  \n",
       "unique                   26  \n",
       "top     2017-11-01 00:00:00  \n",
       "freq                  83829  \n",
       "first   2016-07-01 00:00:00  \n",
       "last    2018-08-01 00:00:00  \n",
       "mean                    NaN  \n",
       "std                     NaN  \n",
       "min                     NaN  \n",
       "25%                     NaN  \n",
       "50%                     NaN  \n",
       "75%                     NaN  \n",
       "max                     NaN  "
      ]
     },
     "execution_count": 21,
     "metadata": {},
     "output_type": "execute_result"
    }
   ],
   "source": [
    "df1.describe(exclude=[object])"
   ]
  },
  {
   "attachments": {},
   "cell_type": "markdown",
   "metadata": {},
   "source": [
    "10. Terdapat nilai 'price' dan 'grand_total' yang bernilai 0, padahal nilai 'qty_ordered' tidak bernilai 0, hal ini diasumsikan sebagai outliers dengan jumlah sebanyak 149 baris (0,026%), sehingga data tersebut kita eliminasi."
   ]
  },
  {
   "cell_type": "code",
   "execution_count": 22,
   "metadata": {},
   "outputs": [
    {
     "data": {
      "text/html": [
       "<div>\n",
       "<style scoped>\n",
       "    .dataframe tbody tr th:only-of-type {\n",
       "        vertical-align: middle;\n",
       "    }\n",
       "\n",
       "    .dataframe tbody tr th {\n",
       "        vertical-align: top;\n",
       "    }\n",
       "\n",
       "    .dataframe thead th {\n",
       "        text-align: right;\n",
       "    }\n",
       "</style>\n",
       "<table border=\"1\" class=\"dataframe\">\n",
       "  <thead>\n",
       "    <tr style=\"text-align: right;\">\n",
       "      <th></th>\n",
       "      <th>item_id</th>\n",
       "      <th>status</th>\n",
       "      <th>created_at</th>\n",
       "      <th>price</th>\n",
       "      <th>qty_ordered</th>\n",
       "      <th>grand_total</th>\n",
       "      <th>category_name_1</th>\n",
       "      <th>discount_amount</th>\n",
       "      <th>payment_method</th>\n",
       "      <th>Year</th>\n",
       "      <th>Month</th>\n",
       "      <th>M-Y</th>\n",
       "    </tr>\n",
       "  </thead>\n",
       "  <tbody>\n",
       "    <tr>\n",
       "      <th>6598</th>\n",
       "      <td>218538.0</td>\n",
       "      <td>canceled</td>\n",
       "      <td>2016-07-26</td>\n",
       "      <td>0.0</td>\n",
       "      <td>1.0</td>\n",
       "      <td>0.0</td>\n",
       "      <td>Appliances</td>\n",
       "      <td>0.00</td>\n",
       "      <td>cod</td>\n",
       "      <td>2016.0</td>\n",
       "      <td>7.0</td>\n",
       "      <td>2016-07-01</td>\n",
       "    </tr>\n",
       "    <tr>\n",
       "      <th>6603</th>\n",
       "      <td>218542.0</td>\n",
       "      <td>canceled</td>\n",
       "      <td>2016-07-26</td>\n",
       "      <td>0.0</td>\n",
       "      <td>1.0</td>\n",
       "      <td>0.0</td>\n",
       "      <td>Appliances</td>\n",
       "      <td>0.00</td>\n",
       "      <td>cod</td>\n",
       "      <td>2016.0</td>\n",
       "      <td>7.0</td>\n",
       "      <td>2016-07-01</td>\n",
       "    </tr>\n",
       "    <tr>\n",
       "      <th>7004</th>\n",
       "      <td>218988.0</td>\n",
       "      <td>canceled</td>\n",
       "      <td>2016-07-27</td>\n",
       "      <td>0.0</td>\n",
       "      <td>1.0</td>\n",
       "      <td>0.0</td>\n",
       "      <td>Appliances</td>\n",
       "      <td>0.00</td>\n",
       "      <td>cod</td>\n",
       "      <td>2016.0</td>\n",
       "      <td>7.0</td>\n",
       "      <td>2016-07-01</td>\n",
       "    </tr>\n",
       "    <tr>\n",
       "      <th>8298</th>\n",
       "      <td>220494.0</td>\n",
       "      <td>canceled</td>\n",
       "      <td>2016-07-29</td>\n",
       "      <td>0.0</td>\n",
       "      <td>1.0</td>\n",
       "      <td>0.0</td>\n",
       "      <td>Kids &amp; Baby</td>\n",
       "      <td>0.00</td>\n",
       "      <td>cod</td>\n",
       "      <td>2016.0</td>\n",
       "      <td>7.0</td>\n",
       "      <td>2016-07-01</td>\n",
       "    </tr>\n",
       "    <tr>\n",
       "      <th>8333</th>\n",
       "      <td>220540.0</td>\n",
       "      <td>canceled</td>\n",
       "      <td>2016-07-29</td>\n",
       "      <td>0.0</td>\n",
       "      <td>10.0</td>\n",
       "      <td>0.0</td>\n",
       "      <td>Kids &amp; Baby</td>\n",
       "      <td>0.00</td>\n",
       "      <td>cod</td>\n",
       "      <td>2016.0</td>\n",
       "      <td>7.0</td>\n",
       "      <td>2016-07-01</td>\n",
       "    </tr>\n",
       "    <tr>\n",
       "      <th>...</th>\n",
       "      <td>...</td>\n",
       "      <td>...</td>\n",
       "      <td>...</td>\n",
       "      <td>...</td>\n",
       "      <td>...</td>\n",
       "      <td>...</td>\n",
       "      <td>...</td>\n",
       "      <td>...</td>\n",
       "      <td>...</td>\n",
       "      <td>...</td>\n",
       "      <td>...</td>\n",
       "      <td>...</td>\n",
       "    </tr>\n",
       "    <tr>\n",
       "      <th>428961</th>\n",
       "      <td>728647.0</td>\n",
       "      <td>complete</td>\n",
       "      <td>2018-01-09</td>\n",
       "      <td>0.0</td>\n",
       "      <td>2.0</td>\n",
       "      <td>0.0</td>\n",
       "      <td>Beauty &amp; Grooming</td>\n",
       "      <td>0.00</td>\n",
       "      <td>customercredit</td>\n",
       "      <td>2018.0</td>\n",
       "      <td>1.0</td>\n",
       "      <td>2018-01-01</td>\n",
       "    </tr>\n",
       "    <tr>\n",
       "      <th>453450</th>\n",
       "      <td>756090.0</td>\n",
       "      <td>complete</td>\n",
       "      <td>2018-02-20</td>\n",
       "      <td>0.0</td>\n",
       "      <td>1.0</td>\n",
       "      <td>0.0</td>\n",
       "      <td>Books</td>\n",
       "      <td>0.00</td>\n",
       "      <td>customercredit</td>\n",
       "      <td>2018.0</td>\n",
       "      <td>2.0</td>\n",
       "      <td>2018-02-01</td>\n",
       "    </tr>\n",
       "    <tr>\n",
       "      <th>492682</th>\n",
       "      <td>802892.0</td>\n",
       "      <td>order_refunded</td>\n",
       "      <td>2018-03-27</td>\n",
       "      <td>0.0</td>\n",
       "      <td>5.0</td>\n",
       "      <td>0.0</td>\n",
       "      <td>Home &amp; Living</td>\n",
       "      <td>0.00</td>\n",
       "      <td>customercredit</td>\n",
       "      <td>2018.0</td>\n",
       "      <td>3.0</td>\n",
       "      <td>2018-03-01</td>\n",
       "    </tr>\n",
       "    <tr>\n",
       "      <th>497665</th>\n",
       "      <td>809191.0</td>\n",
       "      <td>paid</td>\n",
       "      <td>2018-03-28</td>\n",
       "      <td>0.0</td>\n",
       "      <td>5.0</td>\n",
       "      <td>0.0</td>\n",
       "      <td>Home &amp; Living</td>\n",
       "      <td>199.99</td>\n",
       "      <td>customercredit</td>\n",
       "      <td>2018.0</td>\n",
       "      <td>3.0</td>\n",
       "      <td>2018-03-01</td>\n",
       "    </tr>\n",
       "    <tr>\n",
       "      <th>510596</th>\n",
       "      <td>823207.0</td>\n",
       "      <td>complete</td>\n",
       "      <td>2018-04-11</td>\n",
       "      <td>0.0</td>\n",
       "      <td>5.0</td>\n",
       "      <td>0.0</td>\n",
       "      <td>Books</td>\n",
       "      <td>200.00</td>\n",
       "      <td>customercredit</td>\n",
       "      <td>2018.0</td>\n",
       "      <td>4.0</td>\n",
       "      <td>2018-04-01</td>\n",
       "    </tr>\n",
       "  </tbody>\n",
       "</table>\n",
       "<p>149 rows × 12 columns</p>\n",
       "</div>"
      ],
      "text/plain": [
       "         item_id          status created_at  price  qty_ordered  grand_total  \\\n",
       "6598    218538.0        canceled 2016-07-26    0.0          1.0          0.0   \n",
       "6603    218542.0        canceled 2016-07-26    0.0          1.0          0.0   \n",
       "7004    218988.0        canceled 2016-07-27    0.0          1.0          0.0   \n",
       "8298    220494.0        canceled 2016-07-29    0.0          1.0          0.0   \n",
       "8333    220540.0        canceled 2016-07-29    0.0         10.0          0.0   \n",
       "...          ...             ...        ...    ...          ...          ...   \n",
       "428961  728647.0        complete 2018-01-09    0.0          2.0          0.0   \n",
       "453450  756090.0        complete 2018-02-20    0.0          1.0          0.0   \n",
       "492682  802892.0  order_refunded 2018-03-27    0.0          5.0          0.0   \n",
       "497665  809191.0            paid 2018-03-28    0.0          5.0          0.0   \n",
       "510596  823207.0        complete 2018-04-11    0.0          5.0          0.0   \n",
       "\n",
       "          category_name_1  discount_amount  payment_method    Year  Month  \\\n",
       "6598           Appliances             0.00             cod  2016.0    7.0   \n",
       "6603           Appliances             0.00             cod  2016.0    7.0   \n",
       "7004           Appliances             0.00             cod  2016.0    7.0   \n",
       "8298          Kids & Baby             0.00             cod  2016.0    7.0   \n",
       "8333          Kids & Baby             0.00             cod  2016.0    7.0   \n",
       "...                   ...              ...             ...     ...    ...   \n",
       "428961  Beauty & Grooming             0.00  customercredit  2018.0    1.0   \n",
       "453450              Books             0.00  customercredit  2018.0    2.0   \n",
       "492682      Home & Living             0.00  customercredit  2018.0    3.0   \n",
       "497665      Home & Living           199.99  customercredit  2018.0    3.0   \n",
       "510596              Books           200.00  customercredit  2018.0    4.0   \n",
       "\n",
       "              M-Y  \n",
       "6598   2016-07-01  \n",
       "6603   2016-07-01  \n",
       "7004   2016-07-01  \n",
       "8298   2016-07-01  \n",
       "8333   2016-07-01  \n",
       "...           ...  \n",
       "428961 2018-01-01  \n",
       "453450 2018-02-01  \n",
       "492682 2018-03-01  \n",
       "497665 2018-03-01  \n",
       "510596 2018-04-01  \n",
       "\n",
       "[149 rows x 12 columns]"
      ]
     },
     "execution_count": 22,
     "metadata": {},
     "output_type": "execute_result"
    }
   ],
   "source": [
    "df1[(df1['price'] == 0) & (df1['grand_total']== 0)]"
   ]
  },
  {
   "cell_type": "code",
   "execution_count": 23,
   "metadata": {},
   "outputs": [],
   "source": [
    "c = df1[(df1['price'] == 0) & (df1['grand_total']== 0)].index\n",
    "df1.drop(c, inplace=True)"
   ]
  },
  {
   "attachments": {},
   "cell_type": "markdown",
   "metadata": {},
   "source": [
    "11. Terdapat kolom 'price' yang memiliki nilai 0 sebanyak 2054 baris (0,36%), terhadap data tersebut kita akan isi menggunakan perhitungan sebagai berikut:  \n",
    "**price = (grand_total + discount_amout) / qty_ordered**"
   ]
  },
  {
   "cell_type": "code",
   "execution_count": 24,
   "metadata": {},
   "outputs": [
    {
     "data": {
      "text/html": [
       "<div>\n",
       "<style scoped>\n",
       "    .dataframe tbody tr th:only-of-type {\n",
       "        vertical-align: middle;\n",
       "    }\n",
       "\n",
       "    .dataframe tbody tr th {\n",
       "        vertical-align: top;\n",
       "    }\n",
       "\n",
       "    .dataframe thead th {\n",
       "        text-align: right;\n",
       "    }\n",
       "</style>\n",
       "<table border=\"1\" class=\"dataframe\">\n",
       "  <thead>\n",
       "    <tr style=\"text-align: right;\">\n",
       "      <th></th>\n",
       "      <th>item_id</th>\n",
       "      <th>status</th>\n",
       "      <th>created_at</th>\n",
       "      <th>price</th>\n",
       "      <th>qty_ordered</th>\n",
       "      <th>grand_total</th>\n",
       "      <th>category_name_1</th>\n",
       "      <th>discount_amount</th>\n",
       "      <th>payment_method</th>\n",
       "      <th>Year</th>\n",
       "      <th>Month</th>\n",
       "      <th>M-Y</th>\n",
       "    </tr>\n",
       "  </thead>\n",
       "  <tbody>\n",
       "    <tr>\n",
       "      <th>8358</th>\n",
       "      <td>220568.0</td>\n",
       "      <td>complete</td>\n",
       "      <td>2016-07-29</td>\n",
       "      <td>0.0</td>\n",
       "      <td>2.0</td>\n",
       "      <td>685.0</td>\n",
       "      <td>Kids &amp; Baby</td>\n",
       "      <td>0.0</td>\n",
       "      <td>cod</td>\n",
       "      <td>2016.0</td>\n",
       "      <td>7.0</td>\n",
       "      <td>2016-07-01</td>\n",
       "    </tr>\n",
       "    <tr>\n",
       "      <th>8771</th>\n",
       "      <td>221032.0</td>\n",
       "      <td>complete</td>\n",
       "      <td>2016-07-31</td>\n",
       "      <td>0.0</td>\n",
       "      <td>1.0</td>\n",
       "      <td>55.0</td>\n",
       "      <td>Kids &amp; Baby</td>\n",
       "      <td>0.0</td>\n",
       "      <td>cod</td>\n",
       "      <td>2016.0</td>\n",
       "      <td>7.0</td>\n",
       "      <td>2016-07-01</td>\n",
       "    </tr>\n",
       "    <tr>\n",
       "      <th>11054</th>\n",
       "      <td>224392.0</td>\n",
       "      <td>complete</td>\n",
       "      <td>2016-08-05</td>\n",
       "      <td>0.0</td>\n",
       "      <td>1.0</td>\n",
       "      <td>70.0</td>\n",
       "      <td>Soghaat</td>\n",
       "      <td>0.0</td>\n",
       "      <td>cod</td>\n",
       "      <td>2016.0</td>\n",
       "      <td>8.0</td>\n",
       "      <td>2016-08-01</td>\n",
       "    </tr>\n",
       "    <tr>\n",
       "      <th>12165</th>\n",
       "      <td>226019.0</td>\n",
       "      <td>complete</td>\n",
       "      <td>2016-08-08</td>\n",
       "      <td>0.0</td>\n",
       "      <td>1.0</td>\n",
       "      <td>70.0</td>\n",
       "      <td>Soghaat</td>\n",
       "      <td>0.0</td>\n",
       "      <td>cod</td>\n",
       "      <td>2016.0</td>\n",
       "      <td>8.0</td>\n",
       "      <td>2016-08-01</td>\n",
       "    </tr>\n",
       "    <tr>\n",
       "      <th>12360</th>\n",
       "      <td>226329.0</td>\n",
       "      <td>complete</td>\n",
       "      <td>2016-08-08</td>\n",
       "      <td>0.0</td>\n",
       "      <td>1.0</td>\n",
       "      <td>155.0</td>\n",
       "      <td>Soghaat</td>\n",
       "      <td>0.0</td>\n",
       "      <td>cod</td>\n",
       "      <td>2016.0</td>\n",
       "      <td>8.0</td>\n",
       "      <td>2016-08-01</td>\n",
       "    </tr>\n",
       "    <tr>\n",
       "      <th>...</th>\n",
       "      <td>...</td>\n",
       "      <td>...</td>\n",
       "      <td>...</td>\n",
       "      <td>...</td>\n",
       "      <td>...</td>\n",
       "      <td>...</td>\n",
       "      <td>...</td>\n",
       "      <td>...</td>\n",
       "      <td>...</td>\n",
       "      <td>...</td>\n",
       "      <td>...</td>\n",
       "      <td>...</td>\n",
       "    </tr>\n",
       "    <tr>\n",
       "      <th>584260</th>\n",
       "      <td>904901.0</td>\n",
       "      <td>cod</td>\n",
       "      <td>2018-08-27</td>\n",
       "      <td>0.0</td>\n",
       "      <td>2.0</td>\n",
       "      <td>150.0</td>\n",
       "      <td>Computing</td>\n",
       "      <td>0.0</td>\n",
       "      <td>cod</td>\n",
       "      <td>2018.0</td>\n",
       "      <td>8.0</td>\n",
       "      <td>2018-08-01</td>\n",
       "    </tr>\n",
       "    <tr>\n",
       "      <th>584261</th>\n",
       "      <td>904902.0</td>\n",
       "      <td>cod</td>\n",
       "      <td>2018-08-27</td>\n",
       "      <td>0.0</td>\n",
       "      <td>2.0</td>\n",
       "      <td>150.0</td>\n",
       "      <td>Computing</td>\n",
       "      <td>0.0</td>\n",
       "      <td>cod</td>\n",
       "      <td>2018.0</td>\n",
       "      <td>8.0</td>\n",
       "      <td>2018-08-01</td>\n",
       "    </tr>\n",
       "    <tr>\n",
       "      <th>584264</th>\n",
       "      <td>904906.0</td>\n",
       "      <td>cod</td>\n",
       "      <td>2018-08-27</td>\n",
       "      <td>0.0</td>\n",
       "      <td>2.0</td>\n",
       "      <td>150.0</td>\n",
       "      <td>Computing</td>\n",
       "      <td>0.0</td>\n",
       "      <td>cod</td>\n",
       "      <td>2018.0</td>\n",
       "      <td>8.0</td>\n",
       "      <td>2018-08-01</td>\n",
       "    </tr>\n",
       "    <tr>\n",
       "      <th>584270</th>\n",
       "      <td>904916.0</td>\n",
       "      <td>cod</td>\n",
       "      <td>2018-08-27</td>\n",
       "      <td>0.0</td>\n",
       "      <td>2.0</td>\n",
       "      <td>150.0</td>\n",
       "      <td>Computing</td>\n",
       "      <td>0.0</td>\n",
       "      <td>cod</td>\n",
       "      <td>2018.0</td>\n",
       "      <td>8.0</td>\n",
       "      <td>2018-08-01</td>\n",
       "    </tr>\n",
       "    <tr>\n",
       "      <th>584271</th>\n",
       "      <td>904917.0</td>\n",
       "      <td>cod</td>\n",
       "      <td>2018-08-27</td>\n",
       "      <td>0.0</td>\n",
       "      <td>1.0</td>\n",
       "      <td>150.0</td>\n",
       "      <td>Computing</td>\n",
       "      <td>0.0</td>\n",
       "      <td>cod</td>\n",
       "      <td>2018.0</td>\n",
       "      <td>8.0</td>\n",
       "      <td>2018-08-01</td>\n",
       "    </tr>\n",
       "  </tbody>\n",
       "</table>\n",
       "<p>2055 rows × 12 columns</p>\n",
       "</div>"
      ],
      "text/plain": [
       "         item_id    status created_at  price  qty_ordered  grand_total  \\\n",
       "8358    220568.0  complete 2016-07-29    0.0          2.0        685.0   \n",
       "8771    221032.0  complete 2016-07-31    0.0          1.0         55.0   \n",
       "11054   224392.0  complete 2016-08-05    0.0          1.0         70.0   \n",
       "12165   226019.0  complete 2016-08-08    0.0          1.0         70.0   \n",
       "12360   226329.0  complete 2016-08-08    0.0          1.0        155.0   \n",
       "...          ...       ...        ...    ...          ...          ...   \n",
       "584260  904901.0       cod 2018-08-27    0.0          2.0        150.0   \n",
       "584261  904902.0       cod 2018-08-27    0.0          2.0        150.0   \n",
       "584264  904906.0       cod 2018-08-27    0.0          2.0        150.0   \n",
       "584270  904916.0       cod 2018-08-27    0.0          2.0        150.0   \n",
       "584271  904917.0       cod 2018-08-27    0.0          1.0        150.0   \n",
       "\n",
       "       category_name_1  discount_amount payment_method    Year  Month  \\\n",
       "8358       Kids & Baby              0.0            cod  2016.0    7.0   \n",
       "8771       Kids & Baby              0.0            cod  2016.0    7.0   \n",
       "11054          Soghaat              0.0            cod  2016.0    8.0   \n",
       "12165          Soghaat              0.0            cod  2016.0    8.0   \n",
       "12360          Soghaat              0.0            cod  2016.0    8.0   \n",
       "...                ...              ...            ...     ...    ...   \n",
       "584260       Computing              0.0            cod  2018.0    8.0   \n",
       "584261       Computing              0.0            cod  2018.0    8.0   \n",
       "584264       Computing              0.0            cod  2018.0    8.0   \n",
       "584270       Computing              0.0            cod  2018.0    8.0   \n",
       "584271       Computing              0.0            cod  2018.0    8.0   \n",
       "\n",
       "              M-Y  \n",
       "8358   2016-07-01  \n",
       "8771   2016-07-01  \n",
       "11054  2016-08-01  \n",
       "12165  2016-08-01  \n",
       "12360  2016-08-01  \n",
       "...           ...  \n",
       "584260 2018-08-01  \n",
       "584261 2018-08-01  \n",
       "584264 2018-08-01  \n",
       "584270 2018-08-01  \n",
       "584271 2018-08-01  \n",
       "\n",
       "[2055 rows x 12 columns]"
      ]
     },
     "execution_count": 24,
     "metadata": {},
     "output_type": "execute_result"
    }
   ],
   "source": [
    "df1[df1['price'] <= 0]"
   ]
  },
  {
   "cell_type": "code",
   "execution_count": 25,
   "metadata": {},
   "outputs": [
    {
     "data": {
      "text/html": [
       "<div>\n",
       "<style scoped>\n",
       "    .dataframe tbody tr th:only-of-type {\n",
       "        vertical-align: middle;\n",
       "    }\n",
       "\n",
       "    .dataframe tbody tr th {\n",
       "        vertical-align: top;\n",
       "    }\n",
       "\n",
       "    .dataframe thead th {\n",
       "        text-align: right;\n",
       "    }\n",
       "</style>\n",
       "<table border=\"1\" class=\"dataframe\">\n",
       "  <thead>\n",
       "    <tr style=\"text-align: right;\">\n",
       "      <th></th>\n",
       "      <th>item_id</th>\n",
       "      <th>status</th>\n",
       "      <th>created_at</th>\n",
       "      <th>price</th>\n",
       "      <th>qty_ordered</th>\n",
       "      <th>grand_total</th>\n",
       "      <th>category_name_1</th>\n",
       "      <th>discount_amount</th>\n",
       "      <th>payment_method</th>\n",
       "      <th>Year</th>\n",
       "      <th>Month</th>\n",
       "      <th>M-Y</th>\n",
       "    </tr>\n",
       "  </thead>\n",
       "  <tbody>\n",
       "    <tr>\n",
       "      <th>8358</th>\n",
       "      <td>220568.0</td>\n",
       "      <td>complete</td>\n",
       "      <td>2016-07-29</td>\n",
       "      <td>342.5</td>\n",
       "      <td>2.0</td>\n",
       "      <td>685.0</td>\n",
       "      <td>Kids &amp; Baby</td>\n",
       "      <td>0.0</td>\n",
       "      <td>cod</td>\n",
       "      <td>2016.0</td>\n",
       "      <td>7.0</td>\n",
       "      <td>2016-07-01</td>\n",
       "    </tr>\n",
       "    <tr>\n",
       "      <th>8771</th>\n",
       "      <td>221032.0</td>\n",
       "      <td>complete</td>\n",
       "      <td>2016-07-31</td>\n",
       "      <td>55.0</td>\n",
       "      <td>1.0</td>\n",
       "      <td>55.0</td>\n",
       "      <td>Kids &amp; Baby</td>\n",
       "      <td>0.0</td>\n",
       "      <td>cod</td>\n",
       "      <td>2016.0</td>\n",
       "      <td>7.0</td>\n",
       "      <td>2016-07-01</td>\n",
       "    </tr>\n",
       "    <tr>\n",
       "      <th>11054</th>\n",
       "      <td>224392.0</td>\n",
       "      <td>complete</td>\n",
       "      <td>2016-08-05</td>\n",
       "      <td>70.0</td>\n",
       "      <td>1.0</td>\n",
       "      <td>70.0</td>\n",
       "      <td>Soghaat</td>\n",
       "      <td>0.0</td>\n",
       "      <td>cod</td>\n",
       "      <td>2016.0</td>\n",
       "      <td>8.0</td>\n",
       "      <td>2016-08-01</td>\n",
       "    </tr>\n",
       "    <tr>\n",
       "      <th>12165</th>\n",
       "      <td>226019.0</td>\n",
       "      <td>complete</td>\n",
       "      <td>2016-08-08</td>\n",
       "      <td>70.0</td>\n",
       "      <td>1.0</td>\n",
       "      <td>70.0</td>\n",
       "      <td>Soghaat</td>\n",
       "      <td>0.0</td>\n",
       "      <td>cod</td>\n",
       "      <td>2016.0</td>\n",
       "      <td>8.0</td>\n",
       "      <td>2016-08-01</td>\n",
       "    </tr>\n",
       "    <tr>\n",
       "      <th>12360</th>\n",
       "      <td>226329.0</td>\n",
       "      <td>complete</td>\n",
       "      <td>2016-08-08</td>\n",
       "      <td>155.0</td>\n",
       "      <td>1.0</td>\n",
       "      <td>155.0</td>\n",
       "      <td>Soghaat</td>\n",
       "      <td>0.0</td>\n",
       "      <td>cod</td>\n",
       "      <td>2016.0</td>\n",
       "      <td>8.0</td>\n",
       "      <td>2016-08-01</td>\n",
       "    </tr>\n",
       "    <tr>\n",
       "      <th>...</th>\n",
       "      <td>...</td>\n",
       "      <td>...</td>\n",
       "      <td>...</td>\n",
       "      <td>...</td>\n",
       "      <td>...</td>\n",
       "      <td>...</td>\n",
       "      <td>...</td>\n",
       "      <td>...</td>\n",
       "      <td>...</td>\n",
       "      <td>...</td>\n",
       "      <td>...</td>\n",
       "      <td>...</td>\n",
       "    </tr>\n",
       "    <tr>\n",
       "      <th>584260</th>\n",
       "      <td>904901.0</td>\n",
       "      <td>cod</td>\n",
       "      <td>2018-08-27</td>\n",
       "      <td>75.0</td>\n",
       "      <td>2.0</td>\n",
       "      <td>150.0</td>\n",
       "      <td>Computing</td>\n",
       "      <td>0.0</td>\n",
       "      <td>cod</td>\n",
       "      <td>2018.0</td>\n",
       "      <td>8.0</td>\n",
       "      <td>2018-08-01</td>\n",
       "    </tr>\n",
       "    <tr>\n",
       "      <th>584261</th>\n",
       "      <td>904902.0</td>\n",
       "      <td>cod</td>\n",
       "      <td>2018-08-27</td>\n",
       "      <td>75.0</td>\n",
       "      <td>2.0</td>\n",
       "      <td>150.0</td>\n",
       "      <td>Computing</td>\n",
       "      <td>0.0</td>\n",
       "      <td>cod</td>\n",
       "      <td>2018.0</td>\n",
       "      <td>8.0</td>\n",
       "      <td>2018-08-01</td>\n",
       "    </tr>\n",
       "    <tr>\n",
       "      <th>584264</th>\n",
       "      <td>904906.0</td>\n",
       "      <td>cod</td>\n",
       "      <td>2018-08-27</td>\n",
       "      <td>75.0</td>\n",
       "      <td>2.0</td>\n",
       "      <td>150.0</td>\n",
       "      <td>Computing</td>\n",
       "      <td>0.0</td>\n",
       "      <td>cod</td>\n",
       "      <td>2018.0</td>\n",
       "      <td>8.0</td>\n",
       "      <td>2018-08-01</td>\n",
       "    </tr>\n",
       "    <tr>\n",
       "      <th>584270</th>\n",
       "      <td>904916.0</td>\n",
       "      <td>cod</td>\n",
       "      <td>2018-08-27</td>\n",
       "      <td>75.0</td>\n",
       "      <td>2.0</td>\n",
       "      <td>150.0</td>\n",
       "      <td>Computing</td>\n",
       "      <td>0.0</td>\n",
       "      <td>cod</td>\n",
       "      <td>2018.0</td>\n",
       "      <td>8.0</td>\n",
       "      <td>2018-08-01</td>\n",
       "    </tr>\n",
       "    <tr>\n",
       "      <th>584271</th>\n",
       "      <td>904917.0</td>\n",
       "      <td>cod</td>\n",
       "      <td>2018-08-27</td>\n",
       "      <td>150.0</td>\n",
       "      <td>1.0</td>\n",
       "      <td>150.0</td>\n",
       "      <td>Computing</td>\n",
       "      <td>0.0</td>\n",
       "      <td>cod</td>\n",
       "      <td>2018.0</td>\n",
       "      <td>8.0</td>\n",
       "      <td>2018-08-01</td>\n",
       "    </tr>\n",
       "  </tbody>\n",
       "</table>\n",
       "<p>2055 rows × 12 columns</p>\n",
       "</div>"
      ],
      "text/plain": [
       "         item_id    status created_at  price  qty_ordered  grand_total  \\\n",
       "8358    220568.0  complete 2016-07-29  342.5          2.0        685.0   \n",
       "8771    221032.0  complete 2016-07-31   55.0          1.0         55.0   \n",
       "11054   224392.0  complete 2016-08-05   70.0          1.0         70.0   \n",
       "12165   226019.0  complete 2016-08-08   70.0          1.0         70.0   \n",
       "12360   226329.0  complete 2016-08-08  155.0          1.0        155.0   \n",
       "...          ...       ...        ...    ...          ...          ...   \n",
       "584260  904901.0       cod 2018-08-27   75.0          2.0        150.0   \n",
       "584261  904902.0       cod 2018-08-27   75.0          2.0        150.0   \n",
       "584264  904906.0       cod 2018-08-27   75.0          2.0        150.0   \n",
       "584270  904916.0       cod 2018-08-27   75.0          2.0        150.0   \n",
       "584271  904917.0       cod 2018-08-27  150.0          1.0        150.0   \n",
       "\n",
       "       category_name_1  discount_amount payment_method    Year  Month  \\\n",
       "8358       Kids & Baby              0.0            cod  2016.0    7.0   \n",
       "8771       Kids & Baby              0.0            cod  2016.0    7.0   \n",
       "11054          Soghaat              0.0            cod  2016.0    8.0   \n",
       "12165          Soghaat              0.0            cod  2016.0    8.0   \n",
       "12360          Soghaat              0.0            cod  2016.0    8.0   \n",
       "...                ...              ...            ...     ...    ...   \n",
       "584260       Computing              0.0            cod  2018.0    8.0   \n",
       "584261       Computing              0.0            cod  2018.0    8.0   \n",
       "584264       Computing              0.0            cod  2018.0    8.0   \n",
       "584270       Computing              0.0            cod  2018.0    8.0   \n",
       "584271       Computing              0.0            cod  2018.0    8.0   \n",
       "\n",
       "              M-Y  \n",
       "8358   2016-07-01  \n",
       "8771   2016-07-01  \n",
       "11054  2016-08-01  \n",
       "12165  2016-08-01  \n",
       "12360  2016-08-01  \n",
       "...           ...  \n",
       "584260 2018-08-01  \n",
       "584261 2018-08-01  \n",
       "584264 2018-08-01  \n",
       "584270 2018-08-01  \n",
       "584271 2018-08-01  \n",
       "\n",
       "[2055 rows x 12 columns]"
      ]
     },
     "execution_count": 25,
     "metadata": {},
     "output_type": "execute_result"
    }
   ],
   "source": [
    "f = df1[df1['price'] <= 0]\n",
    "f['price'] = ((f['grand_total']) + (f['discount_amount'])) / (f['qty_ordered'])\n",
    "f"
   ]
  },
  {
   "cell_type": "code",
   "execution_count": 26,
   "metadata": {},
   "outputs": [
    {
     "data": {
      "text/html": [
       "<div>\n",
       "<style scoped>\n",
       "    .dataframe tbody tr th:only-of-type {\n",
       "        vertical-align: middle;\n",
       "    }\n",
       "\n",
       "    .dataframe tbody tr th {\n",
       "        vertical-align: top;\n",
       "    }\n",
       "\n",
       "    .dataframe thead th {\n",
       "        text-align: right;\n",
       "    }\n",
       "</style>\n",
       "<table border=\"1\" class=\"dataframe\">\n",
       "  <thead>\n",
       "    <tr style=\"text-align: right;\">\n",
       "      <th></th>\n",
       "      <th>item_id</th>\n",
       "      <th>status</th>\n",
       "      <th>created_at</th>\n",
       "      <th>price</th>\n",
       "      <th>qty_ordered</th>\n",
       "      <th>grand_total</th>\n",
       "      <th>category_name_1</th>\n",
       "      <th>discount_amount</th>\n",
       "      <th>payment_method</th>\n",
       "      <th>Year</th>\n",
       "      <th>Month</th>\n",
       "      <th>M-Y</th>\n",
       "    </tr>\n",
       "  </thead>\n",
       "  <tbody>\n",
       "    <tr>\n",
       "      <th>8358</th>\n",
       "      <td>220568.0</td>\n",
       "      <td>complete</td>\n",
       "      <td>2016-07-29</td>\n",
       "      <td>0.0</td>\n",
       "      <td>2.0</td>\n",
       "      <td>685.0</td>\n",
       "      <td>Kids &amp; Baby</td>\n",
       "      <td>0.0</td>\n",
       "      <td>cod</td>\n",
       "      <td>2016.0</td>\n",
       "      <td>7.0</td>\n",
       "      <td>2016-07-01</td>\n",
       "    </tr>\n",
       "    <tr>\n",
       "      <th>8771</th>\n",
       "      <td>221032.0</td>\n",
       "      <td>complete</td>\n",
       "      <td>2016-07-31</td>\n",
       "      <td>0.0</td>\n",
       "      <td>1.0</td>\n",
       "      <td>55.0</td>\n",
       "      <td>Kids &amp; Baby</td>\n",
       "      <td>0.0</td>\n",
       "      <td>cod</td>\n",
       "      <td>2016.0</td>\n",
       "      <td>7.0</td>\n",
       "      <td>2016-07-01</td>\n",
       "    </tr>\n",
       "    <tr>\n",
       "      <th>11054</th>\n",
       "      <td>224392.0</td>\n",
       "      <td>complete</td>\n",
       "      <td>2016-08-05</td>\n",
       "      <td>0.0</td>\n",
       "      <td>1.0</td>\n",
       "      <td>70.0</td>\n",
       "      <td>Soghaat</td>\n",
       "      <td>0.0</td>\n",
       "      <td>cod</td>\n",
       "      <td>2016.0</td>\n",
       "      <td>8.0</td>\n",
       "      <td>2016-08-01</td>\n",
       "    </tr>\n",
       "    <tr>\n",
       "      <th>12165</th>\n",
       "      <td>226019.0</td>\n",
       "      <td>complete</td>\n",
       "      <td>2016-08-08</td>\n",
       "      <td>0.0</td>\n",
       "      <td>1.0</td>\n",
       "      <td>70.0</td>\n",
       "      <td>Soghaat</td>\n",
       "      <td>0.0</td>\n",
       "      <td>cod</td>\n",
       "      <td>2016.0</td>\n",
       "      <td>8.0</td>\n",
       "      <td>2016-08-01</td>\n",
       "    </tr>\n",
       "    <tr>\n",
       "      <th>12360</th>\n",
       "      <td>226329.0</td>\n",
       "      <td>complete</td>\n",
       "      <td>2016-08-08</td>\n",
       "      <td>0.0</td>\n",
       "      <td>1.0</td>\n",
       "      <td>155.0</td>\n",
       "      <td>Soghaat</td>\n",
       "      <td>0.0</td>\n",
       "      <td>cod</td>\n",
       "      <td>2016.0</td>\n",
       "      <td>8.0</td>\n",
       "      <td>2016-08-01</td>\n",
       "    </tr>\n",
       "    <tr>\n",
       "      <th>...</th>\n",
       "      <td>...</td>\n",
       "      <td>...</td>\n",
       "      <td>...</td>\n",
       "      <td>...</td>\n",
       "      <td>...</td>\n",
       "      <td>...</td>\n",
       "      <td>...</td>\n",
       "      <td>...</td>\n",
       "      <td>...</td>\n",
       "      <td>...</td>\n",
       "      <td>...</td>\n",
       "      <td>...</td>\n",
       "    </tr>\n",
       "    <tr>\n",
       "      <th>584260</th>\n",
       "      <td>904901.0</td>\n",
       "      <td>cod</td>\n",
       "      <td>2018-08-27</td>\n",
       "      <td>0.0</td>\n",
       "      <td>2.0</td>\n",
       "      <td>150.0</td>\n",
       "      <td>Computing</td>\n",
       "      <td>0.0</td>\n",
       "      <td>cod</td>\n",
       "      <td>2018.0</td>\n",
       "      <td>8.0</td>\n",
       "      <td>2018-08-01</td>\n",
       "    </tr>\n",
       "    <tr>\n",
       "      <th>584261</th>\n",
       "      <td>904902.0</td>\n",
       "      <td>cod</td>\n",
       "      <td>2018-08-27</td>\n",
       "      <td>0.0</td>\n",
       "      <td>2.0</td>\n",
       "      <td>150.0</td>\n",
       "      <td>Computing</td>\n",
       "      <td>0.0</td>\n",
       "      <td>cod</td>\n",
       "      <td>2018.0</td>\n",
       "      <td>8.0</td>\n",
       "      <td>2018-08-01</td>\n",
       "    </tr>\n",
       "    <tr>\n",
       "      <th>584264</th>\n",
       "      <td>904906.0</td>\n",
       "      <td>cod</td>\n",
       "      <td>2018-08-27</td>\n",
       "      <td>0.0</td>\n",
       "      <td>2.0</td>\n",
       "      <td>150.0</td>\n",
       "      <td>Computing</td>\n",
       "      <td>0.0</td>\n",
       "      <td>cod</td>\n",
       "      <td>2018.0</td>\n",
       "      <td>8.0</td>\n",
       "      <td>2018-08-01</td>\n",
       "    </tr>\n",
       "    <tr>\n",
       "      <th>584270</th>\n",
       "      <td>904916.0</td>\n",
       "      <td>cod</td>\n",
       "      <td>2018-08-27</td>\n",
       "      <td>0.0</td>\n",
       "      <td>2.0</td>\n",
       "      <td>150.0</td>\n",
       "      <td>Computing</td>\n",
       "      <td>0.0</td>\n",
       "      <td>cod</td>\n",
       "      <td>2018.0</td>\n",
       "      <td>8.0</td>\n",
       "      <td>2018-08-01</td>\n",
       "    </tr>\n",
       "    <tr>\n",
       "      <th>584271</th>\n",
       "      <td>904917.0</td>\n",
       "      <td>cod</td>\n",
       "      <td>2018-08-27</td>\n",
       "      <td>0.0</td>\n",
       "      <td>1.0</td>\n",
       "      <td>150.0</td>\n",
       "      <td>Computing</td>\n",
       "      <td>0.0</td>\n",
       "      <td>cod</td>\n",
       "      <td>2018.0</td>\n",
       "      <td>8.0</td>\n",
       "      <td>2018-08-01</td>\n",
       "    </tr>\n",
       "  </tbody>\n",
       "</table>\n",
       "<p>2055 rows × 12 columns</p>\n",
       "</div>"
      ],
      "text/plain": [
       "         item_id    status created_at  price  qty_ordered  grand_total  \\\n",
       "8358    220568.0  complete 2016-07-29    0.0          2.0        685.0   \n",
       "8771    221032.0  complete 2016-07-31    0.0          1.0         55.0   \n",
       "11054   224392.0  complete 2016-08-05    0.0          1.0         70.0   \n",
       "12165   226019.0  complete 2016-08-08    0.0          1.0         70.0   \n",
       "12360   226329.0  complete 2016-08-08    0.0          1.0        155.0   \n",
       "...          ...       ...        ...    ...          ...          ...   \n",
       "584260  904901.0       cod 2018-08-27    0.0          2.0        150.0   \n",
       "584261  904902.0       cod 2018-08-27    0.0          2.0        150.0   \n",
       "584264  904906.0       cod 2018-08-27    0.0          2.0        150.0   \n",
       "584270  904916.0       cod 2018-08-27    0.0          2.0        150.0   \n",
       "584271  904917.0       cod 2018-08-27    0.0          1.0        150.0   \n",
       "\n",
       "       category_name_1  discount_amount payment_method    Year  Month  \\\n",
       "8358       Kids & Baby              0.0            cod  2016.0    7.0   \n",
       "8771       Kids & Baby              0.0            cod  2016.0    7.0   \n",
       "11054          Soghaat              0.0            cod  2016.0    8.0   \n",
       "12165          Soghaat              0.0            cod  2016.0    8.0   \n",
       "12360          Soghaat              0.0            cod  2016.0    8.0   \n",
       "...                ...              ...            ...     ...    ...   \n",
       "584260       Computing              0.0            cod  2018.0    8.0   \n",
       "584261       Computing              0.0            cod  2018.0    8.0   \n",
       "584264       Computing              0.0            cod  2018.0    8.0   \n",
       "584270       Computing              0.0            cod  2018.0    8.0   \n",
       "584271       Computing              0.0            cod  2018.0    8.0   \n",
       "\n",
       "              M-Y  \n",
       "8358   2016-07-01  \n",
       "8771   2016-07-01  \n",
       "11054  2016-08-01  \n",
       "12165  2016-08-01  \n",
       "12360  2016-08-01  \n",
       "...           ...  \n",
       "584260 2018-08-01  \n",
       "584261 2018-08-01  \n",
       "584264 2018-08-01  \n",
       "584270 2018-08-01  \n",
       "584271 2018-08-01  \n",
       "\n",
       "[2055 rows x 12 columns]"
      ]
     },
     "execution_count": 26,
     "metadata": {},
     "output_type": "execute_result"
    }
   ],
   "source": [
    "df1[df1['price'] <= 0]"
   ]
  },
  {
   "cell_type": "code",
   "execution_count": 27,
   "metadata": {},
   "outputs": [],
   "source": [
    "df2 = df1\n",
    "e= df2[df2['price'] <= 0].index\n",
    "df2.drop(e,axis=0, inplace=True)"
   ]
  },
  {
   "cell_type": "code",
   "execution_count": 28,
   "metadata": {},
   "outputs": [
    {
     "data": {
      "text/html": [
       "<div>\n",
       "<style scoped>\n",
       "    .dataframe tbody tr th:only-of-type {\n",
       "        vertical-align: middle;\n",
       "    }\n",
       "\n",
       "    .dataframe tbody tr th {\n",
       "        vertical-align: top;\n",
       "    }\n",
       "\n",
       "    .dataframe thead th {\n",
       "        text-align: right;\n",
       "    }\n",
       "</style>\n",
       "<table border=\"1\" class=\"dataframe\">\n",
       "  <thead>\n",
       "    <tr style=\"text-align: right;\">\n",
       "      <th></th>\n",
       "      <th>item_id</th>\n",
       "      <th>status</th>\n",
       "      <th>created_at</th>\n",
       "      <th>price</th>\n",
       "      <th>qty_ordered</th>\n",
       "      <th>grand_total</th>\n",
       "      <th>category_name_1</th>\n",
       "      <th>discount_amount</th>\n",
       "      <th>payment_method</th>\n",
       "      <th>Year</th>\n",
       "      <th>Month</th>\n",
       "      <th>M-Y</th>\n",
       "    </tr>\n",
       "  </thead>\n",
       "  <tbody>\n",
       "    <tr>\n",
       "      <th>0</th>\n",
       "      <td>211131.0</td>\n",
       "      <td>complete</td>\n",
       "      <td>2016-07-01</td>\n",
       "      <td>1950.0</td>\n",
       "      <td>1.0</td>\n",
       "      <td>1950.0</td>\n",
       "      <td>Women's Fashion</td>\n",
       "      <td>0.0</td>\n",
       "      <td>cod</td>\n",
       "      <td>2016.0</td>\n",
       "      <td>7.0</td>\n",
       "      <td>2016-07-01</td>\n",
       "    </tr>\n",
       "    <tr>\n",
       "      <th>1</th>\n",
       "      <td>211133.0</td>\n",
       "      <td>canceled</td>\n",
       "      <td>2016-07-01</td>\n",
       "      <td>240.0</td>\n",
       "      <td>1.0</td>\n",
       "      <td>240.0</td>\n",
       "      <td>Beauty &amp; Grooming</td>\n",
       "      <td>0.0</td>\n",
       "      <td>cod</td>\n",
       "      <td>2016.0</td>\n",
       "      <td>7.0</td>\n",
       "      <td>2016-07-01</td>\n",
       "    </tr>\n",
       "    <tr>\n",
       "      <th>2</th>\n",
       "      <td>211134.0</td>\n",
       "      <td>canceled</td>\n",
       "      <td>2016-07-01</td>\n",
       "      <td>2450.0</td>\n",
       "      <td>1.0</td>\n",
       "      <td>2450.0</td>\n",
       "      <td>Women's Fashion</td>\n",
       "      <td>0.0</td>\n",
       "      <td>cod</td>\n",
       "      <td>2016.0</td>\n",
       "      <td>7.0</td>\n",
       "      <td>2016-07-01</td>\n",
       "    </tr>\n",
       "    <tr>\n",
       "      <th>3</th>\n",
       "      <td>211135.0</td>\n",
       "      <td>complete</td>\n",
       "      <td>2016-07-01</td>\n",
       "      <td>360.0</td>\n",
       "      <td>1.0</td>\n",
       "      <td>60.0</td>\n",
       "      <td>Beauty &amp; Grooming</td>\n",
       "      <td>300.0</td>\n",
       "      <td>cod</td>\n",
       "      <td>2016.0</td>\n",
       "      <td>7.0</td>\n",
       "      <td>2016-07-01</td>\n",
       "    </tr>\n",
       "    <tr>\n",
       "      <th>4</th>\n",
       "      <td>211136.0</td>\n",
       "      <td>order_refunded</td>\n",
       "      <td>2016-07-01</td>\n",
       "      <td>555.0</td>\n",
       "      <td>2.0</td>\n",
       "      <td>1110.0</td>\n",
       "      <td>Soghaat</td>\n",
       "      <td>0.0</td>\n",
       "      <td>cod</td>\n",
       "      <td>2016.0</td>\n",
       "      <td>7.0</td>\n",
       "      <td>2016-07-01</td>\n",
       "    </tr>\n",
       "    <tr>\n",
       "      <th>...</th>\n",
       "      <td>...</td>\n",
       "      <td>...</td>\n",
       "      <td>...</td>\n",
       "      <td>...</td>\n",
       "      <td>...</td>\n",
       "      <td>...</td>\n",
       "      <td>...</td>\n",
       "      <td>...</td>\n",
       "      <td>...</td>\n",
       "      <td>...</td>\n",
       "      <td>...</td>\n",
       "      <td>...</td>\n",
       "    </tr>\n",
       "    <tr>\n",
       "      <th>584260</th>\n",
       "      <td>904901.0</td>\n",
       "      <td>cod</td>\n",
       "      <td>2018-08-27</td>\n",
       "      <td>75.0</td>\n",
       "      <td>2.0</td>\n",
       "      <td>150.0</td>\n",
       "      <td>Computing</td>\n",
       "      <td>0.0</td>\n",
       "      <td>cod</td>\n",
       "      <td>2018.0</td>\n",
       "      <td>8.0</td>\n",
       "      <td>2018-08-01</td>\n",
       "    </tr>\n",
       "    <tr>\n",
       "      <th>584261</th>\n",
       "      <td>904902.0</td>\n",
       "      <td>cod</td>\n",
       "      <td>2018-08-27</td>\n",
       "      <td>75.0</td>\n",
       "      <td>2.0</td>\n",
       "      <td>150.0</td>\n",
       "      <td>Computing</td>\n",
       "      <td>0.0</td>\n",
       "      <td>cod</td>\n",
       "      <td>2018.0</td>\n",
       "      <td>8.0</td>\n",
       "      <td>2018-08-01</td>\n",
       "    </tr>\n",
       "    <tr>\n",
       "      <th>584264</th>\n",
       "      <td>904906.0</td>\n",
       "      <td>cod</td>\n",
       "      <td>2018-08-27</td>\n",
       "      <td>75.0</td>\n",
       "      <td>2.0</td>\n",
       "      <td>150.0</td>\n",
       "      <td>Computing</td>\n",
       "      <td>0.0</td>\n",
       "      <td>cod</td>\n",
       "      <td>2018.0</td>\n",
       "      <td>8.0</td>\n",
       "      <td>2018-08-01</td>\n",
       "    </tr>\n",
       "    <tr>\n",
       "      <th>584270</th>\n",
       "      <td>904916.0</td>\n",
       "      <td>cod</td>\n",
       "      <td>2018-08-27</td>\n",
       "      <td>75.0</td>\n",
       "      <td>2.0</td>\n",
       "      <td>150.0</td>\n",
       "      <td>Computing</td>\n",
       "      <td>0.0</td>\n",
       "      <td>cod</td>\n",
       "      <td>2018.0</td>\n",
       "      <td>8.0</td>\n",
       "      <td>2018-08-01</td>\n",
       "    </tr>\n",
       "    <tr>\n",
       "      <th>584271</th>\n",
       "      <td>904917.0</td>\n",
       "      <td>cod</td>\n",
       "      <td>2018-08-27</td>\n",
       "      <td>150.0</td>\n",
       "      <td>1.0</td>\n",
       "      <td>150.0</td>\n",
       "      <td>Computing</td>\n",
       "      <td>0.0</td>\n",
       "      <td>cod</td>\n",
       "      <td>2018.0</td>\n",
       "      <td>8.0</td>\n",
       "      <td>2018-08-01</td>\n",
       "    </tr>\n",
       "  </tbody>\n",
       "</table>\n",
       "<p>576525 rows × 12 columns</p>\n",
       "</div>"
      ],
      "text/plain": [
       "         item_id          status created_at   price  qty_ordered  grand_total  \\\n",
       "0       211131.0        complete 2016-07-01  1950.0          1.0       1950.0   \n",
       "1       211133.0        canceled 2016-07-01   240.0          1.0        240.0   \n",
       "2       211134.0        canceled 2016-07-01  2450.0          1.0       2450.0   \n",
       "3       211135.0        complete 2016-07-01   360.0          1.0         60.0   \n",
       "4       211136.0  order_refunded 2016-07-01   555.0          2.0       1110.0   \n",
       "...          ...             ...        ...     ...          ...          ...   \n",
       "584260  904901.0             cod 2018-08-27    75.0          2.0        150.0   \n",
       "584261  904902.0             cod 2018-08-27    75.0          2.0        150.0   \n",
       "584264  904906.0             cod 2018-08-27    75.0          2.0        150.0   \n",
       "584270  904916.0             cod 2018-08-27    75.0          2.0        150.0   \n",
       "584271  904917.0             cod 2018-08-27   150.0          1.0        150.0   \n",
       "\n",
       "          category_name_1  discount_amount payment_method    Year  Month  \\\n",
       "0         Women's Fashion              0.0            cod  2016.0    7.0   \n",
       "1       Beauty & Grooming              0.0            cod  2016.0    7.0   \n",
       "2         Women's Fashion              0.0            cod  2016.0    7.0   \n",
       "3       Beauty & Grooming            300.0            cod  2016.0    7.0   \n",
       "4                 Soghaat              0.0            cod  2016.0    7.0   \n",
       "...                   ...              ...            ...     ...    ...   \n",
       "584260          Computing              0.0            cod  2018.0    8.0   \n",
       "584261          Computing              0.0            cod  2018.0    8.0   \n",
       "584264          Computing              0.0            cod  2018.0    8.0   \n",
       "584270          Computing              0.0            cod  2018.0    8.0   \n",
       "584271          Computing              0.0            cod  2018.0    8.0   \n",
       "\n",
       "              M-Y  \n",
       "0      2016-07-01  \n",
       "1      2016-07-01  \n",
       "2      2016-07-01  \n",
       "3      2016-07-01  \n",
       "4      2016-07-01  \n",
       "...           ...  \n",
       "584260 2018-08-01  \n",
       "584261 2018-08-01  \n",
       "584264 2018-08-01  \n",
       "584270 2018-08-01  \n",
       "584271 2018-08-01  \n",
       "\n",
       "[576525 rows x 12 columns]"
      ]
     },
     "execution_count": 28,
     "metadata": {},
     "output_type": "execute_result"
    }
   ],
   "source": [
    "df3 = df2.append(f)\n",
    "df3"
   ]
  },
  {
   "attachments": {},
   "cell_type": "markdown",
   "metadata": {},
   "source": [
    "13. Dapat dilihat bahwa kolom 'grand_total' memiliki lebih banyak nilai yang 0 yaitu sebesar 9454 rows (1,64%) sehingga akan dilakukan normalisasi nilai dari perhitungan sbb:  \n",
    "**grand_total = price * qty_ordered - discount_amount**"
   ]
  },
  {
   "cell_type": "code",
   "execution_count": 29,
   "metadata": {},
   "outputs": [
    {
     "data": {
      "text/html": [
       "<div>\n",
       "<style scoped>\n",
       "    .dataframe tbody tr th:only-of-type {\n",
       "        vertical-align: middle;\n",
       "    }\n",
       "\n",
       "    .dataframe tbody tr th {\n",
       "        vertical-align: top;\n",
       "    }\n",
       "\n",
       "    .dataframe thead th {\n",
       "        text-align: right;\n",
       "    }\n",
       "</style>\n",
       "<table border=\"1\" class=\"dataframe\">\n",
       "  <thead>\n",
       "    <tr style=\"text-align: right;\">\n",
       "      <th></th>\n",
       "      <th>item_id</th>\n",
       "      <th>status</th>\n",
       "      <th>created_at</th>\n",
       "      <th>price</th>\n",
       "      <th>qty_ordered</th>\n",
       "      <th>grand_total</th>\n",
       "      <th>category_name_1</th>\n",
       "      <th>discount_amount</th>\n",
       "      <th>payment_method</th>\n",
       "      <th>Year</th>\n",
       "      <th>Month</th>\n",
       "      <th>M-Y</th>\n",
       "    </tr>\n",
       "  </thead>\n",
       "  <tbody>\n",
       "    <tr>\n",
       "      <th>14</th>\n",
       "      <td>211146.0</td>\n",
       "      <td>complete</td>\n",
       "      <td>2016-07-01</td>\n",
       "      <td>320.0</td>\n",
       "      <td>1.0</td>\n",
       "      <td>0.0</td>\n",
       "      <td>Beauty &amp; Grooming</td>\n",
       "      <td>0.0</td>\n",
       "      <td>customercredit</td>\n",
       "      <td>2016.0</td>\n",
       "      <td>7.0</td>\n",
       "      <td>2016-07-01</td>\n",
       "    </tr>\n",
       "    <tr>\n",
       "      <th>27</th>\n",
       "      <td>211162.0</td>\n",
       "      <td>complete</td>\n",
       "      <td>2016-07-01</td>\n",
       "      <td>500.0</td>\n",
       "      <td>1.0</td>\n",
       "      <td>0.0</td>\n",
       "      <td>Others</td>\n",
       "      <td>0.0</td>\n",
       "      <td>customercredit</td>\n",
       "      <td>2016.0</td>\n",
       "      <td>7.0</td>\n",
       "      <td>2016-07-01</td>\n",
       "    </tr>\n",
       "    <tr>\n",
       "      <th>28</th>\n",
       "      <td>211163.0</td>\n",
       "      <td>complete</td>\n",
       "      <td>2016-07-01</td>\n",
       "      <td>100.0</td>\n",
       "      <td>5.0</td>\n",
       "      <td>0.0</td>\n",
       "      <td>Others</td>\n",
       "      <td>0.0</td>\n",
       "      <td>customercredit</td>\n",
       "      <td>2016.0</td>\n",
       "      <td>7.0</td>\n",
       "      <td>2016-07-01</td>\n",
       "    </tr>\n",
       "    <tr>\n",
       "      <th>266</th>\n",
       "      <td>211422.0</td>\n",
       "      <td>complete</td>\n",
       "      <td>2016-07-01</td>\n",
       "      <td>995.0</td>\n",
       "      <td>1.0</td>\n",
       "      <td>0.0</td>\n",
       "      <td>Computing</td>\n",
       "      <td>0.0</td>\n",
       "      <td>customercredit</td>\n",
       "      <td>2016.0</td>\n",
       "      <td>7.0</td>\n",
       "      <td>2016-07-01</td>\n",
       "    </tr>\n",
       "    <tr>\n",
       "      <th>313</th>\n",
       "      <td>211472.0</td>\n",
       "      <td>complete</td>\n",
       "      <td>2016-07-01</td>\n",
       "      <td>320.0</td>\n",
       "      <td>1.0</td>\n",
       "      <td>0.0</td>\n",
       "      <td>Beauty &amp; Grooming</td>\n",
       "      <td>0.0</td>\n",
       "      <td>customercredit</td>\n",
       "      <td>2016.0</td>\n",
       "      <td>7.0</td>\n",
       "      <td>2016-07-01</td>\n",
       "    </tr>\n",
       "    <tr>\n",
       "      <th>...</th>\n",
       "      <td>...</td>\n",
       "      <td>...</td>\n",
       "      <td>...</td>\n",
       "      <td>...</td>\n",
       "      <td>...</td>\n",
       "      <td>...</td>\n",
       "      <td>...</td>\n",
       "      <td>...</td>\n",
       "      <td>...</td>\n",
       "      <td>...</td>\n",
       "      <td>...</td>\n",
       "      <td>...</td>\n",
       "    </tr>\n",
       "    <tr>\n",
       "      <th>584263</th>\n",
       "      <td>904904.0</td>\n",
       "      <td>paid</td>\n",
       "      <td>2018-08-27</td>\n",
       "      <td>837.0</td>\n",
       "      <td>1.0</td>\n",
       "      <td>0.0</td>\n",
       "      <td>Men's Fashion</td>\n",
       "      <td>0.0</td>\n",
       "      <td>customercredit</td>\n",
       "      <td>2018.0</td>\n",
       "      <td>8.0</td>\n",
       "      <td>2018-08-01</td>\n",
       "    </tr>\n",
       "    <tr>\n",
       "      <th>584368</th>\n",
       "      <td>905028.0</td>\n",
       "      <td>paid</td>\n",
       "      <td>2018-08-27</td>\n",
       "      <td>20599.0</td>\n",
       "      <td>1.0</td>\n",
       "      <td>0.0</td>\n",
       "      <td>Entertainment</td>\n",
       "      <td>0.0</td>\n",
       "      <td>customercredit</td>\n",
       "      <td>2018.0</td>\n",
       "      <td>8.0</td>\n",
       "      <td>2018-08-01</td>\n",
       "    </tr>\n",
       "    <tr>\n",
       "      <th>584405</th>\n",
       "      <td>905080.0</td>\n",
       "      <td>paid</td>\n",
       "      <td>2018-08-27</td>\n",
       "      <td>799.0</td>\n",
       "      <td>1.0</td>\n",
       "      <td>0.0</td>\n",
       "      <td>Men's Fashion</td>\n",
       "      <td>0.0</td>\n",
       "      <td>customercredit</td>\n",
       "      <td>2018.0</td>\n",
       "      <td>8.0</td>\n",
       "      <td>2018-08-01</td>\n",
       "    </tr>\n",
       "    <tr>\n",
       "      <th>584514</th>\n",
       "      <td>905196.0</td>\n",
       "      <td>paid</td>\n",
       "      <td>2018-08-28</td>\n",
       "      <td>1299.0</td>\n",
       "      <td>1.0</td>\n",
       "      <td>0.0</td>\n",
       "      <td>Men's Fashion</td>\n",
       "      <td>0.0</td>\n",
       "      <td>customercredit</td>\n",
       "      <td>2018.0</td>\n",
       "      <td>8.0</td>\n",
       "      <td>2018-08-01</td>\n",
       "    </tr>\n",
       "    <tr>\n",
       "      <th>584515</th>\n",
       "      <td>905198.0</td>\n",
       "      <td>paid</td>\n",
       "      <td>2018-08-28</td>\n",
       "      <td>999.0</td>\n",
       "      <td>1.0</td>\n",
       "      <td>0.0</td>\n",
       "      <td>Men's Fashion</td>\n",
       "      <td>0.0</td>\n",
       "      <td>customercredit</td>\n",
       "      <td>2018.0</td>\n",
       "      <td>8.0</td>\n",
       "      <td>2018-08-01</td>\n",
       "    </tr>\n",
       "  </tbody>\n",
       "</table>\n",
       "<p>9454 rows × 12 columns</p>\n",
       "</div>"
      ],
      "text/plain": [
       "         item_id    status created_at    price  qty_ordered  grand_total  \\\n",
       "14      211146.0  complete 2016-07-01    320.0          1.0          0.0   \n",
       "27      211162.0  complete 2016-07-01    500.0          1.0          0.0   \n",
       "28      211163.0  complete 2016-07-01    100.0          5.0          0.0   \n",
       "266     211422.0  complete 2016-07-01    995.0          1.0          0.0   \n",
       "313     211472.0  complete 2016-07-01    320.0          1.0          0.0   \n",
       "...          ...       ...        ...      ...          ...          ...   \n",
       "584263  904904.0      paid 2018-08-27    837.0          1.0          0.0   \n",
       "584368  905028.0      paid 2018-08-27  20599.0          1.0          0.0   \n",
       "584405  905080.0      paid 2018-08-27    799.0          1.0          0.0   \n",
       "584514  905196.0      paid 2018-08-28   1299.0          1.0          0.0   \n",
       "584515  905198.0      paid 2018-08-28    999.0          1.0          0.0   \n",
       "\n",
       "          category_name_1  discount_amount  payment_method    Year  Month  \\\n",
       "14      Beauty & Grooming              0.0  customercredit  2016.0    7.0   \n",
       "27                 Others              0.0  customercredit  2016.0    7.0   \n",
       "28                 Others              0.0  customercredit  2016.0    7.0   \n",
       "266             Computing              0.0  customercredit  2016.0    7.0   \n",
       "313     Beauty & Grooming              0.0  customercredit  2016.0    7.0   \n",
       "...                   ...              ...             ...     ...    ...   \n",
       "584263      Men's Fashion              0.0  customercredit  2018.0    8.0   \n",
       "584368      Entertainment              0.0  customercredit  2018.0    8.0   \n",
       "584405      Men's Fashion              0.0  customercredit  2018.0    8.0   \n",
       "584514      Men's Fashion              0.0  customercredit  2018.0    8.0   \n",
       "584515      Men's Fashion              0.0  customercredit  2018.0    8.0   \n",
       "\n",
       "              M-Y  \n",
       "14     2016-07-01  \n",
       "27     2016-07-01  \n",
       "28     2016-07-01  \n",
       "266    2016-07-01  \n",
       "313    2016-07-01  \n",
       "...           ...  \n",
       "584263 2018-08-01  \n",
       "584368 2018-08-01  \n",
       "584405 2018-08-01  \n",
       "584514 2018-08-01  \n",
       "584515 2018-08-01  \n",
       "\n",
       "[9454 rows x 12 columns]"
      ]
     },
     "execution_count": 29,
     "metadata": {},
     "output_type": "execute_result"
    }
   ],
   "source": [
    "df3[df3['grand_total'] <= 0]"
   ]
  },
  {
   "cell_type": "code",
   "execution_count": 30,
   "metadata": {},
   "outputs": [
    {
     "data": {
      "text/html": [
       "<div>\n",
       "<style scoped>\n",
       "    .dataframe tbody tr th:only-of-type {\n",
       "        vertical-align: middle;\n",
       "    }\n",
       "\n",
       "    .dataframe tbody tr th {\n",
       "        vertical-align: top;\n",
       "    }\n",
       "\n",
       "    .dataframe thead th {\n",
       "        text-align: right;\n",
       "    }\n",
       "</style>\n",
       "<table border=\"1\" class=\"dataframe\">\n",
       "  <thead>\n",
       "    <tr style=\"text-align: right;\">\n",
       "      <th></th>\n",
       "      <th>item_id</th>\n",
       "      <th>status</th>\n",
       "      <th>created_at</th>\n",
       "      <th>price</th>\n",
       "      <th>qty_ordered</th>\n",
       "      <th>grand_total</th>\n",
       "      <th>category_name_1</th>\n",
       "      <th>discount_amount</th>\n",
       "      <th>payment_method</th>\n",
       "      <th>Year</th>\n",
       "      <th>Month</th>\n",
       "      <th>M-Y</th>\n",
       "    </tr>\n",
       "  </thead>\n",
       "  <tbody>\n",
       "    <tr>\n",
       "      <th>14</th>\n",
       "      <td>211146.0</td>\n",
       "      <td>complete</td>\n",
       "      <td>2016-07-01</td>\n",
       "      <td>320.0</td>\n",
       "      <td>1.0</td>\n",
       "      <td>320.0</td>\n",
       "      <td>Beauty &amp; Grooming</td>\n",
       "      <td>0.0</td>\n",
       "      <td>customercredit</td>\n",
       "      <td>2016.0</td>\n",
       "      <td>7.0</td>\n",
       "      <td>2016-07-01</td>\n",
       "    </tr>\n",
       "    <tr>\n",
       "      <th>27</th>\n",
       "      <td>211162.0</td>\n",
       "      <td>complete</td>\n",
       "      <td>2016-07-01</td>\n",
       "      <td>500.0</td>\n",
       "      <td>1.0</td>\n",
       "      <td>500.0</td>\n",
       "      <td>Others</td>\n",
       "      <td>0.0</td>\n",
       "      <td>customercredit</td>\n",
       "      <td>2016.0</td>\n",
       "      <td>7.0</td>\n",
       "      <td>2016-07-01</td>\n",
       "    </tr>\n",
       "    <tr>\n",
       "      <th>28</th>\n",
       "      <td>211163.0</td>\n",
       "      <td>complete</td>\n",
       "      <td>2016-07-01</td>\n",
       "      <td>100.0</td>\n",
       "      <td>5.0</td>\n",
       "      <td>500.0</td>\n",
       "      <td>Others</td>\n",
       "      <td>0.0</td>\n",
       "      <td>customercredit</td>\n",
       "      <td>2016.0</td>\n",
       "      <td>7.0</td>\n",
       "      <td>2016-07-01</td>\n",
       "    </tr>\n",
       "    <tr>\n",
       "      <th>266</th>\n",
       "      <td>211422.0</td>\n",
       "      <td>complete</td>\n",
       "      <td>2016-07-01</td>\n",
       "      <td>995.0</td>\n",
       "      <td>1.0</td>\n",
       "      <td>995.0</td>\n",
       "      <td>Computing</td>\n",
       "      <td>0.0</td>\n",
       "      <td>customercredit</td>\n",
       "      <td>2016.0</td>\n",
       "      <td>7.0</td>\n",
       "      <td>2016-07-01</td>\n",
       "    </tr>\n",
       "    <tr>\n",
       "      <th>313</th>\n",
       "      <td>211472.0</td>\n",
       "      <td>complete</td>\n",
       "      <td>2016-07-01</td>\n",
       "      <td>320.0</td>\n",
       "      <td>1.0</td>\n",
       "      <td>320.0</td>\n",
       "      <td>Beauty &amp; Grooming</td>\n",
       "      <td>0.0</td>\n",
       "      <td>customercredit</td>\n",
       "      <td>2016.0</td>\n",
       "      <td>7.0</td>\n",
       "      <td>2016-07-01</td>\n",
       "    </tr>\n",
       "    <tr>\n",
       "      <th>...</th>\n",
       "      <td>...</td>\n",
       "      <td>...</td>\n",
       "      <td>...</td>\n",
       "      <td>...</td>\n",
       "      <td>...</td>\n",
       "      <td>...</td>\n",
       "      <td>...</td>\n",
       "      <td>...</td>\n",
       "      <td>...</td>\n",
       "      <td>...</td>\n",
       "      <td>...</td>\n",
       "      <td>...</td>\n",
       "    </tr>\n",
       "    <tr>\n",
       "      <th>584263</th>\n",
       "      <td>904904.0</td>\n",
       "      <td>paid</td>\n",
       "      <td>2018-08-27</td>\n",
       "      <td>837.0</td>\n",
       "      <td>1.0</td>\n",
       "      <td>837.0</td>\n",
       "      <td>Men's Fashion</td>\n",
       "      <td>0.0</td>\n",
       "      <td>customercredit</td>\n",
       "      <td>2018.0</td>\n",
       "      <td>8.0</td>\n",
       "      <td>2018-08-01</td>\n",
       "    </tr>\n",
       "    <tr>\n",
       "      <th>584368</th>\n",
       "      <td>905028.0</td>\n",
       "      <td>paid</td>\n",
       "      <td>2018-08-27</td>\n",
       "      <td>20599.0</td>\n",
       "      <td>1.0</td>\n",
       "      <td>20599.0</td>\n",
       "      <td>Entertainment</td>\n",
       "      <td>0.0</td>\n",
       "      <td>customercredit</td>\n",
       "      <td>2018.0</td>\n",
       "      <td>8.0</td>\n",
       "      <td>2018-08-01</td>\n",
       "    </tr>\n",
       "    <tr>\n",
       "      <th>584405</th>\n",
       "      <td>905080.0</td>\n",
       "      <td>paid</td>\n",
       "      <td>2018-08-27</td>\n",
       "      <td>799.0</td>\n",
       "      <td>1.0</td>\n",
       "      <td>799.0</td>\n",
       "      <td>Men's Fashion</td>\n",
       "      <td>0.0</td>\n",
       "      <td>customercredit</td>\n",
       "      <td>2018.0</td>\n",
       "      <td>8.0</td>\n",
       "      <td>2018-08-01</td>\n",
       "    </tr>\n",
       "    <tr>\n",
       "      <th>584514</th>\n",
       "      <td>905196.0</td>\n",
       "      <td>paid</td>\n",
       "      <td>2018-08-28</td>\n",
       "      <td>1299.0</td>\n",
       "      <td>1.0</td>\n",
       "      <td>1299.0</td>\n",
       "      <td>Men's Fashion</td>\n",
       "      <td>0.0</td>\n",
       "      <td>customercredit</td>\n",
       "      <td>2018.0</td>\n",
       "      <td>8.0</td>\n",
       "      <td>2018-08-01</td>\n",
       "    </tr>\n",
       "    <tr>\n",
       "      <th>584515</th>\n",
       "      <td>905198.0</td>\n",
       "      <td>paid</td>\n",
       "      <td>2018-08-28</td>\n",
       "      <td>999.0</td>\n",
       "      <td>1.0</td>\n",
       "      <td>999.0</td>\n",
       "      <td>Men's Fashion</td>\n",
       "      <td>0.0</td>\n",
       "      <td>customercredit</td>\n",
       "      <td>2018.0</td>\n",
       "      <td>8.0</td>\n",
       "      <td>2018-08-01</td>\n",
       "    </tr>\n",
       "  </tbody>\n",
       "</table>\n",
       "<p>9454 rows × 12 columns</p>\n",
       "</div>"
      ],
      "text/plain": [
       "         item_id    status created_at    price  qty_ordered  grand_total  \\\n",
       "14      211146.0  complete 2016-07-01    320.0          1.0        320.0   \n",
       "27      211162.0  complete 2016-07-01    500.0          1.0        500.0   \n",
       "28      211163.0  complete 2016-07-01    100.0          5.0        500.0   \n",
       "266     211422.0  complete 2016-07-01    995.0          1.0        995.0   \n",
       "313     211472.0  complete 2016-07-01    320.0          1.0        320.0   \n",
       "...          ...       ...        ...      ...          ...          ...   \n",
       "584263  904904.0      paid 2018-08-27    837.0          1.0        837.0   \n",
       "584368  905028.0      paid 2018-08-27  20599.0          1.0      20599.0   \n",
       "584405  905080.0      paid 2018-08-27    799.0          1.0        799.0   \n",
       "584514  905196.0      paid 2018-08-28   1299.0          1.0       1299.0   \n",
       "584515  905198.0      paid 2018-08-28    999.0          1.0        999.0   \n",
       "\n",
       "          category_name_1  discount_amount  payment_method    Year  Month  \\\n",
       "14      Beauty & Grooming              0.0  customercredit  2016.0    7.0   \n",
       "27                 Others              0.0  customercredit  2016.0    7.0   \n",
       "28                 Others              0.0  customercredit  2016.0    7.0   \n",
       "266             Computing              0.0  customercredit  2016.0    7.0   \n",
       "313     Beauty & Grooming              0.0  customercredit  2016.0    7.0   \n",
       "...                   ...              ...             ...     ...    ...   \n",
       "584263      Men's Fashion              0.0  customercredit  2018.0    8.0   \n",
       "584368      Entertainment              0.0  customercredit  2018.0    8.0   \n",
       "584405      Men's Fashion              0.0  customercredit  2018.0    8.0   \n",
       "584514      Men's Fashion              0.0  customercredit  2018.0    8.0   \n",
       "584515      Men's Fashion              0.0  customercredit  2018.0    8.0   \n",
       "\n",
       "              M-Y  \n",
       "14     2016-07-01  \n",
       "27     2016-07-01  \n",
       "28     2016-07-01  \n",
       "266    2016-07-01  \n",
       "313    2016-07-01  \n",
       "...           ...  \n",
       "584263 2018-08-01  \n",
       "584368 2018-08-01  \n",
       "584405 2018-08-01  \n",
       "584514 2018-08-01  \n",
       "584515 2018-08-01  \n",
       "\n",
       "[9454 rows x 12 columns]"
      ]
     },
     "execution_count": 30,
     "metadata": {},
     "output_type": "execute_result"
    }
   ],
   "source": [
    "g = df3[df3['grand_total'] <= 0]\n",
    "g['grand_total'] = ((g['price']) * (g['qty_ordered'])) - (g['discount_amount'])\n",
    "g"
   ]
  },
  {
   "cell_type": "code",
   "execution_count": 31,
   "metadata": {},
   "outputs": [],
   "source": [
    "df4 = df3\n",
    "h = df4[df4['grand_total'] <= 0].index\n",
    "df4.drop (h, axis = 0, inplace=True)"
   ]
  },
  {
   "cell_type": "code",
   "execution_count": 32,
   "metadata": {},
   "outputs": [
    {
     "data": {
      "text/html": [
       "<div>\n",
       "<style scoped>\n",
       "    .dataframe tbody tr th:only-of-type {\n",
       "        vertical-align: middle;\n",
       "    }\n",
       "\n",
       "    .dataframe tbody tr th {\n",
       "        vertical-align: top;\n",
       "    }\n",
       "\n",
       "    .dataframe thead th {\n",
       "        text-align: right;\n",
       "    }\n",
       "</style>\n",
       "<table border=\"1\" class=\"dataframe\">\n",
       "  <thead>\n",
       "    <tr style=\"text-align: right;\">\n",
       "      <th></th>\n",
       "      <th>item_id</th>\n",
       "      <th>status</th>\n",
       "      <th>created_at</th>\n",
       "      <th>price</th>\n",
       "      <th>qty_ordered</th>\n",
       "      <th>grand_total</th>\n",
       "      <th>category_name_1</th>\n",
       "      <th>discount_amount</th>\n",
       "      <th>payment_method</th>\n",
       "      <th>Year</th>\n",
       "      <th>Month</th>\n",
       "      <th>M-Y</th>\n",
       "    </tr>\n",
       "  </thead>\n",
       "  <tbody>\n",
       "    <tr>\n",
       "      <th>0</th>\n",
       "      <td>211131.0</td>\n",
       "      <td>complete</td>\n",
       "      <td>2016-07-01</td>\n",
       "      <td>1950.0</td>\n",
       "      <td>1.0</td>\n",
       "      <td>1950.0</td>\n",
       "      <td>Women's Fashion</td>\n",
       "      <td>0.0</td>\n",
       "      <td>cod</td>\n",
       "      <td>2016.0</td>\n",
       "      <td>7.0</td>\n",
       "      <td>2016-07-01</td>\n",
       "    </tr>\n",
       "    <tr>\n",
       "      <th>1</th>\n",
       "      <td>211133.0</td>\n",
       "      <td>canceled</td>\n",
       "      <td>2016-07-01</td>\n",
       "      <td>240.0</td>\n",
       "      <td>1.0</td>\n",
       "      <td>240.0</td>\n",
       "      <td>Beauty &amp; Grooming</td>\n",
       "      <td>0.0</td>\n",
       "      <td>cod</td>\n",
       "      <td>2016.0</td>\n",
       "      <td>7.0</td>\n",
       "      <td>2016-07-01</td>\n",
       "    </tr>\n",
       "    <tr>\n",
       "      <th>2</th>\n",
       "      <td>211134.0</td>\n",
       "      <td>canceled</td>\n",
       "      <td>2016-07-01</td>\n",
       "      <td>2450.0</td>\n",
       "      <td>1.0</td>\n",
       "      <td>2450.0</td>\n",
       "      <td>Women's Fashion</td>\n",
       "      <td>0.0</td>\n",
       "      <td>cod</td>\n",
       "      <td>2016.0</td>\n",
       "      <td>7.0</td>\n",
       "      <td>2016-07-01</td>\n",
       "    </tr>\n",
       "    <tr>\n",
       "      <th>3</th>\n",
       "      <td>211135.0</td>\n",
       "      <td>complete</td>\n",
       "      <td>2016-07-01</td>\n",
       "      <td>360.0</td>\n",
       "      <td>1.0</td>\n",
       "      <td>60.0</td>\n",
       "      <td>Beauty &amp; Grooming</td>\n",
       "      <td>300.0</td>\n",
       "      <td>cod</td>\n",
       "      <td>2016.0</td>\n",
       "      <td>7.0</td>\n",
       "      <td>2016-07-01</td>\n",
       "    </tr>\n",
       "    <tr>\n",
       "      <th>4</th>\n",
       "      <td>211136.0</td>\n",
       "      <td>order_refunded</td>\n",
       "      <td>2016-07-01</td>\n",
       "      <td>555.0</td>\n",
       "      <td>2.0</td>\n",
       "      <td>1110.0</td>\n",
       "      <td>Soghaat</td>\n",
       "      <td>0.0</td>\n",
       "      <td>cod</td>\n",
       "      <td>2016.0</td>\n",
       "      <td>7.0</td>\n",
       "      <td>2016-07-01</td>\n",
       "    </tr>\n",
       "    <tr>\n",
       "      <th>...</th>\n",
       "      <td>...</td>\n",
       "      <td>...</td>\n",
       "      <td>...</td>\n",
       "      <td>...</td>\n",
       "      <td>...</td>\n",
       "      <td>...</td>\n",
       "      <td>...</td>\n",
       "      <td>...</td>\n",
       "      <td>...</td>\n",
       "      <td>...</td>\n",
       "      <td>...</td>\n",
       "      <td>...</td>\n",
       "    </tr>\n",
       "    <tr>\n",
       "      <th>584263</th>\n",
       "      <td>904904.0</td>\n",
       "      <td>paid</td>\n",
       "      <td>2018-08-27</td>\n",
       "      <td>837.0</td>\n",
       "      <td>1.0</td>\n",
       "      <td>837.0</td>\n",
       "      <td>Men's Fashion</td>\n",
       "      <td>0.0</td>\n",
       "      <td>customercredit</td>\n",
       "      <td>2018.0</td>\n",
       "      <td>8.0</td>\n",
       "      <td>2018-08-01</td>\n",
       "    </tr>\n",
       "    <tr>\n",
       "      <th>584368</th>\n",
       "      <td>905028.0</td>\n",
       "      <td>paid</td>\n",
       "      <td>2018-08-27</td>\n",
       "      <td>20599.0</td>\n",
       "      <td>1.0</td>\n",
       "      <td>20599.0</td>\n",
       "      <td>Entertainment</td>\n",
       "      <td>0.0</td>\n",
       "      <td>customercredit</td>\n",
       "      <td>2018.0</td>\n",
       "      <td>8.0</td>\n",
       "      <td>2018-08-01</td>\n",
       "    </tr>\n",
       "    <tr>\n",
       "      <th>584405</th>\n",
       "      <td>905080.0</td>\n",
       "      <td>paid</td>\n",
       "      <td>2018-08-27</td>\n",
       "      <td>799.0</td>\n",
       "      <td>1.0</td>\n",
       "      <td>799.0</td>\n",
       "      <td>Men's Fashion</td>\n",
       "      <td>0.0</td>\n",
       "      <td>customercredit</td>\n",
       "      <td>2018.0</td>\n",
       "      <td>8.0</td>\n",
       "      <td>2018-08-01</td>\n",
       "    </tr>\n",
       "    <tr>\n",
       "      <th>584514</th>\n",
       "      <td>905196.0</td>\n",
       "      <td>paid</td>\n",
       "      <td>2018-08-28</td>\n",
       "      <td>1299.0</td>\n",
       "      <td>1.0</td>\n",
       "      <td>1299.0</td>\n",
       "      <td>Men's Fashion</td>\n",
       "      <td>0.0</td>\n",
       "      <td>customercredit</td>\n",
       "      <td>2018.0</td>\n",
       "      <td>8.0</td>\n",
       "      <td>2018-08-01</td>\n",
       "    </tr>\n",
       "    <tr>\n",
       "      <th>584515</th>\n",
       "      <td>905198.0</td>\n",
       "      <td>paid</td>\n",
       "      <td>2018-08-28</td>\n",
       "      <td>999.0</td>\n",
       "      <td>1.0</td>\n",
       "      <td>999.0</td>\n",
       "      <td>Men's Fashion</td>\n",
       "      <td>0.0</td>\n",
       "      <td>customercredit</td>\n",
       "      <td>2018.0</td>\n",
       "      <td>8.0</td>\n",
       "      <td>2018-08-01</td>\n",
       "    </tr>\n",
       "  </tbody>\n",
       "</table>\n",
       "<p>576525 rows × 12 columns</p>\n",
       "</div>"
      ],
      "text/plain": [
       "         item_id          status created_at    price  qty_ordered  \\\n",
       "0       211131.0        complete 2016-07-01   1950.0          1.0   \n",
       "1       211133.0        canceled 2016-07-01    240.0          1.0   \n",
       "2       211134.0        canceled 2016-07-01   2450.0          1.0   \n",
       "3       211135.0        complete 2016-07-01    360.0          1.0   \n",
       "4       211136.0  order_refunded 2016-07-01    555.0          2.0   \n",
       "...          ...             ...        ...      ...          ...   \n",
       "584263  904904.0            paid 2018-08-27    837.0          1.0   \n",
       "584368  905028.0            paid 2018-08-27  20599.0          1.0   \n",
       "584405  905080.0            paid 2018-08-27    799.0          1.0   \n",
       "584514  905196.0            paid 2018-08-28   1299.0          1.0   \n",
       "584515  905198.0            paid 2018-08-28    999.0          1.0   \n",
       "\n",
       "        grand_total    category_name_1  discount_amount  payment_method  \\\n",
       "0            1950.0    Women's Fashion              0.0             cod   \n",
       "1             240.0  Beauty & Grooming              0.0             cod   \n",
       "2            2450.0    Women's Fashion              0.0             cod   \n",
       "3              60.0  Beauty & Grooming            300.0             cod   \n",
       "4            1110.0            Soghaat              0.0             cod   \n",
       "...             ...                ...              ...             ...   \n",
       "584263        837.0      Men's Fashion              0.0  customercredit   \n",
       "584368      20599.0      Entertainment              0.0  customercredit   \n",
       "584405        799.0      Men's Fashion              0.0  customercredit   \n",
       "584514       1299.0      Men's Fashion              0.0  customercredit   \n",
       "584515        999.0      Men's Fashion              0.0  customercredit   \n",
       "\n",
       "          Year  Month        M-Y  \n",
       "0       2016.0    7.0 2016-07-01  \n",
       "1       2016.0    7.0 2016-07-01  \n",
       "2       2016.0    7.0 2016-07-01  \n",
       "3       2016.0    7.0 2016-07-01  \n",
       "4       2016.0    7.0 2016-07-01  \n",
       "...        ...    ...        ...  \n",
       "584263  2018.0    8.0 2018-08-01  \n",
       "584368  2018.0    8.0 2018-08-01  \n",
       "584405  2018.0    8.0 2018-08-01  \n",
       "584514  2018.0    8.0 2018-08-01  \n",
       "584515  2018.0    8.0 2018-08-01  \n",
       "\n",
       "[576525 rows x 12 columns]"
      ]
     },
     "execution_count": 32,
     "metadata": {},
     "output_type": "execute_result"
    }
   ],
   "source": [
    "df5= df4.append(g)\n",
    "df5"
   ]
  },
  {
   "cell_type": "code",
   "execution_count": 33,
   "metadata": {},
   "outputs": [
    {
     "name": "stdout",
     "output_type": "stream",
     "text": [
      "<class 'pandas.core.frame.DataFrame'>\n",
      "Int64Index: 576525 entries, 0 to 584515\n",
      "Data columns (total 12 columns):\n",
      " #   Column           Non-Null Count   Dtype         \n",
      "---  ------           --------------   -----         \n",
      " 0   item_id          576525 non-null  float64       \n",
      " 1   status           576525 non-null  object        \n",
      " 2   created_at       576525 non-null  datetime64[ns]\n",
      " 3   price            576525 non-null  float64       \n",
      " 4   qty_ordered      576525 non-null  float64       \n",
      " 5   grand_total      576525 non-null  float64       \n",
      " 6   category_name_1  576525 non-null  object        \n",
      " 7   discount_amount  576525 non-null  float64       \n",
      " 8   payment_method   576525 non-null  object        \n",
      " 9   Year             576525 non-null  float64       \n",
      " 10  Month            576525 non-null  float64       \n",
      " 11  M-Y              576525 non-null  datetime64[ns]\n",
      "dtypes: datetime64[ns](2), float64(7), object(3)\n",
      "memory usage: 57.2+ MB\n"
     ]
    }
   ],
   "source": [
    "df5.info()"
   ]
  },
  {
   "attachments": {},
   "cell_type": "markdown",
   "metadata": {},
   "source": [
    "14. Terdapat 1887 (0,33%) nilai 'grand_total' yang bernilai kurang dari 0, selanjutnya akan kita eliminasi dengan asumsi tidak ada pembelanjaan yang gratis pada data ini."
   ]
  },
  {
   "cell_type": "code",
   "execution_count": 34,
   "metadata": {},
   "outputs": [
    {
     "data": {
      "text/html": [
       "<div>\n",
       "<style scoped>\n",
       "    .dataframe tbody tr th:only-of-type {\n",
       "        vertical-align: middle;\n",
       "    }\n",
       "\n",
       "    .dataframe tbody tr th {\n",
       "        vertical-align: top;\n",
       "    }\n",
       "\n",
       "    .dataframe thead th {\n",
       "        text-align: right;\n",
       "    }\n",
       "</style>\n",
       "<table border=\"1\" class=\"dataframe\">\n",
       "  <thead>\n",
       "    <tr style=\"text-align: right;\">\n",
       "      <th></th>\n",
       "      <th>item_id</th>\n",
       "      <th>status</th>\n",
       "      <th>created_at</th>\n",
       "      <th>price</th>\n",
       "      <th>qty_ordered</th>\n",
       "      <th>grand_total</th>\n",
       "      <th>category_name_1</th>\n",
       "      <th>discount_amount</th>\n",
       "      <th>payment_method</th>\n",
       "      <th>Year</th>\n",
       "      <th>Month</th>\n",
       "      <th>M-Y</th>\n",
       "    </tr>\n",
       "  </thead>\n",
       "  <tbody>\n",
       "    <tr>\n",
       "      <th>1287</th>\n",
       "      <td>212614.0</td>\n",
       "      <td>complete</td>\n",
       "      <td>2016-07-05</td>\n",
       "      <td>65.0</td>\n",
       "      <td>3.0</td>\n",
       "      <td>0.00</td>\n",
       "      <td>Home &amp; Living</td>\n",
       "      <td>195.00</td>\n",
       "      <td>cod</td>\n",
       "      <td>2016.0</td>\n",
       "      <td>7.0</td>\n",
       "      <td>2016-07-01</td>\n",
       "    </tr>\n",
       "    <tr>\n",
       "      <th>1288</th>\n",
       "      <td>212615.0</td>\n",
       "      <td>complete</td>\n",
       "      <td>2016-07-05</td>\n",
       "      <td>142.0</td>\n",
       "      <td>1.0</td>\n",
       "      <td>0.00</td>\n",
       "      <td>Home &amp; Living</td>\n",
       "      <td>142.00</td>\n",
       "      <td>cod</td>\n",
       "      <td>2016.0</td>\n",
       "      <td>7.0</td>\n",
       "      <td>2016-07-01</td>\n",
       "    </tr>\n",
       "    <tr>\n",
       "      <th>1289</th>\n",
       "      <td>212616.0</td>\n",
       "      <td>complete</td>\n",
       "      <td>2016-07-05</td>\n",
       "      <td>55.0</td>\n",
       "      <td>1.0</td>\n",
       "      <td>0.00</td>\n",
       "      <td>Home &amp; Living</td>\n",
       "      <td>55.00</td>\n",
       "      <td>cod</td>\n",
       "      <td>2016.0</td>\n",
       "      <td>7.0</td>\n",
       "      <td>2016-07-01</td>\n",
       "    </tr>\n",
       "    <tr>\n",
       "      <th>1290</th>\n",
       "      <td>212617.0</td>\n",
       "      <td>complete</td>\n",
       "      <td>2016-07-05</td>\n",
       "      <td>91.0</td>\n",
       "      <td>2.0</td>\n",
       "      <td>0.00</td>\n",
       "      <td>Home &amp; Living</td>\n",
       "      <td>182.00</td>\n",
       "      <td>cod</td>\n",
       "      <td>2016.0</td>\n",
       "      <td>7.0</td>\n",
       "      <td>2016-07-01</td>\n",
       "    </tr>\n",
       "    <tr>\n",
       "      <th>1291</th>\n",
       "      <td>212618.0</td>\n",
       "      <td>complete</td>\n",
       "      <td>2016-07-05</td>\n",
       "      <td>180.0</td>\n",
       "      <td>1.0</td>\n",
       "      <td>0.00</td>\n",
       "      <td>Home &amp; Living</td>\n",
       "      <td>180.00</td>\n",
       "      <td>cod</td>\n",
       "      <td>2016.0</td>\n",
       "      <td>7.0</td>\n",
       "      <td>2016-07-01</td>\n",
       "    </tr>\n",
       "    <tr>\n",
       "      <th>...</th>\n",
       "      <td>...</td>\n",
       "      <td>...</td>\n",
       "      <td>...</td>\n",
       "      <td>...</td>\n",
       "      <td>...</td>\n",
       "      <td>...</td>\n",
       "      <td>...</td>\n",
       "      <td>...</td>\n",
       "      <td>...</td>\n",
       "      <td>...</td>\n",
       "      <td>...</td>\n",
       "      <td>...</td>\n",
       "    </tr>\n",
       "    <tr>\n",
       "      <th>571271</th>\n",
       "      <td>890221.0</td>\n",
       "      <td>complete</td>\n",
       "      <td>2018-07-27</td>\n",
       "      <td>180.0</td>\n",
       "      <td>1.0</td>\n",
       "      <td>-432.60</td>\n",
       "      <td>Superstore</td>\n",
       "      <td>612.60</td>\n",
       "      <td>bankalfalah</td>\n",
       "      <td>2018.0</td>\n",
       "      <td>7.0</td>\n",
       "      <td>2018-07-01</td>\n",
       "    </tr>\n",
       "    <tr>\n",
       "      <th>571272</th>\n",
       "      <td>890222.0</td>\n",
       "      <td>complete</td>\n",
       "      <td>2018-07-27</td>\n",
       "      <td>450.0</td>\n",
       "      <td>1.0</td>\n",
       "      <td>-162.60</td>\n",
       "      <td>Superstore</td>\n",
       "      <td>612.60</td>\n",
       "      <td>bankalfalah</td>\n",
       "      <td>2018.0</td>\n",
       "      <td>7.0</td>\n",
       "      <td>2018-07-01</td>\n",
       "    </tr>\n",
       "    <tr>\n",
       "      <th>571273</th>\n",
       "      <td>890223.0</td>\n",
       "      <td>complete</td>\n",
       "      <td>2018-07-27</td>\n",
       "      <td>98.0</td>\n",
       "      <td>4.0</td>\n",
       "      <td>-220.60</td>\n",
       "      <td>Health &amp; Sports</td>\n",
       "      <td>612.60</td>\n",
       "      <td>bankalfalah</td>\n",
       "      <td>2018.0</td>\n",
       "      <td>7.0</td>\n",
       "      <td>2018-07-01</td>\n",
       "    </tr>\n",
       "    <tr>\n",
       "      <th>571274</th>\n",
       "      <td>890224.0</td>\n",
       "      <td>complete</td>\n",
       "      <td>2018-07-27</td>\n",
       "      <td>475.0</td>\n",
       "      <td>1.0</td>\n",
       "      <td>-137.60</td>\n",
       "      <td>Soghaat</td>\n",
       "      <td>612.60</td>\n",
       "      <td>bankalfalah</td>\n",
       "      <td>2018.0</td>\n",
       "      <td>7.0</td>\n",
       "      <td>2018-07-01</td>\n",
       "    </tr>\n",
       "    <tr>\n",
       "      <th>579225</th>\n",
       "      <td>899254.0</td>\n",
       "      <td>received</td>\n",
       "      <td>2018-08-14</td>\n",
       "      <td>295.0</td>\n",
       "      <td>1.0</td>\n",
       "      <td>-8.56</td>\n",
       "      <td>Men's Fashion</td>\n",
       "      <td>303.56</td>\n",
       "      <td>customercredit</td>\n",
       "      <td>2018.0</td>\n",
       "      <td>8.0</td>\n",
       "      <td>2018-08-01</td>\n",
       "    </tr>\n",
       "  </tbody>\n",
       "</table>\n",
       "<p>1887 rows × 12 columns</p>\n",
       "</div>"
      ],
      "text/plain": [
       "         item_id    status created_at  price  qty_ordered  grand_total  \\\n",
       "1287    212614.0  complete 2016-07-05   65.0          3.0         0.00   \n",
       "1288    212615.0  complete 2016-07-05  142.0          1.0         0.00   \n",
       "1289    212616.0  complete 2016-07-05   55.0          1.0         0.00   \n",
       "1290    212617.0  complete 2016-07-05   91.0          2.0         0.00   \n",
       "1291    212618.0  complete 2016-07-05  180.0          1.0         0.00   \n",
       "...          ...       ...        ...    ...          ...          ...   \n",
       "571271  890221.0  complete 2018-07-27  180.0          1.0      -432.60   \n",
       "571272  890222.0  complete 2018-07-27  450.0          1.0      -162.60   \n",
       "571273  890223.0  complete 2018-07-27   98.0          4.0      -220.60   \n",
       "571274  890224.0  complete 2018-07-27  475.0          1.0      -137.60   \n",
       "579225  899254.0  received 2018-08-14  295.0          1.0        -8.56   \n",
       "\n",
       "        category_name_1  discount_amount  payment_method    Year  Month  \\\n",
       "1287      Home & Living           195.00             cod  2016.0    7.0   \n",
       "1288      Home & Living           142.00             cod  2016.0    7.0   \n",
       "1289      Home & Living            55.00             cod  2016.0    7.0   \n",
       "1290      Home & Living           182.00             cod  2016.0    7.0   \n",
       "1291      Home & Living           180.00             cod  2016.0    7.0   \n",
       "...                 ...              ...             ...     ...    ...   \n",
       "571271       Superstore           612.60     bankalfalah  2018.0    7.0   \n",
       "571272       Superstore           612.60     bankalfalah  2018.0    7.0   \n",
       "571273  Health & Sports           612.60     bankalfalah  2018.0    7.0   \n",
       "571274          Soghaat           612.60     bankalfalah  2018.0    7.0   \n",
       "579225    Men's Fashion           303.56  customercredit  2018.0    8.0   \n",
       "\n",
       "              M-Y  \n",
       "1287   2016-07-01  \n",
       "1288   2016-07-01  \n",
       "1289   2016-07-01  \n",
       "1290   2016-07-01  \n",
       "1291   2016-07-01  \n",
       "...           ...  \n",
       "571271 2018-07-01  \n",
       "571272 2018-07-01  \n",
       "571273 2018-07-01  \n",
       "571274 2018-07-01  \n",
       "579225 2018-08-01  \n",
       "\n",
       "[1887 rows x 12 columns]"
      ]
     },
     "execution_count": 34,
     "metadata": {},
     "output_type": "execute_result"
    }
   ],
   "source": [
    "df5[df5['grand_total'] <= 0]"
   ]
  },
  {
   "cell_type": "code",
   "execution_count": 35,
   "metadata": {},
   "outputs": [],
   "source": [
    "j = df5[df5['grand_total'] <= 0].index\n",
    "df5.drop (j,axis=0, inplace=True)"
   ]
  },
  {
   "attachments": {},
   "cell_type": "markdown",
   "metadata": {},
   "source": [
    "### **RECHECK**"
   ]
  },
  {
   "attachments": {},
   "cell_type": "markdown",
   "metadata": {},
   "source": [
    "Selanjutnya kita lakukan recheck apakah masih terdapat missing value, data duplikat, dan outliers."
   ]
  },
  {
   "cell_type": "code",
   "execution_count": 36,
   "metadata": {},
   "outputs": [
    {
     "name": "stdout",
     "output_type": "stream",
     "text": [
      "<class 'pandas.core.frame.DataFrame'>\n",
      "Int64Index: 574638 entries, 0 to 584515\n",
      "Data columns (total 12 columns):\n",
      " #   Column           Non-Null Count   Dtype         \n",
      "---  ------           --------------   -----         \n",
      " 0   item_id          574638 non-null  float64       \n",
      " 1   status           574638 non-null  object        \n",
      " 2   created_at       574638 non-null  datetime64[ns]\n",
      " 3   price            574638 non-null  float64       \n",
      " 4   qty_ordered      574638 non-null  float64       \n",
      " 5   grand_total      574638 non-null  float64       \n",
      " 6   category_name_1  574638 non-null  object        \n",
      " 7   discount_amount  574638 non-null  float64       \n",
      " 8   payment_method   574638 non-null  object        \n",
      " 9   Year             574638 non-null  float64       \n",
      " 10  Month            574638 non-null  float64       \n",
      " 11  M-Y              574638 non-null  datetime64[ns]\n",
      "dtypes: datetime64[ns](2), float64(7), object(3)\n",
      "memory usage: 57.0+ MB\n"
     ]
    }
   ],
   "source": [
    "df5.info()"
   ]
  },
  {
   "attachments": {},
   "cell_type": "markdown",
   "metadata": {},
   "source": [
    "Berdasarkan informasi di atas dapat dilihat bahwa tidak terdapat missing value dan total data yang  dieliminasi adalah sebanyak 10065 data (1,72%) karena:\n",
    "1. Eliminasi baris yang kosong\n",
    "2. Nilai 'N/' pada kolom 'category_name_1' merupakan data outliers sehingga data tesebut kita eliminasikan (total = 7850).\n",
    "3. Eliminasi data yang memiliki nilai 0 pada kedua kolom 'grand_total' dan 'price' (total = 149).\n",
    "4. Eliminasi data yang memiliki nilai 0 pada kedua kolom 'grand_total' dan 'price' setelah dilakukan normalisasi perhitungan (total = 1887).\n",
    "---\n",
    "Selanjutnya kita lakukan pengecekkan terhadap data kategorikal yang bernilai '/N' atau data numerik seperti \"price\", \"grand_total\", dan \"qty_ordered\" yang bernilai '0'."
   ]
  },
  {
   "cell_type": "code",
   "execution_count": 37,
   "metadata": {},
   "outputs": [
    {
     "data": {
      "text/html": [
       "<div>\n",
       "<style scoped>\n",
       "    .dataframe tbody tr th:only-of-type {\n",
       "        vertical-align: middle;\n",
       "    }\n",
       "\n",
       "    .dataframe tbody tr th {\n",
       "        vertical-align: top;\n",
       "    }\n",
       "\n",
       "    .dataframe thead th {\n",
       "        text-align: right;\n",
       "    }\n",
       "</style>\n",
       "<table border=\"1\" class=\"dataframe\">\n",
       "  <thead>\n",
       "    <tr style=\"text-align: right;\">\n",
       "      <th></th>\n",
       "      <th>Column Name</th>\n",
       "      <th>Number of Unique</th>\n",
       "      <th>Unique Sample</th>\n",
       "    </tr>\n",
       "  </thead>\n",
       "  <tbody>\n",
       "    <tr>\n",
       "      <th>0</th>\n",
       "      <td>item_id</td>\n",
       "      <td>574638</td>\n",
       "      <td>[211131.0, 211133.0, 211134.0, 211135.0, 211136.0, 211137.0, 211138.0, 211139.0, 211140.0, 211141.0, 211142.0, 211143.0, 211144.0, 211145.0, 211147.0, 211149.0, 211150.0, 211151.0, 211152.0, 211153.0, 211154.0, 211155.0, 211156.0, 211158.0, 211160.0, 211164.0, 211166.0, 211168.0, 211169.0, 211170.0, 211171.0, 211172.0, 211173.0, 211174.0, 211175.0, 211176.0, 211177.0, 211179.0, 211180.0, 211182.0, 211184.0, 211185.0, 211186.0, 211187.0, 211188.0, 211189.0, 211190.0, 211191.0, 211192.0, 211193.0, 211194.0, 211196.0, 211197.0, 211198.0, 211199.0, 211200.0, 211202.0, 211201.0, 211203.0, 211204.0, 211205.0, 211206.0, 211207.0, 211208.0, 211209.0, 211211.0, 211212.0, 211213.0, 211215.0, 211217.0, 211218.0, 211219.0, 211220.0, 211221.0, 211224.0, 211226.0, 211227.0, 211228.0, 211229.0, 211230.0, 211231.0, 211232.0, 211233.0, 211234.0, 211235.0, 211236.0, 211237.0, 211238.0, 211239.0, 211240.0, 211241.0, 211244.0, 211245.0, 211246.0, 211247.0, 211248.0, 211249.0, 211250.0, 211251.0, 211252.0, ...]</td>\n",
       "    </tr>\n",
       "    <tr>\n",
       "      <th>1</th>\n",
       "      <td>status</td>\n",
       "      <td>15</td>\n",
       "      <td>[complete, canceled, order_refunded, received, refund, closed, fraud, holded, exchange, pending_paypal, paid, cod, pending, processing, payment_review]</td>\n",
       "    </tr>\n",
       "    <tr>\n",
       "      <th>2</th>\n",
       "      <td>created_at</td>\n",
       "      <td>789</td>\n",
       "      <td>[2016-07-01T00:00:00.000000000, 2016-07-02T00:00:00.000000000, 2016-07-03T00:00:00.000000000, 2016-07-04T00:00:00.000000000, 2016-07-05T00:00:00.000000000, 2016-07-06T00:00:00.000000000, 2016-07-07T00:00:00.000000000, 2016-07-08T00:00:00.000000000, 2016-07-09T00:00:00.000000000, 2016-07-10T00:00:00.000000000, 2016-07-11T00:00:00.000000000, 2016-07-12T00:00:00.000000000, 2016-07-13T00:00:00.000000000, 2016-07-14T00:00:00.000000000, 2016-07-15T00:00:00.000000000, 2016-07-16T00:00:00.000000000, 2016-07-17T00:00:00.000000000, 2016-07-18T00:00:00.000000000, 2016-07-19T00:00:00.000000000, 2016-07-20T00:00:00.000000000, 2016-07-21T00:00:00.000000000, 2016-07-22T00:00:00.000000000, 2016-07-23T00:00:00.000000000, 2016-07-24T00:00:00.000000000, 2016-07-25T00:00:00.000000000, 2016-07-26T00:00:00.000000000, 2016-07-27T00:00:00.000000000, 2016-07-28T00:00:00.000000000, 2016-07-29T00:00:00.000000000, 2016-07-30T00:00:00.000000000, 2016-07-31T00:00:00.000000000, 2016-08-01T00:00:00.000000000, 2016-08-02T00:00:00.000000000, 2016-08-03T00:00:00.000000000, 2016-08-04T00:00:00.000000000, 2016-08-05T00:00:00.000000000, 2016-08-06T00:00:00.000000000, 2016-08-07T00:00:00.000000000, 2016-08-08T00:00:00.000000000, 2016-08-09T00:00:00.000000000, 2016-08-10T00:00:00.000000000, 2016-08-11T00:00:00.000000000, 2016-08-12T00:00:00.000000000, 2016-08-13T00:00:00.000000000, 2016-08-14T00:00:00.000000000, 2016-08-15T00:00:00.000000000, 2016-08-16T00:00:00.000000000, 2016-08-17T00:00:00.000000000, 2016-08-18T00:00:00.000000000, 2016-08-19T00:00:00.000000000, 2016-08-20T00:00:00.000000000, 2016-08-21T00:00:00.000000000, 2016-08-22T00:00:00.000000000, 2016-08-23T00:00:00.000000000, 2016-08-24T00:00:00.000000000, 2016-08-25T00:00:00.000000000, 2016-08-26T00:00:00.000000000, 2016-08-27T00:00:00.000000000, 2016-08-28T00:00:00.000000000, 2016-08-29T00:00:00.000000000, 2016-08-30T00:00:00.000000000, 2016-08-31T00:00:00.000000000, 2016-09-01T00:00:00.000000000, 2016-09-02T00:00:00.000000000, 2016-09-03T00:00:00.000000000, 2016-09-04T00:00:00.000000000, 2016-09-05T00:00:00.000000000, 2016-09-06T00:00:00.000000000, 2016-09-07T00:00:00.000000000, 2016-09-08T00:00:00.000000000, 2016-09-09T00:00:00.000000000, 2016-09-10T00:00:00.000000000, 2016-09-11T00:00:00.000000000, 2016-09-12T00:00:00.000000000, 2016-09-13T00:00:00.000000000, 2016-09-14T00:00:00.000000000, 2016-09-15T00:00:00.000000000, 2016-09-16T00:00:00.000000000, 2016-09-17T00:00:00.000000000, 2016-09-18T00:00:00.000000000, 2016-09-19T00:00:00.000000000, 2016-09-20T00:00:00.000000000, 2016-09-21T00:00:00.000000000, 2016-09-22T00:00:00.000000000, 2016-09-23T00:00:00.000000000, 2016-09-24T00:00:00.000000000, 2016-09-25T00:00:00.000000000, 2016-09-26T00:00:00.000000000, 2016-09-27T00:00:00.000000000, 2016-09-28T00:00:00.000000000, 2016-09-29T00:00:00.000000000, 2016-09-30T00:00:00.000000000, 2016-10-01T00:00:00.000000000, 2016-10-02T00:00:00.000000000, 2016-10-03T00:00:00.000000000, 2016-10-04T00:00:00.000000000, 2016-10-05T00:00:00.000000000, 2016-10-06T00:00:00.000000000, 2016-10-07T00:00:00.000000000, 2016-10-08T00:00:00.000000000, ...]</td>\n",
       "    </tr>\n",
       "    <tr>\n",
       "      <th>3</th>\n",
       "      <td>price</td>\n",
       "      <td>9262</td>\n",
       "      <td>[1950.0, 240.0, 2450.0, 360.0, 555.0, 80.0, 170.0, 96499.0, 5500.0, 210.0, 156.0, 120.0, 1550.0, 420.0, 490.0, 899.25, 899.0, 320.0, 149.0, 1913.0, 1500.0, 450.0, 20999.0, 165.0, 435.0, 90.0, 850.0, 3672.0, 7400.0, 3600.0, 143.0, 225.0, 4500.0, 3156.0, 2996.0, 300.0, 150.0, 465.0, 380.0, 350.0, 425.0, 251.0, 510.0, 325.0, 30417.0, 45250.0, 8100.0, 144.0, 5597.0, 999.0, 4950.0, 805.0, 280.0, 760.0, 1875.0, 4200.0, 1230.0, 370.0, 795.0, 4750.0, 520.0, 260.0, 1450.0, 3950.0, 190.0, 16460.0, 599.0, 265.0, 250.0, 25999.0, 3900.0, 75.0, 140.0, 550.0, 1050.0, 3750.0, 455.0, 1335.0, 10740.0, 230.0, 799.0, 480.0, 1200.0, 4530.0, 1890.0, 185.0, 1350.0, 2490.0, 1650.0, 1870.0, 2050.0, 285.0, 1099.0, 3290.0, 1690.0, 500.0, 2800.0, 2550.0, 570.0, 903.0, ...]</td>\n",
       "    </tr>\n",
       "    <tr>\n",
       "      <th>4</th>\n",
       "      <td>qty_ordered</td>\n",
       "      <td>72</td>\n",
       "      <td>[1.0, 2.0, 3.0, 4.0, 6.0, 5.0, 10.0, 34.0, 9.0, 7.0, 14.0, 11.0, 12.0, 20.0, 8.0, 16.0, 15.0, 40.0, 100.0, 50.0, 120.0, 25.0, 22.0, 13.0, 31.0, 97.0, 35.0, 119.0, 24.0, 99.0, 38.0, 30.0, 26.0, 19.0, 32.0, 28.0, 37.0, 18.0, 150.0, 300.0, 21.0, 49.0, 17.0, 45.0, 36.0, 56.0, 72.0, 27.0, 48.0, 502.0, 33.0, 29.0, 1000.0, 200.0, 52.0, 125.0, 141.0, 180.0, 186.0, 96.0, 187.0, 144.0, 66.0, 60.0, 185.0, 90.0, 70.0, 23.0, 102.0, 500.0, 380.0, 75.0]</td>\n",
       "    </tr>\n",
       "    <tr>\n",
       "      <th>5</th>\n",
       "      <td>grand_total</td>\n",
       "      <td>37232</td>\n",
       "      <td>[1950.0, 240.0, 2450.0, 60.0, 1110.0, 80.0, 170.0, 96499.0, 5500.0, 366.0, 120.0, 1550.0, 1270.0, 2118.25, 298.0, 3826.0, 3000.0, 450.0, 20999.0, 360.0, 300.0, 940.0, 3672.0, 740.0, 899.0, 11000.0, 168.0, 4500.0, 6152.0, 2210.0, 350.0, 425.0, 850.0, 251.0, 835.0, 30417.0, 700.0, 45250.0, 24588.0, 5597.0, 999.0, 4950.0, 805.0, 280.0, 1195.0, 320.0, 1875.0, 4200.0, 1230.0, 880.0, 1440.0, 2745.0, 12150.0, 520.0, 600.0, 3901.0, 1450.0, 3950.0, 760.0, 1125.0, 150.0, 16460.0, 599.0, 155.0, 250.0, 25999.0, 920.0, 3900.0, 3600.0, 140.0, 900.0, 1050.0, 3750.0, 455.0, 2670.0, 10740.0, 1399.0, 480.0, 1000.0, 4530.0, 1890.0, 1350.0, 2490.0, 1650.0, 1870.0, 2050.0, 2160.0, 975.0, 1099.0, 720.0, 640.0, 3290.0, 1013.0, 323.0, 1065.0, 55850.0, 6500.0, 399.0, 42860.0, 3250.0, ...]</td>\n",
       "    </tr>\n",
       "    <tr>\n",
       "      <th>6</th>\n",
       "      <td>category_name_1</td>\n",
       "      <td>15</td>\n",
       "      <td>[Women's Fashion, Beauty &amp; Grooming, Soghaat, Mobiles &amp; Tablets, Appliances, Home &amp; Living, Men's Fashion, Kids &amp; Baby, Entertainment, Computing, Superstore, Others, Health &amp; Sports, Books, School &amp; Education]</td>\n",
       "    </tr>\n",
       "    <tr>\n",
       "      <th>7</th>\n",
       "      <td>discount_amount</td>\n",
       "      <td>27817</td>\n",
       "      <td>[0.0, 300.0, 82.5, 217.5, 19.15, 180.85, 77.72, 122.28, 200.0, 149.3, 50.7, 148.57, 51.43, 81.52, 40.76, 157.38, 142.62, 54.79, 35.62, 49.32, 60.27, 1300.65, 1699.35, 136.84, 63.16, 225.0, 75.0, 100.0, 141.66, 83.34, 52.63, 94.74, 242.86, 57.14, 134.21, 165.79, 111.11, 88.89, 500.0, 53.73, 52.24, 94.03, 133.33, 66.67, 125.31, 74.69, 464.49, 35.51, 246.27, 253.73, 361.7, 138.3, 72.66, 31.14, 55.36, 147.06, 121.11, 1021.11, 245.46, 316.15, 417.28, 93.9, 98.59, 157.28, 75.12, 208.45, 291.55, 120.0, 180.0, 160.0, 40.0, 423.66, 76.34, 69.77, 156.76, 43.24, 44.69, 66.84, 343.77, 194.95, 87.16, 217.89, 351.25, 148.75, 458.0, 42.0, 5000.0, 207.6, 188.6, 173.8, 84.4, 1190.8, 441.34, 1374.57, 184.09, 112.49, 235.2, 264.8, 66.0, 16.0, ...]</td>\n",
       "    </tr>\n",
       "    <tr>\n",
       "      <th>8</th>\n",
       "      <td>payment_method</td>\n",
       "      <td>15</td>\n",
       "      <td>[cod, ublcreditcard, mygateway, cashatdoorstep, mcblite, internetbanking, financesettlement, Payaxis, marketingexpense, jazzwallet, customercredit, Easypay, bankalfalah, apg, productcredit]</td>\n",
       "    </tr>\n",
       "    <tr>\n",
       "      <th>9</th>\n",
       "      <td>Year</td>\n",
       "      <td>3</td>\n",
       "      <td>[2016.0, 2017.0, 2018.0]</td>\n",
       "    </tr>\n",
       "    <tr>\n",
       "      <th>10</th>\n",
       "      <td>Month</td>\n",
       "      <td>12</td>\n",
       "      <td>[7.0, 8.0, 9.0, 10.0, 11.0, 12.0, 1.0, 2.0, 3.0, 4.0, 5.0, 6.0]</td>\n",
       "    </tr>\n",
       "    <tr>\n",
       "      <th>11</th>\n",
       "      <td>M-Y</td>\n",
       "      <td>26</td>\n",
       "      <td>[2016-07-01T00:00:00.000000000, 2016-08-01T00:00:00.000000000, 2016-09-01T00:00:00.000000000, 2016-10-01T00:00:00.000000000, 2016-11-01T00:00:00.000000000, 2016-12-01T00:00:00.000000000, 2017-01-01T00:00:00.000000000, 2017-02-01T00:00:00.000000000, 2017-03-01T00:00:00.000000000, 2017-04-01T00:00:00.000000000, 2017-05-01T00:00:00.000000000, 2017-06-01T00:00:00.000000000, 2017-07-01T00:00:00.000000000, 2017-08-01T00:00:00.000000000, 2017-09-01T00:00:00.000000000, 2017-10-01T00:00:00.000000000, 2017-11-01T00:00:00.000000000, 2017-12-01T00:00:00.000000000, 2018-02-01T00:00:00.000000000, 2018-01-01T00:00:00.000000000, 2018-03-01T00:00:00.000000000, 2018-04-01T00:00:00.000000000, 2018-05-01T00:00:00.000000000, 2018-06-01T00:00:00.000000000, 2018-07-01T00:00:00.000000000, 2018-08-01T00:00:00.000000000]</td>\n",
       "    </tr>\n",
       "  </tbody>\n",
       "</table>\n",
       "</div>"
      ],
      "text/plain": [
       "        Column Name  Number of Unique  \\\n",
       "0   item_id          574638             \n",
       "1   status           15                 \n",
       "2   created_at       789                \n",
       "3   price            9262               \n",
       "4   qty_ordered      72                 \n",
       "5   grand_total      37232              \n",
       "6   category_name_1  15                 \n",
       "7   discount_amount  27817              \n",
       "8   payment_method   15                 \n",
       "9   Year             3                  \n",
       "10  Month            12                 \n",
       "11  M-Y              26                 \n",
       "\n",
       "                                                                                                                                                                                                                                                                                                                                                                                                                                                                                                                                                                                                                                                                                                                                                                                                                                                                                                                                                                                                                                                                                                                                                                                                                                                                                                                                                                                                                                                                                                                                                                                                                                                                                                                                                                                                                                                                                                                                                                                                                                                                                                                                                                                                                                                                                                                                                                                                                                                                                                                                                                                                                                                                                                                                                                                                                                                                                                                                                                                                                                                                                                                                                                                                                        Unique Sample  \n",
       "0   [211131.0, 211133.0, 211134.0, 211135.0, 211136.0, 211137.0, 211138.0, 211139.0, 211140.0, 211141.0, 211142.0, 211143.0, 211144.0, 211145.0, 211147.0, 211149.0, 211150.0, 211151.0, 211152.0, 211153.0, 211154.0, 211155.0, 211156.0, 211158.0, 211160.0, 211164.0, 211166.0, 211168.0, 211169.0, 211170.0, 211171.0, 211172.0, 211173.0, 211174.0, 211175.0, 211176.0, 211177.0, 211179.0, 211180.0, 211182.0, 211184.0, 211185.0, 211186.0, 211187.0, 211188.0, 211189.0, 211190.0, 211191.0, 211192.0, 211193.0, 211194.0, 211196.0, 211197.0, 211198.0, 211199.0, 211200.0, 211202.0, 211201.0, 211203.0, 211204.0, 211205.0, 211206.0, 211207.0, 211208.0, 211209.0, 211211.0, 211212.0, 211213.0, 211215.0, 211217.0, 211218.0, 211219.0, 211220.0, 211221.0, 211224.0, 211226.0, 211227.0, 211228.0, 211229.0, 211230.0, 211231.0, 211232.0, 211233.0, 211234.0, 211235.0, 211236.0, 211237.0, 211238.0, 211239.0, 211240.0, 211241.0, 211244.0, 211245.0, 211246.0, 211247.0, 211248.0, 211249.0, 211250.0, 211251.0, 211252.0, ...]                                                                                                                                                                                                                                                                                                                                                                                                                                                                                                                                                                                                                                                                                                                                                                                                                                                                                                                                                                                                                                                                                                                                                                                                                                                                                                                                                                                                                                                                                                                                                                                                                                                                                                                                                                                                                                                                                                                                                                                                                                                                                                                                                                                      \n",
       "1   [complete, canceled, order_refunded, received, refund, closed, fraud, holded, exchange, pending_paypal, paid, cod, pending, processing, payment_review]                                                                                                                                                                                                                                                                                                                                                                                                                                                                                                                                                                                                                                                                                                                                                                                                                                                                                                                                                                                                                                                                                                                                                                                                                                                                                                                                                                                                                                                                                                                                                                                                                                                                                                                                                                                                                                                                                                                                                                                                                                                                                                                                                                                                                                                                                                                                                                                                                                                                                                                                                                                                                                                                                                                                                                                                                                                                                                                                                                                                                                                                            \n",
       "2   [2016-07-01T00:00:00.000000000, 2016-07-02T00:00:00.000000000, 2016-07-03T00:00:00.000000000, 2016-07-04T00:00:00.000000000, 2016-07-05T00:00:00.000000000, 2016-07-06T00:00:00.000000000, 2016-07-07T00:00:00.000000000, 2016-07-08T00:00:00.000000000, 2016-07-09T00:00:00.000000000, 2016-07-10T00:00:00.000000000, 2016-07-11T00:00:00.000000000, 2016-07-12T00:00:00.000000000, 2016-07-13T00:00:00.000000000, 2016-07-14T00:00:00.000000000, 2016-07-15T00:00:00.000000000, 2016-07-16T00:00:00.000000000, 2016-07-17T00:00:00.000000000, 2016-07-18T00:00:00.000000000, 2016-07-19T00:00:00.000000000, 2016-07-20T00:00:00.000000000, 2016-07-21T00:00:00.000000000, 2016-07-22T00:00:00.000000000, 2016-07-23T00:00:00.000000000, 2016-07-24T00:00:00.000000000, 2016-07-25T00:00:00.000000000, 2016-07-26T00:00:00.000000000, 2016-07-27T00:00:00.000000000, 2016-07-28T00:00:00.000000000, 2016-07-29T00:00:00.000000000, 2016-07-30T00:00:00.000000000, 2016-07-31T00:00:00.000000000, 2016-08-01T00:00:00.000000000, 2016-08-02T00:00:00.000000000, 2016-08-03T00:00:00.000000000, 2016-08-04T00:00:00.000000000, 2016-08-05T00:00:00.000000000, 2016-08-06T00:00:00.000000000, 2016-08-07T00:00:00.000000000, 2016-08-08T00:00:00.000000000, 2016-08-09T00:00:00.000000000, 2016-08-10T00:00:00.000000000, 2016-08-11T00:00:00.000000000, 2016-08-12T00:00:00.000000000, 2016-08-13T00:00:00.000000000, 2016-08-14T00:00:00.000000000, 2016-08-15T00:00:00.000000000, 2016-08-16T00:00:00.000000000, 2016-08-17T00:00:00.000000000, 2016-08-18T00:00:00.000000000, 2016-08-19T00:00:00.000000000, 2016-08-20T00:00:00.000000000, 2016-08-21T00:00:00.000000000, 2016-08-22T00:00:00.000000000, 2016-08-23T00:00:00.000000000, 2016-08-24T00:00:00.000000000, 2016-08-25T00:00:00.000000000, 2016-08-26T00:00:00.000000000, 2016-08-27T00:00:00.000000000, 2016-08-28T00:00:00.000000000, 2016-08-29T00:00:00.000000000, 2016-08-30T00:00:00.000000000, 2016-08-31T00:00:00.000000000, 2016-09-01T00:00:00.000000000, 2016-09-02T00:00:00.000000000, 2016-09-03T00:00:00.000000000, 2016-09-04T00:00:00.000000000, 2016-09-05T00:00:00.000000000, 2016-09-06T00:00:00.000000000, 2016-09-07T00:00:00.000000000, 2016-09-08T00:00:00.000000000, 2016-09-09T00:00:00.000000000, 2016-09-10T00:00:00.000000000, 2016-09-11T00:00:00.000000000, 2016-09-12T00:00:00.000000000, 2016-09-13T00:00:00.000000000, 2016-09-14T00:00:00.000000000, 2016-09-15T00:00:00.000000000, 2016-09-16T00:00:00.000000000, 2016-09-17T00:00:00.000000000, 2016-09-18T00:00:00.000000000, 2016-09-19T00:00:00.000000000, 2016-09-20T00:00:00.000000000, 2016-09-21T00:00:00.000000000, 2016-09-22T00:00:00.000000000, 2016-09-23T00:00:00.000000000, 2016-09-24T00:00:00.000000000, 2016-09-25T00:00:00.000000000, 2016-09-26T00:00:00.000000000, 2016-09-27T00:00:00.000000000, 2016-09-28T00:00:00.000000000, 2016-09-29T00:00:00.000000000, 2016-09-30T00:00:00.000000000, 2016-10-01T00:00:00.000000000, 2016-10-02T00:00:00.000000000, 2016-10-03T00:00:00.000000000, 2016-10-04T00:00:00.000000000, 2016-10-05T00:00:00.000000000, 2016-10-06T00:00:00.000000000, 2016-10-07T00:00:00.000000000, 2016-10-08T00:00:00.000000000, ...]  \n",
       "3   [1950.0, 240.0, 2450.0, 360.0, 555.0, 80.0, 170.0, 96499.0, 5500.0, 210.0, 156.0, 120.0, 1550.0, 420.0, 490.0, 899.25, 899.0, 320.0, 149.0, 1913.0, 1500.0, 450.0, 20999.0, 165.0, 435.0, 90.0, 850.0, 3672.0, 7400.0, 3600.0, 143.0, 225.0, 4500.0, 3156.0, 2996.0, 300.0, 150.0, 465.0, 380.0, 350.0, 425.0, 251.0, 510.0, 325.0, 30417.0, 45250.0, 8100.0, 144.0, 5597.0, 999.0, 4950.0, 805.0, 280.0, 760.0, 1875.0, 4200.0, 1230.0, 370.0, 795.0, 4750.0, 520.0, 260.0, 1450.0, 3950.0, 190.0, 16460.0, 599.0, 265.0, 250.0, 25999.0, 3900.0, 75.0, 140.0, 550.0, 1050.0, 3750.0, 455.0, 1335.0, 10740.0, 230.0, 799.0, 480.0, 1200.0, 4530.0, 1890.0, 185.0, 1350.0, 2490.0, 1650.0, 1870.0, 2050.0, 285.0, 1099.0, 3290.0, 1690.0, 500.0, 2800.0, 2550.0, 570.0, 903.0, ...]                                                                                                                                                                                                                                                                                                                                                                                                                                                                                                                                                                                                                                                                                                                                                                                                                                                                                                                                                                                                                                                                                                                                                                                                                                                                                                                                                                                                                                                                                                                                                                                                                                                                                                                                                                                                                                                                                                                                                                                                                                                                                                                                                                                                                                                                                                                                                                                                                                                \n",
       "4   [1.0, 2.0, 3.0, 4.0, 6.0, 5.0, 10.0, 34.0, 9.0, 7.0, 14.0, 11.0, 12.0, 20.0, 8.0, 16.0, 15.0, 40.0, 100.0, 50.0, 120.0, 25.0, 22.0, 13.0, 31.0, 97.0, 35.0, 119.0, 24.0, 99.0, 38.0, 30.0, 26.0, 19.0, 32.0, 28.0, 37.0, 18.0, 150.0, 300.0, 21.0, 49.0, 17.0, 45.0, 36.0, 56.0, 72.0, 27.0, 48.0, 502.0, 33.0, 29.0, 1000.0, 200.0, 52.0, 125.0, 141.0, 180.0, 186.0, 96.0, 187.0, 144.0, 66.0, 60.0, 185.0, 90.0, 70.0, 23.0, 102.0, 500.0, 380.0, 75.0]                                                                                                                                                                                                                                                                                                                                                                                                                                                                                                                                                                                                                                                                                                                                                                                                                                                                                                                                                                                                                                                                                                                                                                                                                                                                                                                                                                                                                                                                                                                                                                                                                                                                                                                                                                                                                                                                                                                                                                                                                                                                                                                                                                                                                                                                                                                                                                                                                                                                                                                                                                                                                                                                                                                                                                         \n",
       "5   [1950.0, 240.0, 2450.0, 60.0, 1110.0, 80.0, 170.0, 96499.0, 5500.0, 366.0, 120.0, 1550.0, 1270.0, 2118.25, 298.0, 3826.0, 3000.0, 450.0, 20999.0, 360.0, 300.0, 940.0, 3672.0, 740.0, 899.0, 11000.0, 168.0, 4500.0, 6152.0, 2210.0, 350.0, 425.0, 850.0, 251.0, 835.0, 30417.0, 700.0, 45250.0, 24588.0, 5597.0, 999.0, 4950.0, 805.0, 280.0, 1195.0, 320.0, 1875.0, 4200.0, 1230.0, 880.0, 1440.0, 2745.0, 12150.0, 520.0, 600.0, 3901.0, 1450.0, 3950.0, 760.0, 1125.0, 150.0, 16460.0, 599.0, 155.0, 250.0, 25999.0, 920.0, 3900.0, 3600.0, 140.0, 900.0, 1050.0, 3750.0, 455.0, 2670.0, 10740.0, 1399.0, 480.0, 1000.0, 4530.0, 1890.0, 1350.0, 2490.0, 1650.0, 1870.0, 2050.0, 2160.0, 975.0, 1099.0, 720.0, 640.0, 3290.0, 1013.0, 323.0, 1065.0, 55850.0, 6500.0, 399.0, 42860.0, 3250.0, ...]                                                                                                                                                                                                                                                                                                                                                                                                                                                                                                                                                                                                                                                                                                                                                                                                                                                                                                                                                                                                                                                                                                                                                                                                                                                                                                                                                                                                                                                                                                                                                                                                                                                                                                                                                                                                                                                                                                                                                                                                                                                                                                                                                                                                                                                                                                                                                                                                                             \n",
       "6   [Women's Fashion, Beauty & Grooming, Soghaat, Mobiles & Tablets, Appliances, Home & Living, Men's Fashion, Kids & Baby, Entertainment, Computing, Superstore, Others, Health & Sports, Books, School & Education]                                                                                                                                                                                                                                                                                                                                                                                                                                                                                                                                                                                                                                                                                                                                                                                                                                                                                                                                                                                                                                                                                                                                                                                                                                                                                                                                                                                                                                                                                                                                                                                                                                                                                                                                                                                                                                                                                                                                                                                                                                                                                                                                                                                                                                                                                                                                                                                                                                                                                                                                                                                                                                                                                                                                                                                                                                                                                                                                                                                                                  \n",
       "7   [0.0, 300.0, 82.5, 217.5, 19.15, 180.85, 77.72, 122.28, 200.0, 149.3, 50.7, 148.57, 51.43, 81.52, 40.76, 157.38, 142.62, 54.79, 35.62, 49.32, 60.27, 1300.65, 1699.35, 136.84, 63.16, 225.0, 75.0, 100.0, 141.66, 83.34, 52.63, 94.74, 242.86, 57.14, 134.21, 165.79, 111.11, 88.89, 500.0, 53.73, 52.24, 94.03, 133.33, 66.67, 125.31, 74.69, 464.49, 35.51, 246.27, 253.73, 361.7, 138.3, 72.66, 31.14, 55.36, 147.06, 121.11, 1021.11, 245.46, 316.15, 417.28, 93.9, 98.59, 157.28, 75.12, 208.45, 291.55, 120.0, 180.0, 160.0, 40.0, 423.66, 76.34, 69.77, 156.76, 43.24, 44.69, 66.84, 343.77, 194.95, 87.16, 217.89, 351.25, 148.75, 458.0, 42.0, 5000.0, 207.6, 188.6, 173.8, 84.4, 1190.8, 441.34, 1374.57, 184.09, 112.49, 235.2, 264.8, 66.0, 16.0, ...]                                                                                                                                                                                                                                                                                                                                                                                                                                                                                                                                                                                                                                                                                                                                                                                                                                                                                                                                                                                                                                                                                                                                                                                                                                                                                                                                                                                                                                                                                                                                                                                                                                                                                                                                                                                                                                                                                                                                                                                                                                                                                                                                                                                                                                                                                                                                                                                                                                                                 \n",
       "8   [cod, ublcreditcard, mygateway, cashatdoorstep, mcblite, internetbanking, financesettlement, Payaxis, marketingexpense, jazzwallet, customercredit, Easypay, bankalfalah, apg, productcredit]                                                                                                                                                                                                                                                                                                                                                                                                                                                                                                                                                                                                                                                                                                                                                                                                                                                                                                                                                                                                                                                                                                                                                                                                                                                                                                                                                                                                                                                                                                                                                                                                                                                                                                                                                                                                                                                                                                                                                                                                                                                                                                                                                                                                                                                                                                                                                                                                                                                                                                                                                                                                                                                                                                                                                                                                                                                                                                                                                                                                                                      \n",
       "9   [2016.0, 2017.0, 2018.0]                                                                                                                                                                                                                                                                                                                                                                                                                                                                                                                                                                                                                                                                                                                                                                                                                                                                                                                                                                                                                                                                                                                                                                                                                                                                                                                                                                                                                                                                                                                                                                                                                                                                                                                                                                                                                                                                                                                                                                                                                                                                                                                                                                                                                                                                                                                                                                                                                                                                                                                                                                                                                                                                                                                                                                                                                                                                                                                                                                                                                                                                                                                                                                                                           \n",
       "10  [7.0, 8.0, 9.0, 10.0, 11.0, 12.0, 1.0, 2.0, 3.0, 4.0, 5.0, 6.0]                                                                                                                                                                                                                                                                                                                                                                                                                                                                                                                                                                                                                                                                                                                                                                                                                                                                                                                                                                                                                                                                                                                                                                                                                                                                                                                                                                                                                                                                                                                                                                                                                                                                                                                                                                                                                                                                                                                                                                                                                                                                                                                                                                                                                                                                                                                                                                                                                                                                                                                                                                                                                                                                                                                                                                                                                                                                                                                                                                                                                                                                                                                                                                    \n",
       "11  [2016-07-01T00:00:00.000000000, 2016-08-01T00:00:00.000000000, 2016-09-01T00:00:00.000000000, 2016-10-01T00:00:00.000000000, 2016-11-01T00:00:00.000000000, 2016-12-01T00:00:00.000000000, 2017-01-01T00:00:00.000000000, 2017-02-01T00:00:00.000000000, 2017-03-01T00:00:00.000000000, 2017-04-01T00:00:00.000000000, 2017-05-01T00:00:00.000000000, 2017-06-01T00:00:00.000000000, 2017-07-01T00:00:00.000000000, 2017-08-01T00:00:00.000000000, 2017-09-01T00:00:00.000000000, 2017-10-01T00:00:00.000000000, 2017-11-01T00:00:00.000000000, 2017-12-01T00:00:00.000000000, 2018-02-01T00:00:00.000000000, 2018-01-01T00:00:00.000000000, 2018-03-01T00:00:00.000000000, 2018-04-01T00:00:00.000000000, 2018-05-01T00:00:00.000000000, 2018-06-01T00:00:00.000000000, 2018-07-01T00:00:00.000000000, 2018-08-01T00:00:00.000000000]                                                                                                                                                                                                                                                                                                                                                                                                                                                                                                                                                                                                                                                                                                                                                                                                                                                                                                                                                                                                                                                                                                                                                                                                                                                                                                                                                                                                                                                                                                                                                                                                                                                                                                                                                                                                                                                                                                                                                                                                                                                                                                                                                                                                                                                                                                                                                                                             "
      ]
     },
     "execution_count": 37,
     "metadata": {},
     "output_type": "execute_result"
    }
   ],
   "source": [
    "pd.set_option('display.max_colwidth', -1)\n",
    "# data uni di tiap kolom\n",
    "listItem = []\n",
    "for col in df5.columns :\n",
    "    listItem.append( [col, df5[col].nunique(), df5[col].unique()])\n",
    "\n",
    "tabel1Desc = pd.DataFrame(columns=['Column Name', 'Number of Unique', 'Unique Sample'],\n",
    "                     data=listItem)\n",
    "tabel1Desc"
   ]
  },
  {
   "cell_type": "code",
   "execution_count": 38,
   "metadata": {},
   "outputs": [
    {
     "data": {
      "text/html": [
       "<div>\n",
       "<style scoped>\n",
       "    .dataframe tbody tr th:only-of-type {\n",
       "        vertical-align: middle;\n",
       "    }\n",
       "\n",
       "    .dataframe tbody tr th {\n",
       "        vertical-align: top;\n",
       "    }\n",
       "\n",
       "    .dataframe thead th {\n",
       "        text-align: right;\n",
       "    }\n",
       "</style>\n",
       "<table border=\"1\" class=\"dataframe\">\n",
       "  <thead>\n",
       "    <tr style=\"text-align: right;\">\n",
       "      <th></th>\n",
       "      <th>item_id</th>\n",
       "      <th>status</th>\n",
       "      <th>created_at</th>\n",
       "      <th>price</th>\n",
       "      <th>qty_ordered</th>\n",
       "      <th>grand_total</th>\n",
       "      <th>category_name_1</th>\n",
       "      <th>discount_amount</th>\n",
       "      <th>payment_method</th>\n",
       "      <th>Year</th>\n",
       "      <th>Month</th>\n",
       "      <th>M-Y</th>\n",
       "    </tr>\n",
       "  </thead>\n",
       "  <tbody>\n",
       "  </tbody>\n",
       "</table>\n",
       "</div>"
      ],
      "text/plain": [
       "Empty DataFrame\n",
       "Columns: [item_id, status, created_at, price, qty_ordered, grand_total, category_name_1, discount_amount, payment_method, Year, Month, M-Y]\n",
       "Index: []"
      ]
     },
     "execution_count": 38,
     "metadata": {},
     "output_type": "execute_result"
    }
   ],
   "source": [
    "df5[df5['price'] <= 0]"
   ]
  },
  {
   "cell_type": "code",
   "execution_count": 39,
   "metadata": {},
   "outputs": [
    {
     "data": {
      "text/html": [
       "<div>\n",
       "<style scoped>\n",
       "    .dataframe tbody tr th:only-of-type {\n",
       "        vertical-align: middle;\n",
       "    }\n",
       "\n",
       "    .dataframe tbody tr th {\n",
       "        vertical-align: top;\n",
       "    }\n",
       "\n",
       "    .dataframe thead th {\n",
       "        text-align: right;\n",
       "    }\n",
       "</style>\n",
       "<table border=\"1\" class=\"dataframe\">\n",
       "  <thead>\n",
       "    <tr style=\"text-align: right;\">\n",
       "      <th></th>\n",
       "      <th>item_id</th>\n",
       "      <th>status</th>\n",
       "      <th>created_at</th>\n",
       "      <th>price</th>\n",
       "      <th>qty_ordered</th>\n",
       "      <th>grand_total</th>\n",
       "      <th>category_name_1</th>\n",
       "      <th>discount_amount</th>\n",
       "      <th>payment_method</th>\n",
       "      <th>Year</th>\n",
       "      <th>Month</th>\n",
       "      <th>M-Y</th>\n",
       "    </tr>\n",
       "  </thead>\n",
       "  <tbody>\n",
       "  </tbody>\n",
       "</table>\n",
       "</div>"
      ],
      "text/plain": [
       "Empty DataFrame\n",
       "Columns: [item_id, status, created_at, price, qty_ordered, grand_total, category_name_1, discount_amount, payment_method, Year, Month, M-Y]\n",
       "Index: []"
      ]
     },
     "execution_count": 39,
     "metadata": {},
     "output_type": "execute_result"
    }
   ],
   "source": [
    "df5[df5['grand_total'] <= 0]"
   ]
  },
  {
   "cell_type": "code",
   "execution_count": 40,
   "metadata": {},
   "outputs": [
    {
     "data": {
      "text/html": [
       "<div>\n",
       "<style scoped>\n",
       "    .dataframe tbody tr th:only-of-type {\n",
       "        vertical-align: middle;\n",
       "    }\n",
       "\n",
       "    .dataframe tbody tr th {\n",
       "        vertical-align: top;\n",
       "    }\n",
       "\n",
       "    .dataframe thead th {\n",
       "        text-align: right;\n",
       "    }\n",
       "</style>\n",
       "<table border=\"1\" class=\"dataframe\">\n",
       "  <thead>\n",
       "    <tr style=\"text-align: right;\">\n",
       "      <th></th>\n",
       "      <th>item_id</th>\n",
       "      <th>status</th>\n",
       "      <th>created_at</th>\n",
       "      <th>price</th>\n",
       "      <th>qty_ordered</th>\n",
       "      <th>grand_total</th>\n",
       "      <th>category_name_1</th>\n",
       "      <th>discount_amount</th>\n",
       "      <th>payment_method</th>\n",
       "      <th>Year</th>\n",
       "      <th>Month</th>\n",
       "      <th>M-Y</th>\n",
       "    </tr>\n",
       "  </thead>\n",
       "  <tbody>\n",
       "  </tbody>\n",
       "</table>\n",
       "</div>"
      ],
      "text/plain": [
       "Empty DataFrame\n",
       "Columns: [item_id, status, created_at, price, qty_ordered, grand_total, category_name_1, discount_amount, payment_method, Year, Month, M-Y]\n",
       "Index: []"
      ]
     },
     "execution_count": 40,
     "metadata": {},
     "output_type": "execute_result"
    }
   ],
   "source": [
    "df5[df5['qty_ordered'] <= 0]"
   ]
  },
  {
   "cell_type": "code",
   "execution_count": 41,
   "metadata": {},
   "outputs": [
    {
     "data": {
      "text/plain": [
       "0"
      ]
     },
     "execution_count": 41,
     "metadata": {},
     "output_type": "execute_result"
    }
   ],
   "source": [
    "df5.duplicated().sum()"
   ]
  },
  {
   "attachments": {},
   "cell_type": "markdown",
   "metadata": {},
   "source": [
    "Dapat disimpulkan, data di atas sudah bersih serta tidak terdapat nilai yang memiliki nilai 'N' / 0, selain itu data di atas tidak memiliki value yang duplikat sehingga data tersebut bisa dilanjutkan ketahap data analisis sebagai sample."
   ]
  },
  {
   "attachments": {},
   "cell_type": "markdown",
   "metadata": {},
   "source": [
    "## **B. Statistika**"
   ]
  },
  {
   "attachments": {},
   "cell_type": "markdown",
   "metadata": {},
   "source": [
    "### 1. Descriptive Statistics\n"
   ]
  },
  {
   "cell_type": "code",
   "execution_count": 42,
   "metadata": {},
   "outputs": [
    {
     "data": {
      "text/html": [
       "<div>\n",
       "<style scoped>\n",
       "    .dataframe tbody tr th:only-of-type {\n",
       "        vertical-align: middle;\n",
       "    }\n",
       "\n",
       "    .dataframe tbody tr th {\n",
       "        vertical-align: top;\n",
       "    }\n",
       "\n",
       "    .dataframe thead th {\n",
       "        text-align: right;\n",
       "    }\n",
       "</style>\n",
       "<table border=\"1\" class=\"dataframe\">\n",
       "  <thead>\n",
       "    <tr style=\"text-align: right;\">\n",
       "      <th></th>\n",
       "      <th>count</th>\n",
       "      <th>unique</th>\n",
       "      <th>top</th>\n",
       "      <th>freq</th>\n",
       "    </tr>\n",
       "  </thead>\n",
       "  <tbody>\n",
       "    <tr>\n",
       "      <th>status</th>\n",
       "      <td>574638</td>\n",
       "      <td>15</td>\n",
       "      <td>complete</td>\n",
       "      <td>229565</td>\n",
       "    </tr>\n",
       "    <tr>\n",
       "      <th>category_name_1</th>\n",
       "      <td>574638</td>\n",
       "      <td>15</td>\n",
       "      <td>Mobiles &amp; Tablets</td>\n",
       "      <td>115643</td>\n",
       "    </tr>\n",
       "    <tr>\n",
       "      <th>payment_method</th>\n",
       "      <td>574638</td>\n",
       "      <td>15</td>\n",
       "      <td>cod</td>\n",
       "      <td>266238</td>\n",
       "    </tr>\n",
       "  </tbody>\n",
       "</table>\n",
       "</div>"
      ],
      "text/plain": [
       "                  count unique                top    freq\n",
       "status           574638  15     complete           229565\n",
       "category_name_1  574638  15     Mobiles & Tablets  115643\n",
       "payment_method   574638  15     cod                266238"
      ]
     },
     "execution_count": 42,
     "metadata": {},
     "output_type": "execute_result"
    }
   ],
   "source": [
    "df5.describe(include=[object]).T"
   ]
  },
  {
   "attachments": {},
   "cell_type": "markdown",
   "metadata": {},
   "source": [
    "Berdasarkan hasil analisa deskriptif data kategorikal, dapat dilihat bahwa kebanyakan status transaksi adalah complete dengan metode pembayaran paling tinggi adalah cod, adapun barang yang paling banyak dibeli adalah gadget elektronik seperti handphone, tablet, dan laptop."
   ]
  },
  {
   "cell_type": "code",
   "execution_count": 43,
   "metadata": {},
   "outputs": [
    {
     "data": {
      "text/html": [
       "<div>\n",
       "<style scoped>\n",
       "    .dataframe tbody tr th:only-of-type {\n",
       "        vertical-align: middle;\n",
       "    }\n",
       "\n",
       "    .dataframe tbody tr th {\n",
       "        vertical-align: top;\n",
       "    }\n",
       "\n",
       "    .dataframe thead th {\n",
       "        text-align: right;\n",
       "    }\n",
       "</style>\n",
       "<table border=\"1\" class=\"dataframe\">\n",
       "  <thead>\n",
       "    <tr style=\"text-align: right;\">\n",
       "      <th></th>\n",
       "      <th>count</th>\n",
       "      <th>unique</th>\n",
       "      <th>top</th>\n",
       "      <th>freq</th>\n",
       "      <th>first</th>\n",
       "      <th>last</th>\n",
       "      <th>mean</th>\n",
       "      <th>std</th>\n",
       "      <th>min</th>\n",
       "      <th>25%</th>\n",
       "      <th>50%</th>\n",
       "      <th>75%</th>\n",
       "      <th>max</th>\n",
       "    </tr>\n",
       "  </thead>\n",
       "  <tbody>\n",
       "    <tr>\n",
       "      <th>item_id</th>\n",
       "      <td>574638.0</td>\n",
       "      <td>NaN</td>\n",
       "      <td>NaT</td>\n",
       "      <td>NaN</td>\n",
       "      <td>NaT</td>\n",
       "      <td>NaT</td>\n",
       "      <td>568857.798451</td>\n",
       "      <td>199254.143199</td>\n",
       "      <td>211131.0</td>\n",
       "      <td>400381.5</td>\n",
       "      <td>572857.5</td>\n",
       "      <td>741122.75</td>\n",
       "      <td>905208.0</td>\n",
       "    </tr>\n",
       "    <tr>\n",
       "      <th>created_at</th>\n",
       "      <td>574638</td>\n",
       "      <td>789</td>\n",
       "      <td>2016-11-25</td>\n",
       "      <td>14915</td>\n",
       "      <td>2016-07-01</td>\n",
       "      <td>2018-08-28</td>\n",
       "      <td>NaN</td>\n",
       "      <td>NaN</td>\n",
       "      <td>NaN</td>\n",
       "      <td>NaN</td>\n",
       "      <td>NaN</td>\n",
       "      <td>NaN</td>\n",
       "      <td>NaN</td>\n",
       "    </tr>\n",
       "    <tr>\n",
       "      <th>price</th>\n",
       "      <td>574638.0</td>\n",
       "      <td>NaN</td>\n",
       "      <td>NaT</td>\n",
       "      <td>NaN</td>\n",
       "      <td>NaT</td>\n",
       "      <td>NaT</td>\n",
       "      <td>6399.617612</td>\n",
       "      <td>15027.762917</td>\n",
       "      <td>0.1</td>\n",
       "      <td>365.0</td>\n",
       "      <td>909.0</td>\n",
       "      <td>4150.0</td>\n",
       "      <td>1012625.9</td>\n",
       "    </tr>\n",
       "    <tr>\n",
       "      <th>qty_ordered</th>\n",
       "      <td>574638.0</td>\n",
       "      <td>NaN</td>\n",
       "      <td>NaT</td>\n",
       "      <td>NaN</td>\n",
       "      <td>NaT</td>\n",
       "      <td>NaT</td>\n",
       "      <td>1.297206</td>\n",
       "      <td>3.992768</td>\n",
       "      <td>1.0</td>\n",
       "      <td>1.0</td>\n",
       "      <td>1.0</td>\n",
       "      <td>1.0</td>\n",
       "      <td>1000.0</td>\n",
       "    </tr>\n",
       "    <tr>\n",
       "      <th>grand_total</th>\n",
       "      <td>574638.0</td>\n",
       "      <td>NaN</td>\n",
       "      <td>NaT</td>\n",
       "      <td>NaN</td>\n",
       "      <td>NaT</td>\n",
       "      <td>NaT</td>\n",
       "      <td>8670.517627</td>\n",
       "      <td>61840.574831</td>\n",
       "      <td>0.21</td>\n",
       "      <td>997.5</td>\n",
       "      <td>1999.0</td>\n",
       "      <td>7120.0</td>\n",
       "      <td>17888000.0</td>\n",
       "    </tr>\n",
       "    <tr>\n",
       "      <th>discount_amount</th>\n",
       "      <td>574638.0</td>\n",
       "      <td>NaN</td>\n",
       "      <td>NaT</td>\n",
       "      <td>NaN</td>\n",
       "      <td>NaT</td>\n",
       "      <td>NaT</td>\n",
       "      <td>495.441706</td>\n",
       "      <td>1494.957283</td>\n",
       "      <td>0.0</td>\n",
       "      <td>0.0</td>\n",
       "      <td>0.0</td>\n",
       "      <td>159.01665</td>\n",
       "      <td>90300.0</td>\n",
       "    </tr>\n",
       "    <tr>\n",
       "      <th>Year</th>\n",
       "      <td>574638.0</td>\n",
       "      <td>NaN</td>\n",
       "      <td>NaT</td>\n",
       "      <td>NaN</td>\n",
       "      <td>NaT</td>\n",
       "      <td>NaT</td>\n",
       "      <td>2017.053997</td>\n",
       "      <td>0.704512</td>\n",
       "      <td>2016.0</td>\n",
       "      <td>2017.0</td>\n",
       "      <td>2017.0</td>\n",
       "      <td>2018.0</td>\n",
       "      <td>2018.0</td>\n",
       "    </tr>\n",
       "    <tr>\n",
       "      <th>Month</th>\n",
       "      <td>574638.0</td>\n",
       "      <td>NaN</td>\n",
       "      <td>NaT</td>\n",
       "      <td>NaN</td>\n",
       "      <td>NaT</td>\n",
       "      <td>NaT</td>\n",
       "      <td>7.154875</td>\n",
       "      <td>3.489528</td>\n",
       "      <td>1.0</td>\n",
       "      <td>4.0</td>\n",
       "      <td>7.0</td>\n",
       "      <td>11.0</td>\n",
       "      <td>12.0</td>\n",
       "    </tr>\n",
       "    <tr>\n",
       "      <th>M-Y</th>\n",
       "      <td>574638</td>\n",
       "      <td>26</td>\n",
       "      <td>2017-11-01</td>\n",
       "      <td>83828</td>\n",
       "      <td>2016-07-01</td>\n",
       "      <td>2018-08-01</td>\n",
       "      <td>NaN</td>\n",
       "      <td>NaN</td>\n",
       "      <td>NaN</td>\n",
       "      <td>NaN</td>\n",
       "      <td>NaN</td>\n",
       "      <td>NaN</td>\n",
       "      <td>NaN</td>\n",
       "    </tr>\n",
       "  </tbody>\n",
       "</table>\n",
       "</div>"
      ],
      "text/plain": [
       "                    count unique        top   freq      first       last  \\\n",
       "item_id          574638.0  NaN   NaT         NaN   NaT        NaT          \n",
       "created_at       574638    789   2016-11-25  14915 2016-07-01 2018-08-28   \n",
       "price            574638.0  NaN   NaT         NaN   NaT        NaT          \n",
       "qty_ordered      574638.0  NaN   NaT         NaN   NaT        NaT          \n",
       "grand_total      574638.0  NaN   NaT         NaN   NaT        NaT          \n",
       "discount_amount  574638.0  NaN   NaT         NaN   NaT        NaT          \n",
       "Year             574638.0  NaN   NaT         NaN   NaT        NaT          \n",
       "Month            574638.0  NaN   NaT         NaN   NaT        NaT          \n",
       "M-Y              574638    26    2017-11-01  83828 2016-07-01 2018-08-01   \n",
       "\n",
       "                          mean            std       min       25%       50%  \\\n",
       "item_id          568857.798451  199254.143199  211131.0  400381.5  572857.5   \n",
       "created_at       NaN            NaN            NaN       NaN       NaN        \n",
       "price            6399.617612    15027.762917   0.1       365.0     909.0      \n",
       "qty_ordered      1.297206       3.992768       1.0       1.0       1.0        \n",
       "grand_total      8670.517627    61840.574831   0.21      997.5     1999.0     \n",
       "discount_amount  495.441706     1494.957283    0.0       0.0       0.0        \n",
       "Year             2017.053997    0.704512       2016.0    2017.0    2017.0     \n",
       "Month            7.154875       3.489528       1.0       4.0       7.0        \n",
       "M-Y              NaN            NaN            NaN       NaN       NaN        \n",
       "\n",
       "                       75%         max  \n",
       "item_id          741122.75  905208.0    \n",
       "created_at       NaN        NaN         \n",
       "price            4150.0     1012625.9   \n",
       "qty_ordered      1.0        1000.0      \n",
       "grand_total      7120.0     17888000.0  \n",
       "discount_amount  159.01665  90300.0     \n",
       "Year             2018.0     2018.0      \n",
       "Month            11.0       12.0        \n",
       "M-Y              NaN        NaN         "
      ]
     },
     "execution_count": 43,
     "metadata": {},
     "output_type": "execute_result"
    }
   ],
   "source": [
    "df5.describe(exclude=[object]).T"
   ]
  },
  {
   "attachments": {},
   "cell_type": "markdown",
   "metadata": {},
   "source": [
    "Berdasarkan hasil analisa deskriptif data numerikal, dapat diamati bahwa nilai mean dan median dari setiap kolom tidak mendekati, hal ini menunjukkan bahwa keseluruhan data memiliki distribusi tidak normal. Adapun hal ini disebabkan karena setiap pembelanjaan memiliki nilai unik/khas sehingga tidak dapat dikelompokkan distribusi nilainya."
   ]
  },
  {
   "attachments": {},
   "cell_type": "markdown",
   "metadata": {},
   "source": [
    "### 2. Inferensial Statistics"
   ]
  },
  {
   "attachments": {},
   "cell_type": "markdown",
   "metadata": {},
   "source": [
    "Adapun data pada dataset *Pakistan's Largest E-Commerce* merupakan data populasi sehingga stastika inferensial perlu tidak dilakukan."
   ]
  },
  {
   "attachments": {},
   "cell_type": "markdown",
   "metadata": {},
   "source": [
    "### 3. Correlation"
   ]
  },
  {
   "cell_type": "code",
   "execution_count": 44,
   "metadata": {},
   "outputs": [
    {
     "data": {
      "text/html": [
       "<div>\n",
       "<style scoped>\n",
       "    .dataframe tbody tr th:only-of-type {\n",
       "        vertical-align: middle;\n",
       "    }\n",
       "\n",
       "    .dataframe tbody tr th {\n",
       "        vertical-align: top;\n",
       "    }\n",
       "\n",
       "    .dataframe thead th {\n",
       "        text-align: right;\n",
       "    }\n",
       "</style>\n",
       "<table border=\"1\" class=\"dataframe\">\n",
       "  <thead>\n",
       "    <tr style=\"text-align: right;\">\n",
       "      <th></th>\n",
       "      <th>item_id</th>\n",
       "      <th>price</th>\n",
       "      <th>qty_ordered</th>\n",
       "      <th>grand_total</th>\n",
       "      <th>discount_amount</th>\n",
       "      <th>Year</th>\n",
       "      <th>Month</th>\n",
       "    </tr>\n",
       "  </thead>\n",
       "  <tbody>\n",
       "    <tr>\n",
       "      <th>item_id</th>\n",
       "      <td>1.000000</td>\n",
       "      <td>0.142304</td>\n",
       "      <td>0.033915</td>\n",
       "      <td>0.049447</td>\n",
       "      <td>0.132343</td>\n",
       "      <td>0.919445</td>\n",
       "      <td>-0.288564</td>\n",
       "    </tr>\n",
       "    <tr>\n",
       "      <th>price</th>\n",
       "      <td>0.142304</td>\n",
       "      <td>1.000000</td>\n",
       "      <td>-0.017684</td>\n",
       "      <td>0.278687</td>\n",
       "      <td>0.464005</td>\n",
       "      <td>0.130037</td>\n",
       "      <td>-0.035340</td>\n",
       "    </tr>\n",
       "    <tr>\n",
       "      <th>qty_ordered</th>\n",
       "      <td>0.033915</td>\n",
       "      <td>-0.017684</td>\n",
       "      <td>1.000000</td>\n",
       "      <td>0.760592</td>\n",
       "      <td>-0.010234</td>\n",
       "      <td>0.039865</td>\n",
       "      <td>-0.034098</td>\n",
       "    </tr>\n",
       "    <tr>\n",
       "      <th>grand_total</th>\n",
       "      <td>0.049447</td>\n",
       "      <td>0.278687</td>\n",
       "      <td>0.760592</td>\n",
       "      <td>1.000000</td>\n",
       "      <td>0.106697</td>\n",
       "      <td>0.048760</td>\n",
       "      <td>-0.021212</td>\n",
       "    </tr>\n",
       "    <tr>\n",
       "      <th>discount_amount</th>\n",
       "      <td>0.132343</td>\n",
       "      <td>0.464005</td>\n",
       "      <td>-0.010234</td>\n",
       "      <td>0.106697</td>\n",
       "      <td>1.000000</td>\n",
       "      <td>0.110622</td>\n",
       "      <td>-0.007929</td>\n",
       "    </tr>\n",
       "    <tr>\n",
       "      <th>Year</th>\n",
       "      <td>0.919445</td>\n",
       "      <td>0.130037</td>\n",
       "      <td>0.039865</td>\n",
       "      <td>0.048760</td>\n",
       "      <td>0.110622</td>\n",
       "      <td>1.000000</td>\n",
       "      <td>-0.633408</td>\n",
       "    </tr>\n",
       "    <tr>\n",
       "      <th>Month</th>\n",
       "      <td>-0.288564</td>\n",
       "      <td>-0.035340</td>\n",
       "      <td>-0.034098</td>\n",
       "      <td>-0.021212</td>\n",
       "      <td>-0.007929</td>\n",
       "      <td>-0.633408</td>\n",
       "      <td>1.000000</td>\n",
       "    </tr>\n",
       "  </tbody>\n",
       "</table>\n",
       "</div>"
      ],
      "text/plain": [
       "                  item_id     price  qty_ordered  grand_total  \\\n",
       "item_id          1.000000  0.142304  0.033915     0.049447      \n",
       "price            0.142304  1.000000 -0.017684     0.278687      \n",
       "qty_ordered      0.033915 -0.017684  1.000000     0.760592      \n",
       "grand_total      0.049447  0.278687  0.760592     1.000000      \n",
       "discount_amount  0.132343  0.464005 -0.010234     0.106697      \n",
       "Year             0.919445  0.130037  0.039865     0.048760      \n",
       "Month           -0.288564 -0.035340 -0.034098    -0.021212      \n",
       "\n",
       "                 discount_amount      Year     Month  \n",
       "item_id          0.132343         0.919445 -0.288564  \n",
       "price            0.464005         0.130037 -0.035340  \n",
       "qty_ordered     -0.010234         0.039865 -0.034098  \n",
       "grand_total      0.106697         0.048760 -0.021212  \n",
       "discount_amount  1.000000         0.110622 -0.007929  \n",
       "Year             0.110622         1.000000 -0.633408  \n",
       "Month           -0.007929        -0.633408  1.000000  "
      ]
     },
     "execution_count": 44,
     "metadata": {},
     "output_type": "execute_result"
    }
   ],
   "source": [
    "df5.corr()"
   ]
  },
  {
   "cell_type": "code",
   "execution_count": 45,
   "metadata": {},
   "outputs": [
    {
     "data": {
      "text/plain": [
       "<AxesSubplot: >"
      ]
     },
     "execution_count": 45,
     "metadata": {},
     "output_type": "execute_result"
    },
    {
     "data": {
      "image/png": "[encoded data removed]",
      "text/plain": [
       "<Figure size 640x480 with 2 Axes>"
      ]
     },
     "metadata": {},
     "output_type": "display_data"
    }
   ],
   "source": [
    "sns.heatmap(df5.corr(),cmap=\"YlGnBu\")"
   ]
  },
  {
   "attachments": {},
   "cell_type": "markdown",
   "metadata": {},
   "source": [
    "Berdasarkan hubungan korelasi di atas, dapat dilihat hubungan korelasi yang paling kuat terjadi antara kolom-kolom sebagai berikut: \n",
    "- Year dengan item_id --> hal ini berkaitan dengan trend transaksi yang meningkat setiap tahunnya.\n",
    "- grand_total dengan qty_ordered --> hal ini disebabkan karena perhitungan total bayar dipengaruhi dengan jumlah item yang dipesan.\n",
    "- discount_amount dengan price --> hal ini menunjukkan diskon yang tinggi sejalan dengan harga yang tinggi, dengan kata lain hanya item-item yang memiliki harga tinggi yang mungkin diberikan diskon yang tinggi juga."
   ]
  },
  {
   "attachments": {},
   "cell_type": "markdown",
   "metadata": {},
   "source": [
    "## **C. Data Analysis**"
   ]
  },
  {
   "attachments": {},
   "cell_type": "markdown",
   "metadata": {},
   "source": [
    "Pada tahap data analysis ini kita akan mencoba untuk menjawab beberapa pertanyaan berikut:  \n",
    "1. Kapan periode transaksi paling tinggi ?\n",
    "2. Apakah kategori produk paling laku (best-selling item) ?\n",
    "3. Apakah metode pembayaran yang paling sering digunakan ?\n",
    "4. Bagaimana kondisi status transaksi dari periode Juni 2016 hingga Agustus 2018 ?\n",
    "5. Apakah terdapat hubungan antara metode pembayaran dan status pemesanan ?\n",
    "6. Kapan periode diskon diberikan paling banyak ?  "
   ]
  },
  {
   "attachments": {},
   "cell_type": "markdown",
   "metadata": {},
   "source": [
    "**Soal No. 1**  \n",
    "Kapan periode transaksi paling tinggi ?"
   ]
  },
  {
   "attachments": {},
   "cell_type": "markdown",
   "metadata": {},
   "source": [
    "a. Dalam periode Juli 2016 sampai Agustus 2018"
   ]
  },
  {
   "cell_type": "code",
   "execution_count": 46,
   "metadata": {},
   "outputs": [
    {
     "data": {
      "image/png": "[encoded data removed]",
      "text/plain": [
       "<Figure size 1500x1000 with 1 Axes>"
      ]
     },
     "metadata": {},
     "output_type": "display_data"
    }
   ],
   "source": [
    "plt.figure(figsize=(15,10))\n",
    "i = df5.groupby(['M-Y'])['grand_total'].sum().reset_index()\n",
    "\n",
    "sns.lineplot(data= i, x = 'M-Y', y = 'grand_total')\n",
    "plt.title('Total Transaksi Bulan Juli 2016 - Agustus 2018', size = 30)\n",
    "plt.xlabel ('Periode', size = 20)\n",
    "plt.ylabel ('Total Penjualan', size = 20)\n",
    "plt.grid()"
   ]
  },
  {
   "attachments": {},
   "cell_type": "markdown",
   "metadata": {},
   "source": [
    "Transaksi tertinggi terjadi pada bulan November 2017, dapat dilihat pada tahun sebelumnya (2016), transaksi paling tinggi juga terjadi pada bulan November 2016. Hal ini kemungkinan berkaitan dengan peristiwa 'Black Friday' yang dirayakan di setiap bulan November 2011 di Pakistan. Sebagaimana dilansir pada [artikel](https://www.techjuice.pk/beyond-black-friday-why-pakistan-needs-its-own-indigenous-online-shopping-festival/), peningkatan transaksi online pada saat Black Friday disebabkan karena banyak brand besar untuk penawaran diskon dan marketing campaign (total hingga ratusan juta) untuk mempromosikan ' Black Friday' di e-commerce.  \n",
    "Hal ini didukung oleh berita yang dicetak oleh [The Express Tribune tanggal 5 November 2015](https://tribune.com.pk/story/985145/black-friday-comes-to-pakistan/), dimana memang terdapat kenaikan transaksi e-commerce pada peristiwa 'Black Friday' di Pakistan sejak tahun 2015."
   ]
  },
  {
   "attachments": {},
   "cell_type": "markdown",
   "metadata": {},
   "source": [
    "b. Rata-Rata Transaksi Per Tahun"
   ]
  },
  {
   "cell_type": "code",
   "execution_count": 47,
   "metadata": {},
   "outputs": [
    {
     "data": {
      "image/png": "[encoded data removed]",
      "text/plain": [
       "<Figure size 1000x600 with 1 Axes>"
      ]
     },
     "metadata": {},
     "output_type": "display_data"
    }
   ],
   "source": [
    "Year = [2016, 2017, 2018]\n",
    "plt.figure(figsize=(10,6))\n",
    "k= df5.groupby(['Year'])['grand_total'].mean().reset_index()\n",
    "\n",
    "ax = sns.barplot(data= k, x = 'Year', y = 'grand_total')\n",
    "plt.title('Rata-Rata Transaksi Per Tahun', size =30)\n",
    "plt.xlabel ('Periode', size = 15)\n",
    "plt.xticks(np.arange(3), Year)\n",
    "plt.ylabel ('Rata-Rata Omzet', size = 15)\n",
    "\n",
    "for i in ax.containers:\n",
    "    ax.bar_label(i, size = 15)"
   ]
  },
  {
   "attachments": {},
   "cell_type": "markdown",
   "metadata": {},
   "source": [
    "Data transaksi periode 1 Juli 2016 sampai dengan 28 Agustus 2018, memberikan jumlah data yang tidak sama setiap bulannya, dimana:  \n",
    "- tahun 2016 : terdapat 7 data\n",
    "- tahun 2017 : terdapat 12 data\n",
    "- tahun 2018 : terdapat 8 data  \n",
    " Oleh karena itu, analisa transaksi per tahun dilakukan dengan menggunakan nilai rata-rata.      \n",
    "  Berdasarkan grafik di atas dapat dilihat terjadi peningkatan rata-rata transaksi dari tahun 2016 hingga tahun 2018, hal ini didukung dengan [data lain](https://www.ceicdata.com/en/pakistan/payment-system-statistics-transactions-by-payment-cards/ecommerce-transactions-volume-total) periode Sep 2016 hingga Des 2019 yang menunjukkan profil pertumbuhan transaksi melalui e-commerce naik secara agresif hingga bulan-bulan berikutnya."
   ]
  },
  {
   "attachments": {},
   "cell_type": "markdown",
   "metadata": {},
   "source": [
    "**Soal No. 2**  \n",
    "Apakah kategori produk paling laku (best-selling item) ?"
   ]
  },
  {
   "cell_type": "code",
   "execution_count": 48,
   "metadata": {},
   "outputs": [
    {
     "data": {
      "image/png": "[encoded data removed]",
      "text/plain": [
       "<Figure size 1500x1000 with 1 Axes>"
      ]
     },
     "metadata": {},
     "output_type": "display_data"
    }
   ],
   "source": [
    "plt.figure(figsize=(15,10))\n",
    "v= df5.groupby(['category_name_1'])['qty_ordered'].sum().reset_index()\n",
    "\n",
    "ax = sns.barplot (data=v, y= 'category_name_1', x = 'qty_ordered', order=v.sort_values('qty_ordered',ascending=False).category_name_1)\n",
    "plt.title('Jumlah Transaksi per Kategori Barang', size = 30)\n",
    "plt.ylabel('Kategori Barang', size = 15)\n",
    "plt.xlabel('Quantity', size = 15)\n",
    "\n",
    "for i in ax.containers:\n",
    "    ax.bar_label(i,)"
   ]
  },
  {
   "attachments": {},
   "cell_type": "markdown",
   "metadata": {},
   "source": [
    "Berdasarkan informasi grafik di atas, dapat dilihat bahwa kategori 'Mobiles & Tablet' menduduki peringkat pertama sebagai best-selling item di e-commerce Pakistan. Hal ini didukung oleh informasi pada [surat kabar Tribune](https://tribune.com.pk/story/985145/black-friday-comes-to-pakistan/) dimana peralatan elektronik menduduki kategori retail e-commerce paling menarik di seluruh dunia, dan diikuti dengan fashion. Tingginya demand 'Mobiles & Tablets' pada e-commerce dapat disebabkan karena diskon yang dapat diberikan di e-commerce lebih besar dibandingkan di offline store."
   ]
  },
  {
   "attachments": {},
   "cell_type": "markdown",
   "metadata": {},
   "source": [
    "**Soal No. 3**  \n",
    "Apakah metode pembayaran yang paling sering digunakan ?"
   ]
  },
  {
   "cell_type": "code",
   "execution_count": 49,
   "metadata": {},
   "outputs": [
    {
     "data": {
      "image/png": "[encoded data removed]",
      "text/plain": [
       "<Figure size 640x480 with 1 Axes>"
      ]
     },
     "metadata": {},
     "output_type": "display_data"
    }
   ],
   "source": [
    "frekuensi = df5['payment_method'].value_counts().values\n",
    "metode_pembayaran = df5['payment_method'].value_counts().index\n",
    "ax = sns.barplot (data=df5, x= metode_pembayaran, y= frekuensi)\n",
    "plt.title('Frekuensi Penggunaan Metode Pembayaran')\n",
    "plt.xlabel('Metode Pembayaran')\n",
    "plt.xticks(np.arange(16), rotation = 90)\n",
    "plt.ylabel('Frekuensi')\n",
    "\n",
    "for i in ax.containers:\n",
    "    ax.bar_label(i,)"
   ]
  },
  {
   "attachments": {},
   "cell_type": "markdown",
   "metadata": {},
   "source": [
    "Dapat disimpulkan bahwa metode pembayaran paling banyak yang digunakan di e-commerce Pakistan adalah cash on delivery (cod), mengacu pada [jurnal](https://journals.sagepub.com/doi/10.1177/2158244020917392), hal ini disebabkan karena masyarakat Pakistan masih enggan untuk mengadopsi pembayaran dengan menggunakan e-payment. Keamanan yang dirasakan terhadap penipuan online dan adanya kontrol yang dimiliki customer atas barang yang dipesan diamati sebagai alasan utama yang mendorong masyarakat Pakistan lebih senang menggunakan COD.    \n",
    "Peringkat kedua diduduki oleh Easypay, berdasarkan [artikel]('https://www.southasiainvestor.com/2015/11/black-friday-sales-in-pakistan.html'), hal ini mungkin terjadi karena Easypay merupakan partner pembayaran resmi e-commerce yang menawarkan diskon tambahan 25% untuk customer yang menggunakan Easypay pada even \"Black Friday.\"\n",
    "Adapun metode pembayaran ketiga adalah [Payaxis](https://www.tpsworldwide.com/wp-content/uploads/2018/05/payaxis.pdf) yang merupakan portal pembayaran thirdparty yang menyediakan instrumen pembayaran melalui kartu, dompet digital, internet banking. "
   ]
  },
  {
   "attachments": {},
   "cell_type": "markdown",
   "metadata": {},
   "source": [
    "**Soal No. 4**  \n",
    "Bagaimana kondisi status transaksi dari periode Juli 2016 hingga Agustus 2018 ?"
   ]
  },
  {
   "cell_type": "code",
   "execution_count": 50,
   "metadata": {},
   "outputs": [
    {
     "data": {
      "image/png": "[encoded data removed]",
      "text/plain": [
       "<Figure size 640x480 with 1 Axes>"
      ]
     },
     "metadata": {},
     "output_type": "display_data"
    }
   ],
   "source": [
    "frekuensi = df5['status'].value_counts().values\n",
    "order_status = df5['status'].value_counts().index\n",
    "ax = sns.barplot (data=df5, x= order_status, y = frekuensi)\n",
    "plt.title('Frekuensi Order Status')\n",
    "plt.xlabel('Order Status')\n",
    "plt.xticks(np.arange(16), rotation = 90)\n",
    "plt.ylabel('Frekuensi')\n",
    "\n",
    "for i in ax.containers:\n",
    "    ax.bar_label(i)"
   ]
  },
  {
   "attachments": {},
   "cell_type": "markdown",
   "metadata": {},
   "source": [
    "Tingginya angka order cancel saat berbelanja melalui e-commerce di Pakistan disebabkan karena tingginya peristiwa online shop 'berbohon'g mengenai jumlah inventory, sehingga banyaknya customer yang sudah memesan namun nyatanya barang yang dipesan tidak tersedia. Adapun proses refund memakan waktu yang cukup lama hingga berminggu-minggu atau berbulan-bulan.   \n",
    "Hilangnya kepercayaan masyarakat Pakistan terhadap online shop yang dianggap 'berbohong' hanya untuk memenangkan kompetensi pasar, dapat menyebabkan penurunan jumlah customer beberapa tahun seterusnya sebagaimana dilansir pada [artikel](https://propakistani.pk/2015/05/13/online-shops-lie-about-their-inventory-and-this-is-killing-e-commerce-industry-in-pakistan/) berikut ini."
   ]
  },
  {
   "attachments": {},
   "cell_type": "markdown",
   "metadata": {},
   "source": [
    "**Soal No. 5**  \n",
    "Apakah terdapat hubungan antara metode pembayaran dan status pemesanan ?"
   ]
  },
  {
   "cell_type": "code",
   "execution_count": 51,
   "metadata": {},
   "outputs": [
    {
     "data": {
      "application/vnd.plotly.v1+json": {
       "config": {
        "plotlyServerURL": "https://plot.ly"
       },
       "data": [
        {
         "alignmentgroup": "True",
         "hovertemplate": "payment_method=Easypay<br>status=%{x}<br>count=%{y}<br>text=%{text}<extra></extra>",
         "legendgroup": "Easypay",
         "marker": {
          "color": "#636efa",
          "pattern": {
           "shape": ""
          }
         },
         "name": "Easypay",
         "offsetgroup": "Easypay",
         "orientation": "v",
         "showlegend": true,
         "text": [
          "57.24%",
          "0.01%",
          "30.07%",
          "0.00%",
          "2.65%",
          "0.23%",
          "0.03%",
          "8.92%",
          "0.86%"
         ],
         "textposition": "auto",
         "type": "bar",
         "x": [
          "canceled",
          "closed",
          "complete",
          "holded",
          "order_refunded",
          "paid",
          "pending",
          "received",
          "refund"
         ],
         "xaxis": "x",
         "y": [
          73081,
          18,
          38386,
          2,
          3377,
          293,
          33,
          11382,
          1093
         ],
         "yaxis": "y"
        },
        {
         "alignmentgroup": "True",
         "hovertemplate": "payment_method=Payaxis<br>status=%{x}<br>count=%{y}<br>text=%{text}<extra></extra>",
         "legendgroup": "Payaxis",
         "marker": {
          "color": "#EF553B",
          "pattern": {
           "shape": ""
          }
         },
         "name": "Payaxis",
         "offsetgroup": "Payaxis",
         "orientation": "v",
         "showlegend": true,
         "text": [
          "62.48%",
          "0.07%",
          "23.53%",
          "0.01%",
          "0.01%",
          "3.88%",
          "0.41%",
          "0.00%",
          "9.04%",
          "0.56%"
         ],
         "textposition": "auto",
         "type": "bar",
         "x": [
          "canceled",
          "closed",
          "complete",
          "fraud",
          "holded",
          "order_refunded",
          "paid",
          "processing",
          "received",
          "refund"
         ],
         "xaxis": "x",
         "y": [
          60103,
          71,
          22633,
          9,
          8,
          3732,
          396,
          4,
          8695,
          541
         ],
         "yaxis": "y"
        },
        {
         "alignmentgroup": "True",
         "hovertemplate": "payment_method=apg<br>status=%{x}<br>count=%{y}<br>text=%{text}<extra></extra>",
         "legendgroup": "apg",
         "marker": {
          "color": "#00cc96",
          "pattern": {
           "shape": ""
          }
         },
         "name": "apg",
         "offsetgroup": "apg",
         "orientation": "v",
         "showlegend": true,
         "text": [
          "77.42%",
          "1.54%",
          "2.39%",
          "1.14%",
          "17.35%",
          "0.17%"
         ],
         "textposition": "auto",
         "type": "bar",
         "x": [
          "canceled",
          "complete",
          "order_refunded",
          "paid",
          "received",
          "refund"
         ],
         "xaxis": "x",
         "y": [
          1361,
          27,
          42,
          20,
          305,
          3
         ],
         "yaxis": "y"
        },
        {
         "alignmentgroup": "True",
         "hovertemplate": "payment_method=bankalfalah<br>status=%{x}<br>count=%{y}<br>text=%{text}<extra></extra>",
         "legendgroup": "bankalfalah",
         "marker": {
          "color": "#ab63fa",
          "pattern": {
           "shape": ""
          }
         },
         "name": "bankalfalah",
         "offsetgroup": "bankalfalah",
         "orientation": "v",
         "showlegend": true,
         "text": [
          "70.15%",
          "0.02%",
          "2.48%",
          "0.07%",
          "3.25%",
          "0.80%",
          "0.25%",
          "0.03%",
          "22.46%",
          "0.50%"
         ],
         "textposition": "auto",
         "type": "bar",
         "x": [
          "canceled",
          "closed",
          "complete",
          "holded",
          "order_refunded",
          "paid",
          "payment_review",
          "processing",
          "received",
          "refund"
         ],
         "xaxis": "x",
         "y": [
          16125,
          5,
          571,
          15,
          746,
          183,
          57,
          8,
          5164,
          114
         ],
         "yaxis": "y"
        },
        {
         "alignmentgroup": "True",
         "hovertemplate": "payment_method=cashatdoorstep<br>status=%{x}<br>count=%{y}<br>text=%{text}<extra></extra>",
         "legendgroup": "cashatdoorstep",
         "marker": {
          "color": "#FFA15A",
          "pattern": {
           "shape": ""
          }
         },
         "name": "cashatdoorstep",
         "offsetgroup": "cashatdoorstep",
         "orientation": "v",
         "showlegend": true,
         "text": [
          "0.65%",
          "88.79%",
          "5.82%",
          "1.08%",
          "3.66%"
         ],
         "textposition": "auto",
         "type": "bar",
         "x": [
          "canceled",
          "complete",
          "order_refunded",
          "received",
          "refund"
         ],
         "xaxis": "x",
         "y": [
          3,
          412,
          27,
          5,
          17
         ],
         "yaxis": "y"
        },
        {
         "alignmentgroup": "True",
         "hovertemplate": "payment_method=cod<br>status=%{x}<br>count=%{y}<br>text=%{text}<extra></extra>",
         "legendgroup": "cod",
         "marker": {
          "color": "#19d3f3",
          "pattern": {
           "shape": ""
          }
         },
         "name": "cod",
         "offsetgroup": "cod",
         "orientation": "v",
         "showlegend": true,
         "text": [
          "7.86%",
          "0.13%",
          "1.06%",
          "54.49%",
          "0.00%",
          "0.00%",
          "17.94%",
          "0.00%",
          "0.01%",
          "16.53%",
          "1.97%"
         ],
         "textposition": "auto",
         "type": "bar",
         "x": [
          "canceled",
          "closed",
          "cod",
          "complete",
          "exchange",
          "holded",
          "order_refunded",
          "pending_paypal",
          "processing",
          "received",
          "refund"
         ],
         "xaxis": "x",
         "y": [
          20918,
          359,
          2829,
          145083,
          4,
          6,
          47768,
          7,
          20,
          44008,
          5236
         ],
         "yaxis": "y"
        },
        {
         "alignmentgroup": "True",
         "hovertemplate": "payment_method=customercredit<br>status=%{x}<br>count=%{y}<br>text=%{text}<extra></extra>",
         "legendgroup": "customercredit",
         "marker": {
          "color": "#FF6692",
          "pattern": {
           "shape": ""
          }
         },
         "name": "customercredit",
         "offsetgroup": "customercredit",
         "orientation": "v",
         "showlegend": true,
         "text": [
          "0.41%",
          "0.32%",
          "55.39%",
          "17.00%",
          "1.25%",
          "0.04%",
          "22.60%",
          "2.99%"
         ],
         "textposition": "auto",
         "type": "bar",
         "x": [
          "canceled",
          "closed",
          "complete",
          "order_refunded",
          "paid",
          "pending",
          "received",
          "refund"
         ],
         "xaxis": "x",
         "y": [
          30,
          24,
          4093,
          1256,
          92,
          3,
          1670,
          221
         ],
         "yaxis": "y"
        },
        {
         "alignmentgroup": "True",
         "hovertemplate": "payment_method=financesettlement<br>status=%{x}<br>count=%{y}<br>text=%{text}<extra></extra>",
         "legendgroup": "financesettlement",
         "marker": {
          "color": "#B6E880",
          "pattern": {
           "shape": ""
          }
         },
         "name": "financesettlement",
         "offsetgroup": "financesettlement",
         "orientation": "v",
         "showlegend": true,
         "text": [
          "6.67%",
          "60.00%",
          "6.67%",
          "26.67%"
         ],
         "textposition": "auto",
         "type": "bar",
         "x": [
          "canceled",
          "complete",
          "order_refunded",
          "refund"
         ],
         "xaxis": "x",
         "y": [
          1,
          9,
          1,
          4
         ],
         "yaxis": "y"
        },
        {
         "alignmentgroup": "True",
         "hovertemplate": "payment_method=internetbanking<br>status=%{x}<br>count=%{y}<br>text=%{text}<extra></extra>",
         "legendgroup": "internetbanking",
         "marker": {
          "color": "#FF97FF",
          "pattern": {
           "shape": ""
          }
         },
         "name": "internetbanking",
         "offsetgroup": "internetbanking",
         "orientation": "v",
         "showlegend": true,
         "text": [
          "59.55%",
          "0.91%",
          "33.86%",
          "3.41%",
          "2.27%"
         ],
         "textposition": "auto",
         "type": "bar",
         "x": [
          "canceled",
          "closed",
          "complete",
          "order_refunded",
          "refund"
         ],
         "xaxis": "x",
         "y": [
          262,
          4,
          149,
          15,
          10
         ],
         "yaxis": "y"
        },
        {
         "alignmentgroup": "True",
         "hovertemplate": "payment_method=jazzwallet<br>status=%{x}<br>count=%{y}<br>text=%{text}<extra></extra>",
         "legendgroup": "jazzwallet",
         "marker": {
          "color": "#FECB52",
          "pattern": {
           "shape": ""
          }
         },
         "name": "jazzwallet",
         "offsetgroup": "jazzwallet",
         "orientation": "v",
         "showlegend": true,
         "text": [
          "49.61%",
          "0.01%",
          "35.86%",
          "2.42%",
          "0.34%",
          "0.02%",
          "0.00%",
          "10.94%",
          "0.80%"
         ],
         "textposition": "auto",
         "type": "bar",
         "x": [
          "canceled",
          "closed",
          "complete",
          "order_refunded",
          "paid",
          "pending",
          "processing",
          "received",
          "refund"
         ],
         "xaxis": "x",
         "y": [
          24497,
          4,
          17708,
          1193,
          166,
          12,
          1,
          5403,
          394
         ],
         "yaxis": "y"
        },
        {
         "alignmentgroup": "True",
         "hovertemplate": "payment_method=marketingexpense<br>status=%{x}<br>count=%{y}<br>text=%{text}<extra></extra>",
         "legendgroup": "marketingexpense",
         "marker": {
          "color": "#636efa",
          "pattern": {
           "shape": ""
          }
         },
         "name": "marketingexpense",
         "offsetgroup": "marketingexpense",
         "orientation": "v",
         "showlegend": true,
         "text": [
          "66.67%",
          "33.33%"
         ],
         "textposition": "auto",
         "type": "bar",
         "x": [
          "complete",
          "received"
         ],
         "xaxis": "x",
         "y": [
          4,
          2
         ],
         "yaxis": "y"
        },
        {
         "alignmentgroup": "True",
         "hovertemplate": "payment_method=mcblite<br>status=%{x}<br>count=%{y}<br>text=%{text}<extra></extra>",
         "legendgroup": "mcblite",
         "marker": {
          "color": "#EF553B",
          "pattern": {
           "shape": ""
          }
         },
         "name": "mcblite",
         "offsetgroup": "mcblite",
         "orientation": "v",
         "showlegend": true,
         "text": [
          "31.33%",
          "0.19%",
          "41.46%",
          "25.14%",
          "0.38%",
          "1.50%"
         ],
         "textposition": "auto",
         "type": "bar",
         "x": [
          "canceled",
          "closed",
          "complete",
          "order_refunded",
          "received",
          "refund"
         ],
         "xaxis": "x",
         "y": [
          167,
          1,
          221,
          134,
          2,
          8
         ],
         "yaxis": "y"
        },
        {
         "alignmentgroup": "True",
         "hovertemplate": "payment_method=mygateway<br>status=%{x}<br>count=%{y}<br>text=%{text}<extra></extra>",
         "legendgroup": "mygateway",
         "marker": {
          "color": "#00cc96",
          "pattern": {
           "shape": ""
          }
         },
         "name": "mygateway",
         "offsetgroup": "mygateway",
         "orientation": "v",
         "showlegend": true,
         "text": [
          "97.64%",
          "2.20%",
          "0.16%"
         ],
         "textposition": "auto",
         "type": "bar",
         "x": [
          "canceled",
          "complete",
          "order_refunded"
         ],
         "xaxis": "x",
         "y": [
          620,
          14,
          1
         ],
         "yaxis": "y"
        },
        {
         "alignmentgroup": "True",
         "hovertemplate": "payment_method=productcredit<br>status=%{x}<br>count=%{y}<br>text=%{text}<extra></extra>",
         "legendgroup": "productcredit",
         "marker": {
          "color": "#ab63fa",
          "pattern": {
           "shape": ""
          }
         },
         "name": "productcredit",
         "offsetgroup": "productcredit",
         "orientation": "v",
         "showlegend": true,
         "text": [
          "1.80%",
          "1.80%",
          "74.77%",
          "8.11%",
          "13.51%"
         ],
         "textposition": "auto",
         "type": "bar",
         "x": [
          "canceled",
          "closed",
          "complete",
          "order_refunded",
          "refund"
         ],
         "xaxis": "x",
         "y": [
          2,
          2,
          83,
          9,
          15
         ],
         "yaxis": "y"
        },
        {
         "alignmentgroup": "True",
         "hovertemplate": "payment_method=ublcreditcard<br>status=%{x}<br>count=%{y}<br>text=%{text}<extra></extra>",
         "legendgroup": "ublcreditcard",
         "marker": {
          "color": "#FFA15A",
          "pattern": {
           "shape": ""
          }
         },
         "name": "ublcreditcard",
         "offsetgroup": "ublcreditcard",
         "orientation": "v",
         "showlegend": true,
         "text": [
          "74.58%",
          "0.48%",
          "20.82%",
          "0.12%",
          "2.30%",
          "0.73%",
          "0.97%"
         ],
         "textposition": "auto",
         "type": "bar",
         "x": [
          "canceled",
          "closed",
          "complete",
          "fraud",
          "order_refunded",
          "received",
          "refund"
         ],
         "xaxis": "x",
         "y": [
          616,
          4,
          172,
          1,
          19,
          6,
          8
         ],
         "yaxis": "y"
        }
       ],
       "layout": {
        "barmode": "relative",
        "height": 600,
        "legend": {
         "title": {
          "text": "payment_method"
         },
         "tracegroupgap": 0
        },
        "template": {
         "data": {
          "bar": [
           {
            "error_x": {
             "color": "#2a3f5f"
            },
            "error_y": {
             "color": "#2a3f5f"
            },
            "marker": {
             "line": {
              "color": "#E5ECF6",
              "width": 0.5
             },
             "pattern": {
              "fillmode": "overlay",
              "size": 10,
              "solidity": 0.2
             }
            },
            "type": "bar"
           }
          ],
          "barpolar": [
           {
            "marker": {
             "line": {
              "color": "#E5ECF6",
              "width": 0.5
             },
             "pattern": {
              "fillmode": "overlay",
              "size": 10,
              "solidity": 0.2
             }
            },
            "type": "barpolar"
           }
          ],
          "carpet": [
           {
            "aaxis": {
             "endlinecolor": "#2a3f5f",
             "gridcolor": "white",
             "linecolor": "white",
             "minorgridcolor": "white",
             "startlinecolor": "#2a3f5f"
            },
            "baxis": {
             "endlinecolor": "#2a3f5f",
             "gridcolor": "white",
             "linecolor": "white",
             "minorgridcolor": "white",
             "startlinecolor": "#2a3f5f"
            },
            "type": "carpet"
           }
          ],
          "choropleth": [
           {
            "colorbar": {
             "outlinewidth": 0,
             "ticks": ""
            },
            "type": "choropleth"
           }
          ],
          "contour": [
           {
            "colorbar": {
             "outlinewidth": 0,
             "ticks": ""
            },
            "colorscale": [
             [
              0,
              "#0d0887"
             ],
             [
              0.1111111111111111,
              "#46039f"
             ],
             [
              0.2222222222222222,
              "#7201a8"
             ],
             [
              0.3333333333333333,
              "#9c179e"
             ],
             [
              0.4444444444444444,
              "#bd3786"
             ],
             [
              0.5555555555555556,
              "#d8576b"
             ],
             [
              0.6666666666666666,
              "#ed7953"
             ],
             [
              0.7777777777777778,
              "#fb9f3a"
             ],
             [
              0.8888888888888888,
              "#fdca26"
             ],
             [
              1,
              "#f0f921"
             ]
            ],
            "type": "contour"
           }
          ],
          "contourcarpet": [
           {
            "colorbar": {
             "outlinewidth": 0,
             "ticks": ""
            },
            "type": "contourcarpet"
           }
          ],
          "heatmap": [
           {
            "colorbar": {
             "outlinewidth": 0,
             "ticks": ""
            },
            "colorscale": [
             [
              0,
              "#0d0887"
             ],
             [
              0.1111111111111111,
              "#46039f"
             ],
             [
              0.2222222222222222,
              "#7201a8"
             ],
             [
              0.3333333333333333,
              "#9c179e"
             ],
             [
              0.4444444444444444,
              "#bd3786"
             ],
             [
              0.5555555555555556,
              "#d8576b"
             ],
             [
              0.6666666666666666,
              "#ed7953"
             ],
             [
              0.7777777777777778,
              "#fb9f3a"
             ],
             [
              0.8888888888888888,
              "#fdca26"
             ],
             [
              1,
              "#f0f921"
             ]
            ],
            "type": "heatmap"
           }
          ],
          "heatmapgl": [
           {
            "colorbar": {
             "outlinewidth": 0,
             "ticks": ""
            },
            "colorscale": [
             [
              0,
              "#0d0887"
             ],
             [
              0.1111111111111111,
              "#46039f"
             ],
             [
              0.2222222222222222,
              "#7201a8"
             ],
             [
              0.3333333333333333,
              "#9c179e"
             ],
             [
              0.4444444444444444,
              "#bd3786"
             ],
             [
              0.5555555555555556,
              "#d8576b"
             ],
             [
              0.6666666666666666,
              "#ed7953"
             ],
             [
              0.7777777777777778,
              "#fb9f3a"
             ],
             [
              0.8888888888888888,
              "#fdca26"
             ],
             [
              1,
              "#f0f921"
             ]
            ],
            "type": "heatmapgl"
           }
          ],
          "histogram": [
           {
            "marker": {
             "pattern": {
              "fillmode": "overlay",
              "size": 10,
              "solidity": 0.2
             }
            },
            "type": "histogram"
           }
          ],
          "histogram2d": [
           {
            "colorbar": {
             "outlinewidth": 0,
             "ticks": ""
            },
            "colorscale": [
             [
              0,
              "#0d0887"
             ],
             [
              0.1111111111111111,
              "#46039f"
             ],
             [
              0.2222222222222222,
              "#7201a8"
             ],
             [
              0.3333333333333333,
              "#9c179e"
             ],
             [
              0.4444444444444444,
              "#bd3786"
             ],
             [
              0.5555555555555556,
              "#d8576b"
             ],
             [
              0.6666666666666666,
              "#ed7953"
             ],
             [
              0.7777777777777778,
              "#fb9f3a"
             ],
             [
              0.8888888888888888,
              "#fdca26"
             ],
             [
              1,
              "#f0f921"
             ]
            ],
            "type": "histogram2d"
           }
          ],
          "histogram2dcontour": [
           {
            "colorbar": {
             "outlinewidth": 0,
             "ticks": ""
            },
            "colorscale": [
             [
              0,
              "#0d0887"
             ],
             [
              0.1111111111111111,
              "#46039f"
             ],
             [
              0.2222222222222222,
              "#7201a8"
             ],
             [
              0.3333333333333333,
              "#9c179e"
             ],
             [
              0.4444444444444444,
              "#bd3786"
             ],
             [
              0.5555555555555556,
              "#d8576b"
             ],
             [
              0.6666666666666666,
              "#ed7953"
             ],
             [
              0.7777777777777778,
              "#fb9f3a"
             ],
             [
              0.8888888888888888,
              "#fdca26"
             ],
             [
              1,
              "#f0f921"
             ]
            ],
            "type": "histogram2dcontour"
           }
          ],
          "mesh3d": [
           {
            "colorbar": {
             "outlinewidth": 0,
             "ticks": ""
            },
            "type": "mesh3d"
           }
          ],
          "parcoords": [
           {
            "line": {
             "colorbar": {
              "outlinewidth": 0,
              "ticks": ""
             }
            },
            "type": "parcoords"
           }
          ],
          "pie": [
           {
            "automargin": true,
            "type": "pie"
           }
          ],
          "scatter": [
           {
            "fillpattern": {
             "fillmode": "overlay",
             "size": 10,
             "solidity": 0.2
            },
            "type": "scatter"
           }
          ],
          "scatter3d": [
           {
            "line": {
             "colorbar": {
              "outlinewidth": 0,
              "ticks": ""
             }
            },
            "marker": {
             "colorbar": {
              "outlinewidth": 0,
              "ticks": ""
             }
            },
            "type": "scatter3d"
           }
          ],
          "scattercarpet": [
           {
            "marker": {
             "colorbar": {
              "outlinewidth": 0,
              "ticks": ""
             }
            },
            "type": "scattercarpet"
           }
          ],
          "scattergeo": [
           {
            "marker": {
             "colorbar": {
              "outlinewidth": 0,
              "ticks": ""
             }
            },
            "type": "scattergeo"
           }
          ],
          "scattergl": [
           {
            "marker": {
             "colorbar": {
              "outlinewidth": 0,
              "ticks": ""
             }
            },
            "type": "scattergl"
           }
          ],
          "scattermapbox": [
           {
            "marker": {
             "colorbar": {
              "outlinewidth": 0,
              "ticks": ""
             }
            },
            "type": "scattermapbox"
           }
          ],
          "scatterpolar": [
           {
            "marker": {
             "colorbar": {
              "outlinewidth": 0,
              "ticks": ""
             }
            },
            "type": "scatterpolar"
           }
          ],
          "scatterpolargl": [
           {
            "marker": {
             "colorbar": {
              "outlinewidth": 0,
              "ticks": ""
             }
            },
            "type": "scatterpolargl"
           }
          ],
          "scatterternary": [
           {
            "marker": {
             "colorbar": {
              "outlinewidth": 0,
              "ticks": ""
             }
            },
            "type": "scatterternary"
           }
          ],
          "surface": [
           {
            "colorbar": {
             "outlinewidth": 0,
             "ticks": ""
            },
            "colorscale": [
             [
              0,
              "#0d0887"
             ],
             [
              0.1111111111111111,
              "#46039f"
             ],
             [
              0.2222222222222222,
              "#7201a8"
             ],
             [
              0.3333333333333333,
              "#9c179e"
             ],
             [
              0.4444444444444444,
              "#bd3786"
             ],
             [
              0.5555555555555556,
              "#d8576b"
             ],
             [
              0.6666666666666666,
              "#ed7953"
             ],
             [
              0.7777777777777778,
              "#fb9f3a"
             ],
             [
              0.8888888888888888,
              "#fdca26"
             ],
             [
              1,
              "#f0f921"
             ]
            ],
            "type": "surface"
           }
          ],
          "table": [
           {
            "cells": {
             "fill": {
              "color": "#EBF0F8"
             },
             "line": {
              "color": "white"
             }
            },
            "header": {
             "fill": {
              "color": "#C8D4E3"
             },
             "line": {
              "color": "white"
             }
            },
            "type": "table"
           }
          ]
         },
         "layout": {
          "annotationdefaults": {
           "arrowcolor": "#2a3f5f",
           "arrowhead": 0,
           "arrowwidth": 1
          },
          "autotypenumbers": "strict",
          "coloraxis": {
           "colorbar": {
            "outlinewidth": 0,
            "ticks": ""
           }
          },
          "colorscale": {
           "diverging": [
            [
             0,
             "#8e0152"
            ],
            [
             0.1,
             "#c51b7d"
            ],
            [
             0.2,
             "#de77ae"
            ],
            [
             0.3,
             "#f1b6da"
            ],
            [
             0.4,
             "#fde0ef"
            ],
            [
             0.5,
             "#f7f7f7"
            ],
            [
             0.6,
             "#e6f5d0"
            ],
            [
             0.7,
             "#b8e186"
            ],
            [
             0.8,
             "#7fbc41"
            ],
            [
             0.9,
             "#4d9221"
            ],
            [
             1,
             "#276419"
            ]
           ],
           "sequential": [
            [
             0,
             "#0d0887"
            ],
            [
             0.1111111111111111,
             "#46039f"
            ],
            [
             0.2222222222222222,
             "#7201a8"
            ],
            [
             0.3333333333333333,
             "#9c179e"
            ],
            [
             0.4444444444444444,
             "#bd3786"
            ],
            [
             0.5555555555555556,
             "#d8576b"
            ],
            [
             0.6666666666666666,
             "#ed7953"
            ],
            [
             0.7777777777777778,
             "#fb9f3a"
            ],
            [
             0.8888888888888888,
             "#fdca26"
            ],
            [
             1,
             "#f0f921"
            ]
           ],
           "sequentialminus": [
            [
             0,
             "#0d0887"
            ],
            [
             0.1111111111111111,
             "#46039f"
            ],
            [
             0.2222222222222222,
             "#7201a8"
            ],
            [
             0.3333333333333333,
             "#9c179e"
            ],
            [
             0.4444444444444444,
             "#bd3786"
            ],
            [
             0.5555555555555556,
             "#d8576b"
            ],
            [
             0.6666666666666666,
             "#ed7953"
            ],
            [
             0.7777777777777778,
             "#fb9f3a"
            ],
            [
             0.8888888888888888,
             "#fdca26"
            ],
            [
             1,
             "#f0f921"
            ]
           ]
          },
          "colorway": [
           "#636efa",
           "#EF553B",
           "#00cc96",
           "#ab63fa",
           "#FFA15A",
           "#19d3f3",
           "#FF6692",
           "#B6E880",
           "#FF97FF",
           "#FECB52"
          ],
          "font": {
           "color": "#2a3f5f"
          },
          "geo": {
           "bgcolor": "white",
           "lakecolor": "white",
           "landcolor": "#E5ECF6",
           "showlakes": true,
           "showland": true,
           "subunitcolor": "white"
          },
          "hoverlabel": {
           "align": "left"
          },
          "hovermode": "closest",
          "mapbox": {
           "style": "light"
          },
          "paper_bgcolor": "white",
          "plot_bgcolor": "#E5ECF6",
          "polar": {
           "angularaxis": {
            "gridcolor": "white",
            "linecolor": "white",
            "ticks": ""
           },
           "bgcolor": "#E5ECF6",
           "radialaxis": {
            "gridcolor": "white",
            "linecolor": "white",
            "ticks": ""
           }
          },
          "scene": {
           "xaxis": {
            "backgroundcolor": "#E5ECF6",
            "gridcolor": "white",
            "gridwidth": 2,
            "linecolor": "white",
            "showbackground": true,
            "ticks": "",
            "zerolinecolor": "white"
           },
           "yaxis": {
            "backgroundcolor": "#E5ECF6",
            "gridcolor": "white",
            "gridwidth": 2,
            "linecolor": "white",
            "showbackground": true,
            "ticks": "",
            "zerolinecolor": "white"
           },
           "zaxis": {
            "backgroundcolor": "#E5ECF6",
            "gridcolor": "white",
            "gridwidth": 2,
            "linecolor": "white",
            "showbackground": true,
            "ticks": "",
            "zerolinecolor": "white"
           }
          },
          "shapedefaults": {
           "line": {
            "color": "#2a3f5f"
           }
          },
          "ternary": {
           "aaxis": {
            "gridcolor": "white",
            "linecolor": "white",
            "ticks": ""
           },
           "baxis": {
            "gridcolor": "white",
            "linecolor": "white",
            "ticks": ""
           },
           "bgcolor": "#E5ECF6",
           "caxis": {
            "gridcolor": "white",
            "linecolor": "white",
            "ticks": ""
           }
          },
          "title": {
           "x": 0.05
          },
          "xaxis": {
           "automargin": true,
           "gridcolor": "white",
           "linecolor": "white",
           "ticks": "",
           "title": {
            "standoff": 15
           },
           "zerolinecolor": "white",
           "zerolinewidth": 2
          },
          "yaxis": {
           "automargin": true,
           "gridcolor": "white",
           "linecolor": "white",
           "ticks": "",
           "title": {
            "standoff": 15
           },
           "zerolinecolor": "white",
           "zerolinewidth": 2
          }
         }
        },
        "title": {
         "text": "Hubungan Metode Pembayaran dengan Status Pemesanan"
        },
        "xaxis": {
         "anchor": "y",
         "domain": [
          0,
          1
         ],
         "title": {
          "text": "status"
         }
        },
        "yaxis": {
         "anchor": "x",
         "domain": [
          0,
          1
         ],
         "title": {
          "text": "count"
         }
        }
       }
      }
     },
     "metadata": {},
     "output_type": "display_data"
    },
    {
     "data": {
      "text/plain": [
       "<Figure size 1500x1000 with 0 Axes>"
      ]
     },
     "metadata": {},
     "output_type": "display_data"
    }
   ],
   "source": [
    "plt.figure(figsize=(15,10))\n",
    "new_tab = df5[['payment_method', 'status']]\n",
    "stack = new_tab.groupby(['payment_method','status']).size().reset_index(name='count')\n",
    "stack['Percentage'] = 100 * stack['count'] / stack.groupby('payment_method')['count'].transform('sum')\n",
    "fig = px.bar(stack, x=\"status\", y=\"count\", color=\"payment_method\", text=stack['Percentage'].apply(lambda x: '{0:1.2f}%'.format(x)), title=\"Hubungan Metode Pembayaran dengan Status Pemesanan\", height=600)\n",
    "fig.show()"
   ]
  },
  {
   "attachments": {},
   "cell_type": "markdown",
   "metadata": {},
   "source": [
    "Berdasarkan grafik di atas, dapat disimpulkan bahwa order complete didominasi dengan pembayaran COD, hal ini sesuai dengan pernyataan bahwa metode pembayaran COD masih mendominasi transaksi e-commerce di Pakistan. \n",
    "Sedangkan status transaksi cancel, paling banyak terjadi pada metode pembayaran Payaxis dan Easypay bukan dari COD, hal ini sesuai dengan informasi pada [artikel](https://www.southasiainvestor.com/2015/11/black-friday-sales-in-pakistan.html) dimana banyak masyarakat yang mengalami order cancelled karena online shop dianggap 'berbohong' terkait jumlah inventory item yang dijual atau bahkan sedang sale jika menggunakan metode pembayaran tertentu (misal: Easypay)."
   ]
  },
  {
   "attachments": {},
   "cell_type": "markdown",
   "metadata": {},
   "source": [
    "**Soal No. 6**  \n",
    "Kapan periode diskon diberikan paling banyak ?"
   ]
  },
  {
   "attachments": {},
   "cell_type": "markdown",
   "metadata": {},
   "source": [
    "a. Dalam periode Juli 2016 sampai Agustus 2018"
   ]
  },
  {
   "cell_type": "code",
   "execution_count": 52,
   "metadata": {},
   "outputs": [
    {
     "data": {
      "image/png": "[encoded data removed]",
      "text/plain": [
       "<Figure size 1500x1000 with 1 Axes>"
      ]
     },
     "metadata": {},
     "output_type": "display_data"
    }
   ],
   "source": [
    "plt.figure(figsize=(15,10))\n",
    "l = df5.groupby(['M-Y'])['discount_amount'].sum().reset_index()\n",
    "\n",
    "sns.lineplot(data= l, x = 'M-Y', y = 'discount_amount')\n",
    "plt.title('Total Diskon Bulan Juli 2016 - Agustus 2018', size = 30)\n",
    "plt.xlabel ('Periode', size = 20)\n",
    "plt.ylabel ('Total Diskon', size = 20)\n",
    "plt.grid()"
   ]
  },
  {
   "attachments": {},
   "cell_type": "markdown",
   "metadata": {},
   "source": [
    "Total diskon diberikan paling tinggi pada bulan November 2017, dimana hal ini sesuai dengan informasi yang disampaikan pada soal no. 1 bahwa pada bulan November bertepatan dengan peristiwa 'black_friday'. Dilansir pada [artikel](https://creativekhadija.com/2017/11/popular-brands-offering-black-friday-deals-2017-pakistan/) berikut ini, dimana semua online shop berlomba-lomba memberikan 'Mega Diskon' pada saat peristiwa Black Friday."
   ]
  },
  {
   "attachments": {},
   "cell_type": "markdown",
   "metadata": {},
   "source": [
    "b. Rata-rata diskon per tahun"
   ]
  },
  {
   "cell_type": "code",
   "execution_count": 53,
   "metadata": {},
   "outputs": [
    {
     "data": {
      "image/png": "[encoded data removed]",
      "text/plain": [
       "<Figure size 1000x600 with 1 Axes>"
      ]
     },
     "metadata": {},
     "output_type": "display_data"
    }
   ],
   "source": [
    "Year = [2016, 2017, 2018]\n",
    "plt.figure(figsize=(10,6))\n",
    "n= df5.groupby(['Year'])['discount_amount'].mean().reset_index()\n",
    "\n",
    "ax = sns.barplot(data= n, x = 'Year', y = 'discount_amount')\n",
    "plt.title('Rata-Rata Diskon Per Tahun')\n",
    "plt.xlabel ('Periode')\n",
    "plt.xticks(np.arange(3), Year)\n",
    "plt.ylabel ('Rata-Rata Diskon')\n",
    "\n",
    "for i in ax.containers:\n",
    "    ax.bar_label(i, size = 15)"
   ]
  },
  {
   "attachments": {},
   "cell_type": "markdown",
   "metadata": {},
   "source": [
    "Berdasarkan grafik di atas, diperoleh informasi bahwa jumlah diskon yang diberikan setiap tahunnya mengalami peningkatan, hal ini menunjukkan semakin banyak brand dan online shop di Pakistan yang mulai masuk ke e-commerce dan aktif berkontribusi memberikan diskon yang besar."
   ]
  },
  {
   "attachments": {},
   "cell_type": "markdown",
   "metadata": {},
   "source": [
    "## **D. Kesimpulan**"
   ]
  },
  {
   "attachments": {},
   "cell_type": "markdown",
   "metadata": {},
   "source": [
    "Berdasarkan hasil analisa yang dilakukan, dapat kita tarik kesimpulan sebagai berikut:\n",
    "1. Penjualan tertinggi terjadi pada bulan November dimana bertepatan dengan peristiwa 'Black Friday'. Adapun terdapat peningkatan transaksi e-commerce dari tahun ke tahun.\n",
    "2. Kategori produk yang paling laku adalah 'Mobiles & Tablet' dengan perbandingan nilai yang sangat jauh dibandingkan kategori lainnya, seperti fashion.\n",
    "3. Top 3 metode pembayaran antara lain: COD, Easypay, Payaxis, dimana ketiga pembayaran tersebut sudah dipahami oleh masyarakat sejak lama serta menggaransi rasa aman dan nyaman saat berbelanja.\n",
    "4. Tingginya angka 'order canceled' disebabkan oleh karena online shop yang tidak melakukan penyesuaian stok inventory dengan stok yang tercantum di website, terkait hal ini online shop perlu memperbaiki sistem pencatatan stok opname, sehingga online shop tidak kehilangan customer.\n",
    "5. Status 'order complete' paling banyak terjadi pada metode pembayaran 'cod', adapun metode 'order canceled' justru paling banyak terjadi pada metode pembayaran menggunakan 'easypay' dan 'payaxis'. Lamanya waktu tunggu untuk proses refund dana yang 'order cancel' dapat menyebabkan customer tidak tertarik berbelanja online lagi.\n",
    "6. Jumlah diskon tertinggi diberikan pada bulan November 2011, hal ini sesuai dengan peristiwa 'Black Friday'. Terjadi peningkatan jumlah diskon dari tahun ke tahun menunjukkan banyaknya online shop yang ikut berpartisipasi memberikan diskon pada saat peristiwa 'Black Friday'.\n"
   ]
  },
  {
   "attachments": {},
   "cell_type": "markdown",
   "metadata": {},
   "source": [
    "## **E. Rekomendasi**"
   ]
  },
  {
   "attachments": {},
   "cell_type": "markdown",
   "metadata": {},
   "source": [
    "Transaksi e-commerce di Pakistan menunjukkan profil yang naik dari tahun ke tahun memberikan sinyal positif untuk dapat memulai business di e-commerce Pakistan, adapun berikut adalah rekomendasi kami:\n",
    "1. Pengusaha dapat memanfaatkan hari libur nasional atau peristiwa seperti Black Friday untuk dapat masuk ke dalam pasar. Pada hari-hari besar seperti Natal, tahun baru, lebaran, Black-Friday, atau even bulanan seperti (1.1 , 2.2, ..., 12.12) juga merupakan waktu yang paling baik untuk mempromosikan produk.\n",
    "2. Item yang disarankan untuk dijual adalah gadget dikarenakan pasarnya sangat mendominasi e-commerce.\n",
    "3. Dalam memilih e-commerce, pastikan metode pembayaran menggunakan metode COD, easypay, dan payaxis sudah dapat digunakan di e-commerce tersebut.\n",
    "4. Diskon yang besar dan berkala akan meningkatkan trafic customer ke toko dan produk kita, serta membuat toko kita lebih unggul dibandingkan toko lainnya.\n",
    "Adapun diskon dapat diberikan dalam bentuk: reward pendaftaran, reward first user, reward dengan minimal belanja berupa voucher yang dapat digunakan pada pembelanjaan berikutnya akan meningkatkan kemungkinan adanya transaksi kedua dan seterusnya.\n",
    "5. Untuk mencegah tingginya angka 'ordered canceled', selalu pastikan stok opname barang inventory sesuai dengan stok website, sehingga konversi customer pindah ke toko lain berkurang.\n",
    "6. Selalu berikan service yang baik ke customer dalam rangka meningkatkan loyalitas customer dan membuat toko kita lebih unggul dibandingkan toko lainnya. "
   ]
  }
 ],
 "metadata": {
  "kernelspec": {
   "display_name": "Python 3",
   "language": "python",
   "name": "python3"
  },
  "language_info": {
   "codemirror_mode": {
    "name": "ipython",
    "version": 3
   },
   "file_extension": ".py",
   "mimetype": "text/x-python",
   "name": "python",
   "nbconvert_exporter": "python",
   "pygments_lexer": "ipython3",
   "version": "3.10.8"
  },
  "orig_nbformat": 4,
  "vscode": {
   "interpreter": {
    "hash": "4511b0b4c24f3ebd6a0b6c402da958b135ebee0fd69653f322cbed2bb7d7bdf3"
   }
  }
 },
 "nbformat": 4,
 "nbformat_minor": 2
}
